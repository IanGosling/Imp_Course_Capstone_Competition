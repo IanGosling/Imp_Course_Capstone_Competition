{
 "cells": [
  {
   "cell_type": "code",
   "execution_count": 9,
   "id": "74888cb9-8c3a-4910-9050-c1703305b532",
   "metadata": {},
   "outputs": [],
   "source": [
    "import numpy as np\n",
    "import matplotlib.pyplot as plt\n",
    "from scipy.spatial import KDTree\n",
    "import itertools\n",
    "from mpl_toolkits.mplot3d import Axes3D  # Import the 3D plotting module\n"
   ]
  },
  {
   "cell_type": "code",
   "execution_count": 5,
   "id": "48effe80-3313-4b1a-9a6f-32b7dd91a881",
   "metadata": {},
   "outputs": [
    {
     "name": "stdout",
     "output_type": "stream",
     "text": [
      "[-22.10828779 -14.60139663 -11.69993246 -16.05376511 -10.06963343\n",
      " -15.48708254 -12.68168498 -16.02639977 -17.04923465 -12.74176599\n",
      " -27.31639636 -13.52764887 -16.6791152  -16.50715856 -17.81799934\n",
      " -26.56182083 -12.75832422 -19.44155762 -28.90327367 -13.70274694\n",
      " -29.4270914  -11.56574199 -26.85778644  -7.96677535  -6.70208925\n",
      " -32.62566022 -19.98949793  -4.02554228 -13.12278233 -23.1394284 ]\n"
     ]
    }
   ],
   "source": [
    "# Import inputs and outputs\n",
    "inputs = np.load('initial_inputs.npy')\n",
    "outputs = np.load('initial_outputs.npy')\n",
    "print(outputs)"
   ]
  },
  {
   "cell_type": "code",
   "execution_count": 6,
   "id": "084d67b6-3505-4912-93c4-2954f5ac5305",
   "metadata": {},
   "outputs": [
    {
     "data": {
      "image/png": "[encoded data removed]",
      "text/plain": [
       "<Figure size 800x800 with 1 Axes>"
      ]
     },
     "metadata": {},
     "output_type": "display_data"
    }
   ],
   "source": [
    "#visualise 2-D inputs\n",
    "x = inputs[:, 0]  # x coordinates\n",
    "y = inputs[:, 1]  # y coordinates\n",
    "\n",
    "plt.figure(figsize=(8, 8))  # Set the figure size\n",
    "plt.scatter(x, y, color='blue', alpha=0.5)  # Create a scatter plot\n",
    "plt.title('Scatter Plot of Inputs')  # Set the title of the plot\n",
    "plt.xlabel('Input Feature 1')  # Set the x-axis label\n",
    "plt.ylabel('Input Feature 2')  # Set the y-axis label\n",
    "plt.grid(True)  # Enable grid\n",
    "plt.show()  # Display the plot\n",
    "\n",
    "\n"
   ]
  },
  {
   "cell_type": "code",
   "execution_count": 7,
   "id": "663ab71a-288e-4a5c-bb30-835b65f9a79f",
   "metadata": {},
   "outputs": [],
   "source": [
    "#set up functions\n",
    "import numpy as np\n",
    "\n",
    "def generate_grid(n, resolution):\n",
    "    num_points = int(1 / resolution) + 1\n",
    "    grid = np.mgrid[[slice(0, 1, 1j*num_points) for _ in range(n)]]\n",
    "    grid = grid.reshape(n, -1).T  # Reshape to have n columns\n",
    "    return grid\n",
    "\n",
    "def generate_binary_combinations(n):\n",
    "    # Use itertools.product to generate combinations and convert to a NumPy array\n",
    "    combinations = np.array(list(itertools.product([0, 1], repeat=n)))\n",
    "    return combinations\n"
   ]
  },
  {
   "cell_type": "code",
   "execution_count": 8,
   "id": "e961087e-e744-467e-b5cf-1092291c5096",
   "metadata": {},
   "outputs": [
    {
     "name": "stdout",
     "output_type": "stream",
     "text": [
      "Added farthest point: [0.193744, 0.682266, 0.875898, 0.571914]\n",
      "Added farthest point: [0.096872, 0.581133, 0.742949, 0.785957]\n",
      "Added farthest point: [0.250000, 1.000000, 1.000000, 0.125000]\n",
      "Added farthest point: [0.869307, 0.241051, 0.734683, 0.501985]\n",
      "Added farthest point: [0.652405, 0.406982, 0.867655, 0.904046]\n",
      "Added farthest point: [1.000000, 0.140000, 0.000000, 0.230000]\n",
      "Added farthest point: [0.538883, 0.329386, 0.212913, 0.124504]\n",
      "Added farthest point: [0.723491, 0.862814, 0.087702, 0.585847]\n",
      "Added farthest point: [0.313565, 0.688277, 0.108620, 0.979900]\n",
      "Added farthest point: [0.000000, 0.250000, 0.995000, 0.070000]\n"
     ]
    }
   ],
   "source": [
    "\n",
    "# Number of dimensions\n",
    "n = 4  \n",
    "corners = generate_binary_combinations(n)\n",
    "\n",
    "# Initial set of inputs using corners to force choice of points farther from the surface of the hypothesis space\n",
    "initial_np = np.load('initial_inputs.npy')\n",
    "initial_inputs = np.vstack([initial_np, corners])  # Append to the inputs\n",
    "inputs = initial_inputs.copy()  # Start with the initial inputs\n",
    "\n",
    "# Number of farthest points to find\n",
    "num_far_points = 10\n",
    "\n",
    "# Resolution for the grid\n",
    "resolution = 0.01\n",
    "\n",
    "# Generate initial grid\n",
    "grid_points = generate_grid(n, resolution)\n",
    "\n",
    "# List to store newly added farthest points\n",
    "new_points = []\n",
    "\n",
    "for _ in range(num_far_points):\n",
    "    tree = KDTree(inputs)  # Create a KD-tree for the current inputs\n",
    "    distances = tree.query(grid_points)[0]  # Find distances to nearest input points\n",
    "    max_index = np.argmax(distances)  # Index of the farthest point\n",
    "    farthest_point = grid_points[max_index]  # The farthest point\n",
    "\n",
    "    # Find the nearest point in inputs to the farthest_point\n",
    "    tree_initial = KDTree(inputs)\n",
    "    nearest_dist, nearest_index = tree_initial.query(farthest_point)  # Get nearest\n",
    "    nearest_point = inputs[nearest_index]\n",
    "\n",
    "    # Calculate the midpoint\n",
    "    new_point = (farthest_point + nearest_point) / 2\n",
    "\n",
    "    # Append to the inputs and new_points\n",
    "    inputs = np.vstack([inputs, new_point])\n",
    "    new_points.append(new_point)\n",
    "    formatted_point = ', '.join(f\"{coord:.6f}\" for coord in new_point)\n",
    "    print(f\"Added farthest point: [{formatted_point}]\")\n",
    "\n",
    "\n"
   ]
  },
  {
   "cell_type": "markdown",
   "id": "ba43364c-8eaf-42b6-babc-933156cfffd5",
   "metadata": {},
   "source": [
    "#### BEGIN SECOND PHASE - RUN FROM HERE"
   ]
  },
  {
   "cell_type": "code",
   "execution_count": 1,
   "id": "23e298f4-1af2-472f-92c8-72d90ff0bf18",
   "metadata": {},
   "outputs": [],
   "source": [
    "import numpy as np\n",
    "import matplotlib.pyplot as plt\n",
    "from scipy.spatial import KDTree\n",
    "import itertools as it\n",
    "from mpl_toolkits.mplot3d import Axes3D  # Import the 3D plotting module\n",
    "from brokenaxes import brokenaxes\n",
    "from sklearn.gaussian_process import GaussianProcessRegressor\n",
    "from sklearn.gaussian_process.kernels import RBF, ConstantKernel as C\n",
    "from mpl_toolkits.mplot3d import Axes3D\n",
    "from matplotlib import cm"
   ]
  },
  {
   "cell_type": "code",
   "execution_count": 2,
   "id": "89675ba6-7d55-4f5e-8a9e-2a5e120830d9",
   "metadata": {},
   "outputs": [
    {
     "name": "stdout",
     "output_type": "stream",
     "text": [
      "30 30 60\n",
      "30 30 60\n"
     ]
    }
   ],
   "source": [
    "# Import inputs and outputs\n",
    "inputs1 = np.load('initial_inputs.npy')\n",
    "outputs1 = np.load('initial_outputs.npy')\n",
    "inputs2 = np.load('initial_inputs2.npy')\n",
    "outputs2 = np.load('initial_outputs2.npy')\n",
    "\n",
    "# Concatenate inputs and outputs\n",
    "inputs = np.concatenate((inputs1, inputs2), axis=0)\n",
    "outputs = np.concatenate((outputs1, outputs2), axis=0)\n",
    "\n",
    "#Import check\n",
    "print(len(inputs1),len(inputs2),len(inputs))\n",
    "print(len(outputs1),len(outputs2),len(outputs))\n"
   ]
  },
  {
   "cell_type": "code",
   "execution_count": 3,
   "id": "f2aef29c-aaf1-4d1b-8760-b775a7665a5e",
   "metadata": {},
   "outputs": [],
   "source": [
    "new_inputs = np.array([[0.193744, 0.682266, 0.875898, 0.571914],[0.096872, 0.581133, 0.742949, 0.785957],[0.869307 ,0.241051, 0.734683 ,0.501985],[0.652405 ,0.406982, 0.867655 ,0.904046],[0.408163 ,0.387755 ,0.346938, 0.428571],[0.428571 ,0.408163, 0.244898, 0.428571],[0.367347,0.408163,0.44898,0.428571],[0.44898, 0.326531, 0.408163, 0.469388],[0.408163, 0.469388, 0.387755, 0.428571],[0.346939, 0.326531, 0.387755, 0.326531],[0,0,0,0.999999],[0.387755, 0.367347, 0.387755, 0.408163],[0.408163, 0.469388, 0.44898,0.55102]])\n",
    "new_outputs = np.array([-18.5997732797512,-19.0098134788678,-17.8974283732823,-24.3991772654967,0.48315974538091355, -1.57398234896379, 0.15756586283465923, -1.15472702722657,-0.736433194015958,-0.376954710874108,-32.8099376892266,0.2915821062302091, -3.25068467305192])\n"
   ]
  },
  {
   "cell_type": "code",
   "execution_count": 4,
   "id": "0c38d9a5-90fa-41e7-ac2b-e0adaf09a32b",
   "metadata": {},
   "outputs": [
    {
     "name": "stdout",
     "output_type": "stream",
     "text": [
      "0.48315974538091355\n"
     ]
    }
   ],
   "source": [
    "inputs = np.append(inputs, new_inputs, axis = 0)\n",
    "outputs = np.append(outputs, new_outputs)\n",
    "print(np.max(outputs))"
   ]
  },
  {
   "cell_type": "raw",
   "id": "c632addf-ff2b-4566-8693-05a484f3f613",
   "metadata": {},
   "source": []
  },
  {
   "cell_type": "markdown",
   "id": "281e80b9-a10b-4feb-a69d-0d376d89eb20",
   "metadata": {},
   "source": [
    "#### Visualise New Outputs"
   ]
  },
  {
   "cell_type": "code",
   "execution_count": 5,
   "id": "e50aea54-22bc-4ee4-9934-563d8d958fea",
   "metadata": {},
   "outputs": [
    {
     "data": {
      "image/png": "[encoded data removed]",
      "text/plain": [
       "<Figure size 1500x500 with 1 Axes>"
      ]
     },
     "metadata": {},
     "output_type": "display_data"
    }
   ],
   "source": [
    "#visualise outputs\n",
    "# Create indices for your outputs array\n",
    "indices = np.arange(len(outputs))\n",
    "\n",
    "plt.figure(figsize=(15, 5))  # Set the figure size\n",
    "plt.scatter(indices, outputs, color='blue', alpha=0.6)  # Create a scatter plot\n",
    "plt.title('Scatter Plot of Outputs')  # Set the title of the plot\n",
    "plt.xlabel('Index')  # Set the x-axis label\n",
    "plt.ylabel('Value')  # Set the y-axis label\n",
    "plt.grid(True)  # Enable grid to make the plot easier to read\n",
    "plt.show()  # Display the plot"
   ]
  },
  {
   "cell_type": "code",
   "execution_count": 6,
   "id": "2b362ed6-cc46-4105-9c87-a14935071944",
   "metadata": {},
   "outputs": [
    {
     "name": "stdout",
     "output_type": "stream",
     "text": [
      "0.122449-0.428571-0.530612-0.346939\n"
     ]
    }
   ],
   "source": [
    "# Set N number of dimenstions\n",
    "N = 4\n",
    "\n",
    "# Define the kernel\n",
    "kernel = C(1.0, (1e-3, 1e3)) * RBF(1.0, (1e-3, 1e3))\n",
    "\n",
    "# Create and train the Gaussian Process Regressor\n",
    "gpr = GaussianProcessRegressor(kernel=kernel, n_restarts_optimizer=20)\n",
    "gpr.fit(inputs, outputs)\n",
    "\n",
    "# Generate test points for N dimensions0\n",
    "num_test_points = 50\n",
    "test_points = np.array(np.meshgrid(*[np.linspace(0, 1, num_test_points)] * N)).T.reshape(-1, N)\n",
    "\n",
    "# Predict using the Gaussian Process\n",
    "y_pred, sigma = gpr.predict(test_points, return_std=True)\n",
    "\n",
    "# Calculate UCB\n",
    "kappa = 0.1  # Exploration-exploitation trade-off parameter\n",
    "ucb = y_pred + kappa * sigma\n",
    "\n",
    "# Identify the optimal inputs\n",
    "max_ucb_index = np.argmax(ucb)\n",
    "optimal_input = test_points[max_ucb_index]\n",
    "\n",
    "# Round the optimal inputs to six decimal places\n",
    "optimal_input_rounded = np.round(optimal_input, 6)\n",
    "\n",
    "# Print the optimal inputs\n",
    "formatted_query = [f'{item:.6f}' for item in optimal_input_rounded]\n",
    "formatted_output = f'{formatted_query[0]}-{formatted_query[1]}-{formatted_query[2]}-{formatted_query[3]}'\n",
    "print(formatted_output)"
   ]
  },
  {
   "cell_type": "markdown",
   "id": "0db705c1-b566-462e-84e7-83b96d57d5bb",
   "metadata": {},
   "source": [
    "### CHANGE LOG\n",
    "#### 22ND JUNE \n",
    "* Increased kernel parameters to 1* 10-3., restarts to 20\n",
    "* changed Kappa to 0.5 to move to more exploitative phase\n",
    "#### 7th JULY \n",
    "* Added in new data and cut reduced kappa to 0.2\n",
    "#### 14th JULY \n",
    "* Reduced kappa to 0.1"
   ]
  },
  {
   "cell_type": "code",
   "execution_count": null,
   "id": "8fa73cf5-f57e-43bf-be44-3bdabc61a58f",
   "metadata": {},
   "outputs": [],
   "source": []
  }
 ],
 "metadata": {
  "kernelspec": {
   "display_name": "Python 3 (ipykernel)",
   "language": "python",
   "name": "python3"
  },
  "language_info": {
   "codemirror_mode": {
    "name": "ipython",
    "version": 3
   },
   "file_extension": ".py",
   "mimetype": "text/x-python",
   "name": "python",
   "nbconvert_exporter": "python",
   "pygments_lexer": "ipython3",
   "version": "3.11.5"
  }
 },
 "nbformat": 4,
 "nbformat_minor": 5
}
