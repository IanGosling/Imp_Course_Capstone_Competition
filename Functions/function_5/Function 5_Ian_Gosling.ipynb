{
 "cells": [
  {
   "cell_type": "code",
   "execution_count": 1,
   "id": "74888cb9-8c3a-4910-9050-c1703305b532",
   "metadata": {},
   "outputs": [],
   "source": [
    "import numpy as np\n",
    "import matplotlib.pyplot as plt\n",
    "from scipy.spatial import KDTree\n",
    "import itertools\n",
    "from mpl_toolkits.mplot3d import Axes3D  # Import the 3D plotting module\n"
   ]
  },
  {
   "cell_type": "code",
   "execution_count": 2,
   "id": "48effe80-3313-4b1a-9a6f-32b7dd91a881",
   "metadata": {},
   "outputs": [
    {
     "name": "stdout",
     "output_type": "stream",
     "text": [
      "[[0.19144708 0.03819337 0.60741781 0.41458414]\n",
      " [0.75865295 0.53651774 0.65600038 0.36034155]\n",
      " [0.43834987 0.8043397  0.21024527 0.15129482]\n",
      " [0.70605083 0.53419196 0.26424335 0.48208755]\n",
      " [0.83647799 0.19360965 0.6638927  0.78564888]\n",
      " [0.68343225 0.11866264 0.82904591 0.56757661]\n",
      " [0.55362148 0.66734998 0.32380582 0.81486975]\n",
      " [0.35235627 0.32224153 0.11697937 0.47311252]\n",
      " [0.15378571 0.72938169 0.42259844 0.44307417]\n",
      " [0.46344227 0.63002451 0.10790646 0.9576439 ]\n",
      " [0.67749115 0.35850951 0.47959222 0.07288048]\n",
      " [0.58397341 0.14724265 0.34809746 0.42861465]\n",
      " [0.30688872 0.31687813 0.62263448 0.09539906]\n",
      " [0.51114177 0.817957   0.72871042 0.11235362]\n",
      " [0.43893338 0.77409176 0.37816709 0.93369621]\n",
      " [0.22418902 0.84648049 0.87948418 0.87851568]\n",
      " [0.72526172 0.47987049 0.08894684 0.75976022]\n",
      " [0.35548161 0.63961937 0.41761768 0.12260384]\n",
      " [0.11987923 0.86254031 0.64333133 0.84980383]\n",
      " [0.12688467 0.15342962 0.77016219 0.19051811]]\n"
     ]
    }
   ],
   "source": [
    "import numpy as np\n",
    "\n",
    "# Import inputs and outputs\n",
    "inputs = np.load('initial_inputs.npy')\n",
    "outputs = np.load('initial_outputs.npy')\n",
    "print(inputs)"
   ]
  },
  {
   "cell_type": "code",
   "execution_count": 2,
   "id": "df7db456-b706-4b78-b4ef-82b8730109f8",
   "metadata": {},
   "outputs": [
    {
     "ename": "NameError",
     "evalue": "name 'np' is not defined",
     "output_type": "error",
     "traceback": [
      "\u001b[0;31m---------------------------------------------------------------------------\u001b[0m",
      "\u001b[0;31mNameError\u001b[0m                                 Traceback (most recent call last)",
      "Cell \u001b[0;32mIn[2], line 3\u001b[0m\n\u001b[1;32m      1\u001b[0m \u001b[38;5;66;03m#visualise outputs\u001b[39;00m\n\u001b[1;32m      2\u001b[0m \u001b[38;5;66;03m# Create indices for your outputs array\u001b[39;00m\n\u001b[0;32m----> 3\u001b[0m indices \u001b[38;5;241m=\u001b[39m np\u001b[38;5;241m.\u001b[39marange(\u001b[38;5;28mlen\u001b[39m(outputs))\n\u001b[1;32m      5\u001b[0m plt\u001b[38;5;241m.\u001b[39mfigure(figsize\u001b[38;5;241m=\u001b[39m(\u001b[38;5;241m10\u001b[39m, \u001b[38;5;241m5\u001b[39m))  \u001b[38;5;66;03m# Set the figure size\u001b[39;00m\n\u001b[1;32m      6\u001b[0m plt\u001b[38;5;241m.\u001b[39mscatter(indices, outputs, color\u001b[38;5;241m=\u001b[39m\u001b[38;5;124m'\u001b[39m\u001b[38;5;124mblue\u001b[39m\u001b[38;5;124m'\u001b[39m, alpha\u001b[38;5;241m=\u001b[39m\u001b[38;5;241m0.6\u001b[39m)  \u001b[38;5;66;03m# Create a scatter plot\u001b[39;00m\n",
      "\u001b[0;31mNameError\u001b[0m: name 'np' is not defined"
     ]
    }
   ],
   "source": [
    "#visualise outputs\n",
    "# Create indices for your outputs array\n",
    "indices = np.arange(len(outputs))\n",
    "\n",
    "plt.figure(figsize=(10, 5))  # Set the figure size\n",
    "plt.scatter(indices, outputs, color='blue', alpha=0.6)  # Create a scatter plot\n",
    "plt.title('Scatter Plot of Outputs')  # Set the title of the plot\n",
    "plt.xlabel('Index')  # Set the x-axis label\n",
    "plt.ylabel('Value')  # Set the y-axis label\n",
    "plt.grid(True)  # Enable grid to make the plot easier to read\n",
    "plt.show()  # Display the plot\n"
   ]
  },
  {
   "cell_type": "code",
   "execution_count": 4,
   "id": "663ab71a-288e-4a5c-bb30-835b65f9a79f",
   "metadata": {},
   "outputs": [],
   "source": [
    "#set up functions\n",
    "import numpy as np\n",
    "\n",
    "def generate_grid(n, resolution):\n",
    "    num_points = int(1 / resolution) + 1\n",
    "    grid = np.mgrid[[slice(0, 1, 1j*num_points) for _ in range(n)]]\n",
    "    grid = grid.reshape(n, -1).T  # Reshape to have n columns\n",
    "    return grid\n",
    "\n",
    "def generate_binary_combinations(n):\n",
    "    # Use itertools.product to generate combinations and convert to a NumPy array\n",
    "    combinations = np.array(list(itertools.product([0, 1], repeat=n)))\n",
    "    return combinations\n"
   ]
  },
  {
   "cell_type": "code",
   "execution_count": 1,
   "id": "e961087e-e744-467e-b5cf-1092291c5096",
   "metadata": {},
   "outputs": [
    {
     "ename": "NameError",
     "evalue": "name 'generate_binary_combinations' is not defined",
     "output_type": "error",
     "traceback": [
      "\u001b[0;31m---------------------------------------------------------------------------\u001b[0m",
      "\u001b[0;31mNameError\u001b[0m                                 Traceback (most recent call last)",
      "Cell \u001b[0;32mIn[1], line 3\u001b[0m\n\u001b[1;32m      1\u001b[0m \u001b[38;5;66;03m# Number of dimensions\u001b[39;00m\n\u001b[1;32m      2\u001b[0m n \u001b[38;5;241m=\u001b[39m \u001b[38;5;241m4\u001b[39m  \n\u001b[0;32m----> 3\u001b[0m corners \u001b[38;5;241m=\u001b[39m generate_binary_combinations(n)\n\u001b[1;32m      5\u001b[0m \u001b[38;5;66;03m# Initial set of inputs using corners to force choice of points farther from the surface of the hypothesis space\u001b[39;00m\n\u001b[1;32m      6\u001b[0m initial_np \u001b[38;5;241m=\u001b[39m np\u001b[38;5;241m.\u001b[39mload(\u001b[38;5;124m'\u001b[39m\u001b[38;5;124minitial_inputs.npy\u001b[39m\u001b[38;5;124m'\u001b[39m)\n",
      "\u001b[0;31mNameError\u001b[0m: name 'generate_binary_combinations' is not defined"
     ]
    }
   ],
   "source": [
    "\n",
    "# Number of dimensions\n",
    "n = 4  \n",
    "corners = generate_binary_combinations(n)\n",
    "\n",
    "# Initial set of inputs using corners to force choice of points farther from the surface of the hypothesis space\n",
    "initial_np = np.load('initial_inputs.npy')\n",
    "initial_inputs = np.vstack([initial_np, corners])  # Append to the inputs\n",
    "inputs = initial_inputs.copy()  # Start with the initial inputs\n",
    "\n",
    "# Number of farthest points to find\n",
    "num_far_points = 10\n",
    "\n",
    "# Resolution for the grid\n",
    "resolution = 0.01\n",
    "\n",
    "# Generate initial grid\n",
    "grid_points = generate_grid(n, resolution)\n",
    "\n",
    "# List to store newly added farthest points\n",
    "new_points = []\n",
    "\n",
    "for _ in range(num_far_points):\n",
    "    tree = KDTree(inputs)  # Create a KD-tree for the current inputs\n",
    "    distances = tree.query(grid_points)[0]  # Find distances to nearest input points\n",
    "    max_index = np.argmax(distances)  # Index of the farthest point\n",
    "    farthest_point = grid_points[max_index]  # The farthest point\n",
    "\n",
    "    # Find the nearest point in inputs to the farthest_point\n",
    "    tree_initial = KDTree(inputs)\n",
    "    nearest_dist, nearest_index = tree_initial.query(farthest_point)  # Get nearest\n",
    "    nearest_point = inputs[nearest_index]\n",
    "\n",
    "    # Calculate the midpoint\n",
    "    new_point = (farthest_point + nearest_point) / 2\n",
    "\n",
    "    # Append to the inputs and new_points\n",
    "    inputs = np.vstack([inputs, new_point])\n",
    "    new_points.append(new_point)\n",
    "    formatted_point = ', '.join(f\"{coord:.6f}\" for coord in new_point)\n",
    "    print(f\"Added farthest point: [{formatted_point}]\")\n",
    "\n",
    "\n",
    "# Loop to find and append farthest points\n",
    "#for _ in range(num_far_points):\n",
    " #   tree = KDTree(inputs)  # Create a KD-tree for the current inputs\n",
    "  #  distances = tree.query(grid_points)[0]  # Find distances to nearest input points\n",
    "   # max_index = np.argmax(distances)  # Index of the farthest point\n",
    "    #farthest_point = grid_points[max_index]  # The farthest point\n",
    "    \n",
    "    #inputs = np.vstack([inputs, ????])  # Append to the inputs\n",
    "    #new_points.append(???)  # Store new point separately\n",
    "    #formatted_point = ', '.join(f\"{coord:.6f}\" for coord in farthest_point_rounded)\n",
    "    #print(f\"Added farthest point: [{formatted_point}]\")\n",
    "\n",
    "# Visualization\n",
    "plt.figure(figsize=(8, 8))\n",
    "plt.scatter(initial_inputs[:, 0], initial_inputs[:, 1], color='blue', label='Original Inputs', alpha=0.6)\n",
    "if new_points:\n",
    "    new_points = np.array(new_points)\n",
    "    plt.scatter(new_points[:, 0], new_points[:, 1], color='red', label='New Farthest Points', edgecolors='k', s=100)\n",
    "plt.title('Expanded Set of Input Points with Farthest Points')\n",
    "plt.xlabel('X')\n",
    "plt.ylabel('Y')\n",
    "plt.legend()\n",
    "plt.grid(True)\n",
    "plt.show()\n"
   ]
  },
  {
   "cell_type": "markdown",
   "id": "0259b3c8-3815-45f3-9e5d-51ca4ac3ab8a",
   "metadata": {},
   "source": [
    "#### BEGIN SECOND PHASE - RUN FROM HERE"
   ]
  },
  {
   "cell_type": "code",
   "execution_count": 3,
   "id": "23e298f4-1af2-472f-92c8-72d90ff0bf18",
   "metadata": {},
   "outputs": [],
   "source": [
    "import numpy as np\n",
    "import matplotlib.pyplot as plt\n",
    "from scipy.spatial import KDTree\n",
    "import itertools as it\n",
    "from mpl_toolkits.mplot3d import Axes3D  # Import the 3D plotting module\n",
    "from brokenaxes import brokenaxes\n",
    "from sklearn.gaussian_process import GaussianProcessRegressor\n",
    "from sklearn.gaussian_process.kernels import RBF, ConstantKernel as C\n",
    "from mpl_toolkits.mplot3d import Axes3D\n",
    "from matplotlib import cm"
   ]
  },
  {
   "cell_type": "code",
   "execution_count": 4,
   "id": "89675ba6-7d55-4f5e-8a9e-2a5e120830d9",
   "metadata": {},
   "outputs": [
    {
     "name": "stdout",
     "output_type": "stream",
     "text": [
      "20 20 40\n",
      "20 20 40\n"
     ]
    }
   ],
   "source": [
    "# Import inputs and outputs\n",
    "inputs1 = np.load('initial_inputs.npy')\n",
    "outputs1 = np.load('initial_outputs.npy')\n",
    "inputs2 = np.load('initial_inputs2.npy')\n",
    "outputs2 = np.load('initial_outputs2.npy')\n",
    "\n",
    "# Concatenate inputs and outputs\n",
    "inputs = np.concatenate((inputs1, inputs2), axis=0)\n",
    "outputs = np.concatenate((outputs1, outputs2), axis=0)\n",
    "\n",
    "#Import check\n",
    "print(len(inputs1),len(inputs2),len(inputs))\n",
    "print(len(outputs1),len(outputs2),len(outputs))\n"
   ]
  },
  {
   "cell_type": "code",
   "execution_count": 5,
   "id": "864729d6-7944-4010-87dd-467f671c941d",
   "metadata": {},
   "outputs": [],
   "source": [
    "new_inputs = np.array([[0.776811, 0.833675, 0.406903, 0.722435],[0.566716, 0.234331, 0.914523, 0.783788],[0.112095, 0.63324,0.939742,0.749258],[0.888405, 0.916837, 0.453451 ,0.486217],[0.244897, 0.836734, 0.877551, 0.877551],[0.163265, 0.857143, 0.877551, 0.877551],[0.183673, 0.938776, 0.959184, 0.836735],[0.102041, 0.999999, 0.999999, 0.571429],[0.22973,  0.999999, 0.999999 ,0.77027 ],[0.594595, 0.999999, 0.999999, 0.972973]])\n",
    "new_outputs = np.array([334.9062341983918,363.47516373479544,439.8851425551642,651.3098808207359,1037.8970999926541,1117.172888401618,1896.3447721032564,1862.9981386077925, 2477.6757505937135,4540.902999825719])\n"
   ]
  },
  {
   "cell_type": "code",
   "execution_count": 6,
   "id": "a51b13fc-addb-4e0e-886a-143a4c2b8fdb",
   "metadata": {},
   "outputs": [
    {
     "name": "stdout",
     "output_type": "stream",
     "text": [
      "[6.44434399e+01 1.83013796e+01 1.12939795e-01 4.21089813e+00\n",
      " 2.58370525e+02 7.84343889e+01 5.75715369e+01 1.09571876e+02\n",
      " 8.84799176e+00 2.33223610e+02 2.44230883e+01 6.44201468e+01\n",
      " 6.34767158e+01 7.97291299e+01 3.55806818e+02 1.08885962e+03\n",
      " 2.88667516e+01 4.51815703e+01 4.31612757e+02 9.97233189e+00\n",
      " 1.16473297e+03 1.21188493e+02 2.87522281e+02 1.98066524e+03\n",
      " 5.28521436e+02 6.59070325e+01 2.73993040e+02 3.34964253e+02\n",
      " 3.03509422e+00 3.16811442e+02 2.13695298e+03 1.63923940e+01\n",
      " 1.47198474e+01 7.44697895e+00 5.40487146e+02 1.52854400e+02\n",
      " 1.03383108e+02 2.53166057e+02 3.59261876e+01 2.10925883e+00\n",
      " 3.34906234e+02 3.63475164e+02 4.39885143e+02 6.51309881e+02\n",
      " 1.03789710e+03 1.11717289e+03 1.89634477e+03 1.86299814e+03\n",
      " 2.47767575e+03 4.54090300e+03]\n"
     ]
    }
   ],
   "source": [
    "inputs = np.append(inputs, new_inputs, axis = 0)\n",
    "outputs = np.append(outputs, new_outputs)\n",
    "print(outputs)"
   ]
  },
  {
   "cell_type": "code",
   "execution_count": 7,
   "id": "50a13d66-5fb1-42a4-b855-bff118cc2b54",
   "metadata": {},
   "outputs": [
    {
     "name": "stdout",
     "output_type": "stream",
     "text": [
      "4540.902999825719\n"
     ]
    }
   ],
   "source": [
    "print(np.max(outputs))"
   ]
  },
  {
   "cell_type": "markdown",
   "id": "b3f7fbbe-6cba-41f9-b00e-f44d73921024",
   "metadata": {},
   "source": [
    "#### Visualise New Outputs"
   ]
  },
  {
   "cell_type": "code",
   "execution_count": 7,
   "id": "2f0b798d-8d51-46ad-b0ba-eed13564bd62",
   "metadata": {},
   "outputs": [
    {
     "data": {
      "image/png": "[encoded data removed]",
      "text/plain": [
       "<Figure size 1000x500 with 1 Axes>"
      ]
     },
     "metadata": {},
     "output_type": "display_data"
    }
   ],
   "source": [
    "#visualise outputs\n",
    "# Create indices for your outputs array\n",
    "indices = np.arange(len(outputs))\n",
    "\n",
    "plt.figure(figsize=(10, 5))  # Set the figure size\n",
    "plt.scatter(indices, outputs, color='blue', alpha=0.6)  # Create a scatter plot\n",
    "plt.title('Scatter Plot of Outputs')  # Set the title of the plot\n",
    "plt.xlabel('Index')  # Set the x-axis label\n",
    "plt.ylabel('Value')  # Set the y-axis label\n",
    "plt.grid(True)  # Enable grid to make the plot easier to read\n",
    "plt.show()  # Display the plot"
   ]
  },
  {
   "cell_type": "code",
   "execution_count": null,
   "id": "4a55cf16-d43f-45ed-9ecc-881487df6abe",
   "metadata": {},
   "outputs": [
    {
     "name": "stderr",
     "output_type": "stream",
     "text": [
      "/Users/iangosling/anaconda3/lib/python3.11/site-packages/sklearn/gaussian_process/kernels.py:429: ConvergenceWarning: The optimal value found for dimension 0 of parameter k1__constant_value is close to the specified upper bound 1000000.0. Increasing the bound and calling fit again may find a better value.\n",
      "  warnings.warn(\n"
     ]
    }
   ],
   "source": [
    "# Set N number of dimenstions\n",
    "N = 4\n",
    "\n",
    "# Define the kernel\n",
    "kernel = C(1.0, (1e-2, 1e6)) * RBF(1.0, (1e-2, 1e6))\n",
    "\n",
    "# Create and train the Gaussian Process Regressor\n",
    "gpr = GaussianProcessRegressor(kernel=kernel, n_restarts_optimizer=20)\n",
    "gpr.fit(inputs, outputs)\n",
    "\n",
    "# Generate test points for N dimensions\n",
    "num_test_points = 75\n",
    "test_points = np.array(np.meshgrid(*[np.linspace(0, 1, num_test_points)] * N)).T.reshape(-1, N)\n",
    "\n",
    "# Predict using the Gaussian Process\n",
    "y_pred, sigma = gpr.predict(test_points, return_std=True)\n",
    "\n",
    "# Calculate UCB\n",
    "kappa = 0.2  # Exploration-exploitation trade-off parameter\n",
    "ucb = y_pred + kappa * sigma\n",
    "\n",
    "# Identify the optimal inputs\n",
    "max_ucb_index = np.argmax(ucb)\n",
    "optimal_input = test_points[max_ucb_index]\n",
    "\n",
    "# Round the optimal inputs to six decimal places\n",
    "optimal_input_rounded = np.round(optimal_input, 6)\n",
    "\n",
    "# Print the optimal inputs\n",
    "formatted_query = [f'{item:.6f}' for item in optimal_input_rounded]\n",
    "formatted_output = f'{formatted_query[0]}-{formatted_query[1]}-{formatted_query[2]}-{formatted_query[3]}'\n",
    "print(formatted_output)"
   ]
  },
  {
   "cell_type": "markdown",
   "id": "587309d3-f621-47a1-bac3-4d6bd5a40129",
   "metadata": {},
   "source": [
    "## Change Log\n",
    "#### 16th June\n",
    "* Improved formatting\n",
    "* Needed to raise kernel parameter k1 from 1e3 to 1e6\n",
    "#### 20th June\n",
    "* Reduced Kappa to 0.75 to increase exploitation\n",
    "#### 7th JULY \n",
    "* Added in new data and cut reduced kappa to 0.2"
   ]
  },
  {
   "cell_type": "code",
   "execution_count": null,
   "id": "00f8c593-acc3-4aee-aa9f-d9da7bc715c8",
   "metadata": {},
   "outputs": [],
   "source": []
  }
 ],
 "metadata": {
  "kernelspec": {
   "display_name": "Python 3 (ipykernel)",
   "language": "python",
   "name": "python3"
  },
  "language_info": {
   "codemirror_mode": {
    "name": "ipython",
    "version": 3
   },
   "file_extension": ".py",
   "mimetype": "text/x-python",
   "name": "python",
   "nbconvert_exporter": "python",
   "pygments_lexer": "ipython3",
   "version": "3.11.5"
  }
 },
 "nbformat": 4,
 "nbformat_minor": 5
}
