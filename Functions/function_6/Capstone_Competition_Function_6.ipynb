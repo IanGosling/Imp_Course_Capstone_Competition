{
  "nbformat": 4,
  "nbformat_minor": 0,
  "metadata": {
    "colab": {
      "provenance": []
    },
    "kernelspec": {
      "name": "python3",
      "display_name": "Python 3"
    },
    "language_info": {
      "name": "python"
    }
  },
  "cells": [
    {
      "cell_type": "markdown",
      "source": [],
      "metadata": {
        "id": "w-T00cSRQajp"
      }
    },
    {
      "cell_type": "code",
      "source": [
        "!pip install cma\n",
        "!pip install torch\n",
        "!pip install botorch"
      ],
      "metadata": {
        "colab": {
          "base_uri": "https://localhost:8080/"
        },
        "id": "EzbsYhDBUwO5",
        "outputId": "43476f53-e828-42b9-c733-e38ff3043f9e"
      },
      "execution_count": null,
      "outputs": [
        {
          "output_type": "stream",
          "name": "stdout",
          "text": [
            "Collecting cma\n",
            "  Downloading cma-3.4.0-py3-none-any.whl (269 kB)\n",
            "\u001b[2K     \u001b[90m━━━━━━━━━━━━━━━━━━━━━━━━━━━━━━━━━━━━━━━━\u001b[0m \u001b[32m269.7/269.7 kB\u001b[0m \u001b[31m3.4 MB/s\u001b[0m eta \u001b[36m0:00:00\u001b[0m\n",
            "\u001b[?25hRequirement already satisfied: numpy in /usr/local/lib/python3.10/dist-packages (from cma) (1.25.2)\n",
            "Installing collected packages: cma\n",
            "Successfully installed cma-3.4.0\n",
            "Requirement already satisfied: torch in /usr/local/lib/python3.10/dist-packages (2.3.1+cu121)\n",
            "Requirement already satisfied: filelock in /usr/local/lib/python3.10/dist-packages (from torch) (3.15.4)\n",
            "Requirement already satisfied: typing-extensions>=4.8.0 in /usr/local/lib/python3.10/dist-packages (from torch) (4.12.2)\n",
            "Requirement already satisfied: sympy in /usr/local/lib/python3.10/dist-packages (from torch) (1.13.0)\n",
            "Requirement already satisfied: networkx in /usr/local/lib/python3.10/dist-packages (from torch) (3.3)\n",
            "Requirement already satisfied: jinja2 in /usr/local/lib/python3.10/dist-packages (from torch) (3.1.4)\n",
            "Requirement already satisfied: fsspec in /usr/local/lib/python3.10/dist-packages (from torch) (2023.6.0)\n",
            "Collecting nvidia-cuda-nvrtc-cu12==12.1.105 (from torch)\n",
            "  Using cached nvidia_cuda_nvrtc_cu12-12.1.105-py3-none-manylinux1_x86_64.whl (23.7 MB)\n",
            "Collecting nvidia-cuda-runtime-cu12==12.1.105 (from torch)\n",
            "  Using cached nvidia_cuda_runtime_cu12-12.1.105-py3-none-manylinux1_x86_64.whl (823 kB)\n",
            "Collecting nvidia-cuda-cupti-cu12==12.1.105 (from torch)\n",
            "  Using cached nvidia_cuda_cupti_cu12-12.1.105-py3-none-manylinux1_x86_64.whl (14.1 MB)\n",
            "Collecting nvidia-cudnn-cu12==8.9.2.26 (from torch)\n",
            "  Using cached nvidia_cudnn_cu12-8.9.2.26-py3-none-manylinux1_x86_64.whl (731.7 MB)\n",
            "Collecting nvidia-cublas-cu12==12.1.3.1 (from torch)\n",
            "  Using cached nvidia_cublas_cu12-12.1.3.1-py3-none-manylinux1_x86_64.whl (410.6 MB)\n",
            "Collecting nvidia-cufft-cu12==11.0.2.54 (from torch)\n",
            "  Using cached nvidia_cufft_cu12-11.0.2.54-py3-none-manylinux1_x86_64.whl (121.6 MB)\n",
            "Collecting nvidia-curand-cu12==10.3.2.106 (from torch)\n",
            "  Using cached nvidia_curand_cu12-10.3.2.106-py3-none-manylinux1_x86_64.whl (56.5 MB)\n",
            "Collecting nvidia-cusolver-cu12==11.4.5.107 (from torch)\n",
            "  Using cached nvidia_cusolver_cu12-11.4.5.107-py3-none-manylinux1_x86_64.whl (124.2 MB)\n",
            "Collecting nvidia-cusparse-cu12==12.1.0.106 (from torch)\n",
            "  Using cached nvidia_cusparse_cu12-12.1.0.106-py3-none-manylinux1_x86_64.whl (196.0 MB)\n",
            "Collecting nvidia-nccl-cu12==2.20.5 (from torch)\n",
            "  Using cached nvidia_nccl_cu12-2.20.5-py3-none-manylinux2014_x86_64.whl (176.2 MB)\n",
            "Collecting nvidia-nvtx-cu12==12.1.105 (from torch)\n",
            "  Using cached nvidia_nvtx_cu12-12.1.105-py3-none-manylinux1_x86_64.whl (99 kB)\n",
            "Requirement already satisfied: triton==2.3.1 in /usr/local/lib/python3.10/dist-packages (from torch) (2.3.1)\n",
            "Collecting nvidia-nvjitlink-cu12 (from nvidia-cusolver-cu12==11.4.5.107->torch)\n",
            "  Downloading nvidia_nvjitlink_cu12-12.5.82-py3-none-manylinux2014_x86_64.whl (21.3 MB)\n",
            "\u001b[2K     \u001b[90m━━━━━━━━━━━━━━━━━━━━━━━━━━━━━━━━━━━━━━━━\u001b[0m \u001b[32m21.3/21.3 MB\u001b[0m \u001b[31m60.7 MB/s\u001b[0m eta \u001b[36m0:00:00\u001b[0m\n",
            "\u001b[?25hRequirement already satisfied: MarkupSafe>=2.0 in /usr/local/lib/python3.10/dist-packages (from jinja2->torch) (2.1.5)\n",
            "Requirement already satisfied: mpmath<1.4,>=1.1.0 in /usr/local/lib/python3.10/dist-packages (from sympy->torch) (1.3.0)\n",
            "Installing collected packages: nvidia-nvtx-cu12, nvidia-nvjitlink-cu12, nvidia-nccl-cu12, nvidia-curand-cu12, nvidia-cufft-cu12, nvidia-cuda-runtime-cu12, nvidia-cuda-nvrtc-cu12, nvidia-cuda-cupti-cu12, nvidia-cublas-cu12, nvidia-cusparse-cu12, nvidia-cudnn-cu12, nvidia-cusolver-cu12\n",
            "Successfully installed nvidia-cublas-cu12-12.1.3.1 nvidia-cuda-cupti-cu12-12.1.105 nvidia-cuda-nvrtc-cu12-12.1.105 nvidia-cuda-runtime-cu12-12.1.105 nvidia-cudnn-cu12-8.9.2.26 nvidia-cufft-cu12-11.0.2.54 nvidia-curand-cu12-10.3.2.106 nvidia-cusolver-cu12-11.4.5.107 nvidia-cusparse-cu12-12.1.0.106 nvidia-nccl-cu12-2.20.5 nvidia-nvjitlink-cu12-12.5.82 nvidia-nvtx-cu12-12.1.105\n",
            "Collecting botorch\n",
            "  Downloading botorch-0.11.1-py3-none-any.whl (629 kB)\n",
            "\u001b[2K     \u001b[90m━━━━━━━━━━━━━━━━━━━━━━━━━━━━━━━━━━━━━━━━\u001b[0m \u001b[32m629.6/629.6 kB\u001b[0m \u001b[31m7.4 MB/s\u001b[0m eta \u001b[36m0:00:00\u001b[0m\n",
            "\u001b[?25hRequirement already satisfied: multipledispatch in /usr/local/lib/python3.10/dist-packages (from botorch) (1.0.0)\n",
            "Requirement already satisfied: scipy in /usr/local/lib/python3.10/dist-packages (from botorch) (1.11.4)\n",
            "Requirement already satisfied: mpmath<=1.3,>=0.19 in /usr/local/lib/python3.10/dist-packages (from botorch) (1.3.0)\n",
            "Requirement already satisfied: torch>=1.13.1 in /usr/local/lib/python3.10/dist-packages (from botorch) (2.3.1+cu121)\n",
            "Collecting pyro-ppl>=1.8.4 (from botorch)\n",
            "  Downloading pyro_ppl-1.9.1-py3-none-any.whl (755 kB)\n",
            "\u001b[2K     \u001b[90m━━━━━━━━━━━━━━━━━━━━━━━━━━━━━━━━━━━━━━━━\u001b[0m \u001b[32m756.0/756.0 kB\u001b[0m \u001b[31m38.1 MB/s\u001b[0m eta \u001b[36m0:00:00\u001b[0m\n",
            "\u001b[?25hCollecting gpytorch==1.11 (from botorch)\n",
            "  Downloading gpytorch-1.11-py3-none-any.whl (266 kB)\n",
            "\u001b[2K     \u001b[90m━━━━━━━━━━━━━━━━━━━━━━━━━━━━━━━━━━━━━━━━\u001b[0m \u001b[32m266.1/266.1 kB\u001b[0m \u001b[31m27.7 MB/s\u001b[0m eta \u001b[36m0:00:00\u001b[0m\n",
            "\u001b[?25hCollecting linear-operator==0.5.1 (from botorch)\n",
            "  Downloading linear_operator-0.5.1-py3-none-any.whl (174 kB)\n",
            "\u001b[2K     \u001b[90m━━━━━━━━━━━━━━━━━━━━━━━━━━━━━━━━━━━━━━━━\u001b[0m \u001b[32m174.5/174.5 kB\u001b[0m \u001b[31m22.3 MB/s\u001b[0m eta \u001b[36m0:00:00\u001b[0m\n",
            "\u001b[?25hRequirement already satisfied: scikit-learn in /usr/local/lib/python3.10/dist-packages (from gpytorch==1.11->botorch) (1.2.2)\n",
            "Collecting jaxtyping>=0.2.9 (from linear-operator==0.5.1->botorch)\n",
            "  Downloading jaxtyping-0.2.33-py3-none-any.whl (42 kB)\n",
            "\u001b[2K     \u001b[90m━━━━━━━━━━━━━━━━━━━━━━━━━━━━━━━━━━━━━━━━\u001b[0m \u001b[32m42.4/42.4 kB\u001b[0m \u001b[31m5.3 MB/s\u001b[0m eta \u001b[36m0:00:00\u001b[0m\n",
            "\u001b[?25hCollecting typeguard~=2.13.3 (from linear-operator==0.5.1->botorch)\n",
            "  Downloading typeguard-2.13.3-py3-none-any.whl (17 kB)\n",
            "Requirement already satisfied: numpy>=1.7 in /usr/local/lib/python3.10/dist-packages (from pyro-ppl>=1.8.4->botorch) (1.25.2)\n",
            "Requirement already satisfied: opt-einsum>=2.3.2 in /usr/local/lib/python3.10/dist-packages (from pyro-ppl>=1.8.4->botorch) (3.3.0)\n",
            "Collecting pyro-api>=0.1.1 (from pyro-ppl>=1.8.4->botorch)\n",
            "  Downloading pyro_api-0.1.2-py3-none-any.whl (11 kB)\n",
            "Requirement already satisfied: tqdm>=4.36 in /usr/local/lib/python3.10/dist-packages (from pyro-ppl>=1.8.4->botorch) (4.66.4)\n",
            "Requirement already satisfied: filelock in /usr/local/lib/python3.10/dist-packages (from torch>=1.13.1->botorch) (3.15.4)\n",
            "Requirement already satisfied: typing-extensions>=4.8.0 in /usr/local/lib/python3.10/dist-packages (from torch>=1.13.1->botorch) (4.12.2)\n",
            "Requirement already satisfied: sympy in /usr/local/lib/python3.10/dist-packages (from torch>=1.13.1->botorch) (1.13.0)\n",
            "Requirement already satisfied: networkx in /usr/local/lib/python3.10/dist-packages (from torch>=1.13.1->botorch) (3.3)\n",
            "Requirement already satisfied: jinja2 in /usr/local/lib/python3.10/dist-packages (from torch>=1.13.1->botorch) (3.1.4)\n",
            "Requirement already satisfied: fsspec in /usr/local/lib/python3.10/dist-packages (from torch>=1.13.1->botorch) (2023.6.0)\n",
            "Requirement already satisfied: nvidia-cuda-nvrtc-cu12==12.1.105 in /usr/local/lib/python3.10/dist-packages (from torch>=1.13.1->botorch) (12.1.105)\n",
            "Requirement already satisfied: nvidia-cuda-runtime-cu12==12.1.105 in /usr/local/lib/python3.10/dist-packages (from torch>=1.13.1->botorch) (12.1.105)\n",
            "Requirement already satisfied: nvidia-cuda-cupti-cu12==12.1.105 in /usr/local/lib/python3.10/dist-packages (from torch>=1.13.1->botorch) (12.1.105)\n",
            "Requirement already satisfied: nvidia-cudnn-cu12==8.9.2.26 in /usr/local/lib/python3.10/dist-packages (from torch>=1.13.1->botorch) (8.9.2.26)\n",
            "Requirement already satisfied: nvidia-cublas-cu12==12.1.3.1 in /usr/local/lib/python3.10/dist-packages (from torch>=1.13.1->botorch) (12.1.3.1)\n",
            "Requirement already satisfied: nvidia-cufft-cu12==11.0.2.54 in /usr/local/lib/python3.10/dist-packages (from torch>=1.13.1->botorch) (11.0.2.54)\n",
            "Requirement already satisfied: nvidia-curand-cu12==10.3.2.106 in /usr/local/lib/python3.10/dist-packages (from torch>=1.13.1->botorch) (10.3.2.106)\n",
            "Requirement already satisfied: nvidia-cusolver-cu12==11.4.5.107 in /usr/local/lib/python3.10/dist-packages (from torch>=1.13.1->botorch) (11.4.5.107)\n",
            "Requirement already satisfied: nvidia-cusparse-cu12==12.1.0.106 in /usr/local/lib/python3.10/dist-packages (from torch>=1.13.1->botorch) (12.1.0.106)\n",
            "Requirement already satisfied: nvidia-nccl-cu12==2.20.5 in /usr/local/lib/python3.10/dist-packages (from torch>=1.13.1->botorch) (2.20.5)\n",
            "Requirement already satisfied: nvidia-nvtx-cu12==12.1.105 in /usr/local/lib/python3.10/dist-packages (from torch>=1.13.1->botorch) (12.1.105)\n",
            "Requirement already satisfied: triton==2.3.1 in /usr/local/lib/python3.10/dist-packages (from torch>=1.13.1->botorch) (2.3.1)\n",
            "Requirement already satisfied: nvidia-nvjitlink-cu12 in /usr/local/lib/python3.10/dist-packages (from nvidia-cusolver-cu12==11.4.5.107->torch>=1.13.1->botorch) (12.5.82)\n",
            "Requirement already satisfied: MarkupSafe>=2.0 in /usr/local/lib/python3.10/dist-packages (from jinja2->torch>=1.13.1->botorch) (2.1.5)\n",
            "Requirement already satisfied: joblib>=1.1.1 in /usr/local/lib/python3.10/dist-packages (from scikit-learn->gpytorch==1.11->botorch) (1.4.2)\n",
            "Requirement already satisfied: threadpoolctl>=2.0.0 in /usr/local/lib/python3.10/dist-packages (from scikit-learn->gpytorch==1.11->botorch) (3.5.0)\n",
            "Installing collected packages: pyro-api, typeguard, jaxtyping, pyro-ppl, linear-operator, gpytorch, botorch\n",
            "Successfully installed botorch-0.11.1 gpytorch-1.11 jaxtyping-0.2.33 linear-operator-0.5.1 pyro-api-0.1.2 pyro-ppl-1.9.1 typeguard-2.13.3\n"
          ]
        }
      ]
    },
    {
      "cell_type": "code",
      "execution_count": null,
      "metadata": {
        "id": "PZcrOo55QYN2"
      },
      "outputs": [],
      "source": [
        "import sklearn\n",
        "import numpy as np\n",
        "import matplotlib.pyplot as plt\n",
        "import scipy\n",
        "from scipy.spatial import KDTree\n",
        "import itertools as it\n",
        "from mpl_toolkits.mplot3d import Axes3D  # Import the 3D plotting module\n",
        "from sklearn.gaussian_process import GaussianProcessRegressor\n",
        "from sklearn.gaussian_process.kernels import RBF, ConstantKernel as C\n",
        "from mpl_toolkits.mplot3d import Axes3D\n",
        "from matplotlib import cm\n",
        "import torch\n",
        "import math\n",
        "from botorch.fit import fit_gpytorch_mll\n",
        "from botorch.models import SingleTaskGP\n",
        "from gpytorch.mlls import ExactMarginalLogLikelihood\n",
        "from botorch.models.transforms import Standardize\n",
        "from botorch.acquisition.acquisition import AcquisitionFunction\n",
        "from botorch.acquisition import UpperConfidenceBound\n",
        "import cma"
      ]
    },
    {
      "cell_type": "code",
      "source": [
        "# Mount Drive\n",
        "# Get initial Values\n",
        "inputs = np.load('/content/drive/My Drive/Imperial ML Course/Capstone Competition/function_6/initial_inputs.npy')\n",
        "outputs = np.load('/content/drive/My Drive/Imperial ML Course/Capstone Competition/function_6/initial_outputs.npy')"
      ],
      "metadata": {
        "id": "RmWN6P8pQj2k"
      },
      "execution_count": null,
      "outputs": []
    },
    {
      "cell_type": "code",
      "source": [
        "print(inputs)"
      ],
      "metadata": {
        "colab": {
          "base_uri": "https://localhost:8080/"
        },
        "id": "Q_npx0XaQv66",
        "outputId": "8f3f8fce-0ad2-499a-c8d1-89a8348effa6"
      },
      "execution_count": null,
      "outputs": [
        {
          "output_type": "stream",
          "name": "stdout",
          "text": [
            "[[0.7281861  0.15469257 0.73255167 0.69399651 0.05640131]\n",
            " [0.24238435 0.84409997 0.5778091  0.67902128 0.50195289]\n",
            " [0.72952261 0.7481062  0.67977464 0.35655228 0.67105368]\n",
            " [0.77062024 0.11440374 0.04677993 0.64832428 0.27354905]\n",
            " [0.6188123  0.33180214 0.18728787 0.75623847 0.3288348 ]\n",
            " [0.78495809 0.91068235 0.7081201  0.95922543 0.0049115 ]\n",
            " [0.14511079 0.8966846  0.89632223 0.72627154 0.23627199]\n",
            " [0.94506907 0.28845905 0.97880576 0.96165559 0.59801594]\n",
            " [0.12572016 0.86272469 0.02854433 0.24660527 0.75120624]\n",
            " [0.75759436 0.35583141 0.0165229  0.4342072  0.11243304]\n",
            " [0.5367969  0.30878091 0.41187929 0.38822518 0.5225283 ]\n",
            " [0.95773967 0.23566857 0.09914585 0.15680593 0.07131737]\n",
            " [0.6293079  0.80348368 0.81140844 0.04561319 0.11062446]\n",
            " [0.02173531 0.42808424 0.83593944 0.48948866 0.51108173]\n",
            " [0.43934426 0.69892383 0.42682022 0.10947609 0.87788847]\n",
            " [0.25890557 0.79367771 0.6421139  0.19667346 0.59310318]\n",
            " [0.43216593 0.71561781 0.3418191  0.70499988 0.61496184]\n",
            " [0.78287982 0.53633586 0.44328356 0.85969983 0.01032599]\n",
            " [0.9217762  0.93187122 0.41487637 0.59505727 0.73562569]\n",
            " [0.12667892 0.2914703  0.06452848 0.6805146  0.89281919]]\n"
          ]
        }
      ]
    },
    {
      "cell_type": "code",
      "source": [
        "#Add new Inputs and Outputs\n",
        "new_inputs = np.array([[0.384406, 0.165901, 0.343644, 0.878119, 0.414417],[0.64144,  0.768168, 0.296642, 0.67985,  0.005163],[0.768398, 0.20439,  0.45594,  0.444113,0.761264],[0.072555 ,0.698342, 0.698161, 0.863136 ,0.118136],[0.717999, 0.639943, 0.519482 ,0.772148 ,0.505876],[0.719796, 0.639673, 0.519655, 0.774452, 0.505773],[0.615272 ,0.028036, 0.669298, 0.838814, 0.01508 ], [0.618083, 0.038536, 0.810867, 0.980269, 0.014503]])\n",
        "new_outputs = np.array([-0.95813506330093,-1.20790243875159,-1.74412417525756,-0.800128372422867,-1.20153120166717, -1.13274833342684,-0.662340786722959, -0.951366249969857])\n"
      ],
      "metadata": {
        "id": "mLqTSRM3TmmI"
      },
      "execution_count": null,
      "outputs": []
    },
    {
      "cell_type": "code",
      "source": [
        "inputs = np.append(inputs, new_inputs, axis = 0)\n",
        "outputs = np.append(outputs, new_outputs)\n",
        "print(outputs)"
      ],
      "metadata": {
        "colab": {
          "base_uri": "https://localhost:8080/"
        },
        "id": "sQIC-0daVIAB",
        "outputId": "1346eb64-15b3-4616-9ace-ec4d171022a2"
      },
      "execution_count": null,
      "outputs": [
        {
          "output_type": "stream",
          "name": "stdout",
          "text": [
            "[-0.71426495 -1.20995524 -1.67219994 -1.53605771 -0.82923655 -1.24704893\n",
            " -1.23378638 -1.69434344 -2.57116963 -1.30911635 -1.14478485 -1.91267714\n",
            " -1.62283895 -1.35668211 -2.0184254  -1.70255784 -1.29424696 -0.93575656\n",
            " -2.15576776 -1.74688209 -0.95813506 -1.20790244 -1.74412418 -0.80012837\n",
            " -1.2015312  -1.13274833 -0.66234079 -0.95136625]\n"
          ]
        }
      ]
    },
    {
      "cell_type": "code",
      "source": [
        "#Visualise New Outputs\n",
        "# Create indices for your outputs array\n",
        "indices = np.arange(len(outputs))\n",
        "\n",
        "plt.figure(figsize=(10, 5))  # Set the figure size\n",
        "plt.scatter(indices, outputs, color='blue', alpha=0.6)  # Create a scatter plot\n",
        "plt.title('Scatter Plot of Outputs')  # Set the title of the plot\n",
        "plt.xlabel('Index')  # Set the x-axis label\n",
        "plt.ylabel('Value')  # Set the y-axis label\n",
        "plt.grid(True)  # Enable grid to make the plot easier to read\n",
        "plt.show()  # Display the plot"
      ],
      "metadata": {
        "colab": {
          "base_uri": "https://localhost:8080/",
          "height": 487
        },
        "id": "QXoJ6-kjVLtK",
        "outputId": "2190644f-006b-4377-d11c-3a3c0a8a07f1"
      },
      "execution_count": null,
      "outputs": [
        {
          "output_type": "display_data",
          "data": {
            "text/plain": [
              "<Figure size 1000x500 with 1 Axes>"
            ],
            "image/png": "[encoded data removed]"
          },
          "metadata": {}
        }
      ]
    },
    {
      "cell_type": "code",
      "source": [
        "# Example data (replace with your actual inputs and outputs)\n",
        "N = 6  # Number of dimensions\n",
        "\n",
        "\n",
        "# Standardize the initial training data to zero mean and unit variance\n",
        "def standardize(X):\n",
        "    mean = X.mean(0)\n",
        "    std = X.std(0)\n",
        "    return (X - mean) / std, mean, std\n",
        "\n",
        "def unstandardize(X, mean, std):\n",
        "    return X * std + mean\n",
        "\n",
        "X_standardized, mean_X, std_X = standardize(inputs)\n",
        "\n",
        "\n",
        "# Convert to torch tensors\n",
        "train_X = torch.tensor(X_standardized, dtype=torch.double)\n",
        "train_Y = torch.tensor(outputs, dtype=torch.double).unsqueeze(-1)\n",
        "\n",
        "\n",
        "# Define the model\n",
        "model = SingleTaskGP(train_X, train_Y)\n",
        "mll = ExactMarginalLogLikelihood(model.likelihood, model)\n",
        "fit_gpytorch_mll(mll)\n",
        "\n",
        "# Define the acquisition function\n",
        "acq_func = UpperConfidenceBound(model, beta=1.0)\n",
        "\n",
        "# Define the objective for CMA-ES\n",
        "def objective(x):\n",
        "    x = torch.tensor(x, dtype=torch.double).unsqueeze(0)\n",
        "    x_standardized = (x - mean_X) / std_X  # Standardize the input\n",
        "    with torch.no_grad():\n",
        "        acq_value = acq_func(x_standardized)\n",
        "    return -acq_value.item()  # Negate because CMA-ES minimizes\n",
        "\n",
        "# Initialize CMA-ES\n",
        "es = cma.CMAEvolutionStrategy(train_X.mean(0).numpy(), 0.2, {'popsize': 20})\n",
        "\n",
        "# Optimization loop\n",
        "max_iter = 50  # Limit the number of iterations to avoid long runs\n",
        "for _ in range(max_iter):\n",
        "    solutions = es.ask()\n",
        "    values = [objective(x) for x in solutions]\n",
        "    es.tell(solutions, values)\n",
        "\n",
        "# Best solution\n",
        "best_solution = es.result.xbest\n",
        "best_solution = torch.tensor(best_solution, dtype=torch.double).unsqueeze(0)\n",
        "best_solution = unstandardize(best_solution, mean_X, std_X)\n",
        "\n",
        "# Print best solution with 6 decimal places\n",
        "best_solution_rounded = best_solution.numpy().round(6)\n",
        "\n",
        "print(f\"Best solution: {best_solution_rounded}\")\n"
      ],
      "metadata": {
        "colab": {
          "base_uri": "https://localhost:8080/"
        },
        "id": "zYWRLtkMVf7d",
        "outputId": "c35668ca-ab89-49f9-b587-248eea058c9e"
      },
      "execution_count": null,
      "outputs": [
        {
          "output_type": "stream",
          "name": "stderr",
          "text": [
            "/usr/local/lib/python3.10/dist-packages/botorch/models/utils/assorted.py:257: InputDataWarning: Input data is not contained to the unit cube. Please consider min-max scaling the input data.\n",
            "  check_min_max_scaling(\n",
            "/usr/local/lib/python3.10/dist-packages/botorch/models/utils/assorted.py:260: InputDataWarning: Data is not standardized (std = tensor([0.4621], dtype=torch.float64), mean = tensor([-1.3774], dtype=torch.float64)). Please consider scaling the input to zero mean and unit variance.\n",
            "  check_standardization(Y=train_Y, raise_on_fail=raise_on_fail)\n"
          ]
        },
        {
          "output_type": "stream",
          "name": "stdout",
          "text": [
            "(10_w,20)-aCMA-ES (mu_w=5.9,w_1=27%) in dimension 5 (seed=667953, Sun Jul 21 15:57:35 2024)\n",
            "Best solution: [[0.729828 0.593948 0.553182 0.806502 0.47174 ]]\n"
          ]
        }
      ]
    },
    {
      "cell_type": "code",
      "source": [],
      "metadata": {
        "id": "h2PtFz2896R6"
      },
      "execution_count": null,
      "outputs": []
    },
    {
      "cell_type": "markdown",
      "source": [
        "## Change Log\n",
        "#### 16th May <br>\n",
        "11/35 - using pseudo random distance generator\n",
        "#### 19th May <br>\n",
        "14/37 - using pseudo random distance generator\n",
        "#### 9th June <br>\n",
        "First switch to\n",
        "Realise I have probably got the wrong settings at the outset and decide to get a bit more exploratory for a couple of weeks.  <br>\n",
        "<ul>Position 23/40<br>\n",
        "Change Beta from 0.1 to 1 <br>\n",
        "Keep Pop Size 20 <br>\n",
        "Set Sigma to 0.2 , from default of probably around 0.1</ul>"
      ],
      "metadata": {
        "id": "3zrnAlcP-AER"
      }
    },
    {
      "cell_type": "markdown",
      "source": [
        "### 15th June START FROM HERE\n",
        "Turns out what I was doing with TURBO was wrong.  I was failing to set the local area to be optimised or tracking state of the function.  Now trying again following the tutorial.\n",
        "### Defines a data class to store the the state"
      ],
      "metadata": {
        "id": "iXCdxzcw1U9Z"
      }
    },
    {
      "cell_type": "code",
      "source": [
        "from dataclasses import dataclass\n",
        "import numpy as np\n",
        "import torch\n",
        "import math\n",
        "from botorch.generation import MaxPosteriorSampling\n",
        "from torch.quasirandom import SobolEngine\n",
        "import botorch\n",
        "import gpytorch\n",
        "import matplotlib.pyplot as plt\n"
      ],
      "metadata": {
        "id": "GIt5iVXa-Bc9"
      },
      "execution_count": null,
      "outputs": []
    },
    {
      "cell_type": "code",
      "source": [
        "# we define a dataclass for our state this is used to store the state of the area\n",
        "@dataclass\n",
        "class TurboState:\n",
        "    dim: int # dimension of the problem, aka input dimension\n",
        "    batch_size: int = 1 # we could do batch optimization, but the capstone only does one query at a time\n",
        "    length: float = 0.4 # the length of the current trust region\n",
        "    length_min: float = 0.25 ** 7 # minimum length for the trust region\n",
        "    length_max: float = 0.2 # maximum length for the trust region\n",
        "    failure_counter: int = 0 # initialize counter of the number of failures to improve on the best observation\n",
        "    failure_tolerance: int = float(\"nan\")  # Note: Post-initialized\n",
        "    success_counter: int = 0 # initialize counter of the number of success to improve on the best observation\n",
        "    success_tolerance: int = 3  # Note: The original paper uses 3, this is the number of successes in a row needed to expand the region\n",
        "    best_value: float = -float(\"inf\") # best value so far, initialized to be the infimum\n",
        "    restart_triggered: bool = False\n",
        "\n",
        "    # This method is automatically called after the dataclass is initialized. It sets the failure_tolerance attribute based on the dimension and batch size:\n",
        "    def __post_init__(self):\n",
        "        self.failure_tolerance = math.ceil(\n",
        "            max([4.0 / self.batch_size, float(self.dim) / self.batch_size]) # number of failures needed in a row to shrink the trust region\n",
        "        )\n",
        "\n",
        "# this updates the state depending on Y_next\n",
        "def update_state(state, Y_next):\n",
        "\n",
        "    # count if a success, otherwise a failure\n",
        "    if max(Y_next) > state.best_value + 1e-3 * math.fabs(state.best_value):\n",
        "        state.success_counter += 1\n",
        "        state.failure_counter = 0\n",
        "    else:\n",
        "        state.success_counter = 0\n",
        "        state.failure_counter += 1\n",
        "    # check if we need to expand or shrink the trust region\n",
        "    if state.success_counter == state.success_tolerance:  # Expand trust region\n",
        "        state.length = min(2.0 * state.length, state.length_max)\n",
        "        state.success_counter = 0\n",
        "    elif state.failure_counter == state.failure_tolerance:  # Shrink trust region\n",
        "        state.length /= 2.0\n",
        "        state.failure_counter = 0\n",
        "    # set the best value if we got a new observation\n",
        "    state.best_value = max(state.best_value, max(Y_next))\n",
        "    if state.length < state.length_min:\n",
        "        state.restart_triggered = True\n",
        "    return state\n"
      ],
      "metadata": {
        "id": "ZrRhdi3w1XZ2"
      },
      "execution_count": null,
      "outputs": []
    },
    {
      "cell_type": "code",
      "source": [
        "def generate_batch(\n",
        "    state,\n",
        "    model,  # GP model\n",
        "    X,  # Evaluated points on the domain [0, 1]^d\n",
        "    Y,  # Function values\n",
        "    batch_size = 1, # fix batch size to 1\n",
        "    n_candidates=None,  # Number of candidates for Thompson sampling\n",
        "    num_restarts=10,\n",
        "    raw_samples=512,\n",
        "    acqf=\"ts\",  # \"ei\" or \"ts\"\n",
        "):\n",
        "    assert acqf in (\"ts\")\n",
        "    assert X.min() >= 0.0 and X.max() <= 1.0 and torch.all(torch.isfinite(Y))\n",
        "    if n_candidates is None:\n",
        "        n_candidates = min(5000, max(2000, 200 * X.shape[-1]))\n",
        "\n",
        "    # Scale the trust region to be proportional to the lengthscales\n",
        "    x_center = X[Y.argmax(), :].clone()\n",
        "    weights = model.covar_module.base_kernel.lengthscale.squeeze().detach()\n",
        "    weights = weights / weights.mean()\n",
        "    weights = weights / torch.prod(weights.pow(1.0 / len(weights)))\n",
        "    tr_lb = torch.clamp(x_center - weights * state.length / 2.0, 0.0, 1.0)\n",
        "    tr_ub = torch.clamp(x_center + weights * state.length / 2.0, 0.0, 1.0)\n",
        "    # we focus only on thompson sampling as an acquisition function\n",
        "    if acqf == \"ts\":\n",
        "        dim = X.shape[-1]\n",
        "        sobol = SobolEngine(dim, scramble=True)\n",
        "        pert = sobol.draw(n_candidates)\n",
        "        pert = tr_lb + (tr_ub - tr_lb) * pert\n",
        "\n",
        "        # Create a perturbation mask\n",
        "        prob_perturb = min(20.0 / dim, 1.0)\n",
        "        mask = (\n",
        "            torch.rand(n_candidates, dim)\n",
        "            <= prob_perturb\n",
        "        )\n",
        "        ind = torch.where(mask.sum(dim=1) == 0)[0]\n",
        "        mask[ind, torch.randint(0, dim - 1, size=(len(ind),))] = 1\n",
        "\n",
        "        # Create candidate points from the perturbations and the mask\n",
        "        X_cand = x_center.expand(n_candidates, dim).clone()\n",
        "        X_cand[mask] = pert[mask]\n",
        "\n",
        "        # Sample on the candidate points\n",
        "        # set model to evaluation mode\n",
        "        model.eval()\n",
        "        posterior_distribution = model(X_cand)\n",
        "        with torch.no_grad():  # We don't need gradients when using TS\n",
        "            posterior_sample = posterior_distribution.sample()\n",
        "            X_next_idx = torch.argmax(posterior_sample)\n",
        "            X_next = X_cand[X_next_idx]\n",
        "\n",
        "    return X_next"
      ],
      "metadata": {
        "id": "nyFBq4Fp1kXo"
      },
      "execution_count": null,
      "outputs": []
    },
    {
      "cell_type": "code",
      "source": [
        "# we use the model given in the tutorial, we also add the hyper-parameter training as a method\n",
        "class ExactGPModel(gpytorch.models.ExactGP):\n",
        "    def __init__(self, train_x, train_y, likelihood):\n",
        "        super(ExactGPModel, self).__init__(train_x, train_y, likelihood)\n",
        "        # set a constant mean\n",
        "        self.mean_module = gpytorch.means.ConstantMean()\n",
        "        # use a simple RBF kernel with constant scaling\n",
        "        self.covar_module = gpytorch.kernels.ScaleKernel(gpytorch.kernels.RBFKernel(ard_num_dims=train_x.shape[1]))\n",
        "        # set number of hyper-parameter training iterations\n",
        "        self.training_iter = 200\n",
        "\n",
        "    def forward(self, x):\n",
        "        mean_x = self.mean_module(x)\n",
        "        covar_x = self.covar_module(x)\n",
        "        return gpytorch.distributions.MultivariateNormal(mean_x, covar_x)"
      ],
      "metadata": {
        "id": "j7mSzi8y1mHz"
      },
      "execution_count": null,
      "outputs": []
    },
    {
      "cell_type": "code",
      "source": [
        "#Step 1 Re-initialise the State\n",
        "state = TurboState(\n",
        "    dim=5,\n",
        "    batch_size=1,\n",
        "    length=0.3,\n",
        "    length_max=0.5,\n",
        "    success_counter = 0,\n",
        "    failure_counter=3,\n",
        "    best_value= -0.501737754668462\n",
        ")\n",
        "\n",
        "#Step 2 Update the State with the new function\n",
        "y_next = [-0.951366249969857]\n",
        "new_state = update_state(state, y_next)\n",
        "\n",
        "print(state)\n",
        "#Step 3 NOW append the new values!!!\n"
      ],
      "metadata": {
        "colab": {
          "base_uri": "https://localhost:8080/"
        },
        "id": "I9EyXdvBPw_l",
        "outputId": "f97c7e2c-6943-4a61-c985-4ad004d43683"
      },
      "execution_count": null,
      "outputs": [
        {
          "output_type": "stream",
          "name": "stdout",
          "text": [
            "TurboState(dim=5, batch_size=1, length=0.3, length_min=6.103515625e-05, length_max=0.5, failure_counter=4, failure_tolerance=5, success_counter=0, success_tolerance=3, best_value=-0.501737754668462, restart_triggered=False)\n"
          ]
        }
      ]
    },
    {
      "cell_type": "code",
      "source": [
        "# Mount Drive\n",
        "# Get initial Values\n",
        "inputs1 = np.load('/content/drive/My Drive/Imperial ML Course/Capstone Competition/function_6/initial_inputs.npy')\n",
        "outputs1 = np.load('/content/drive/My Drive/Imperial ML Course/Capstone Competition/function_6/initial_outputs.npy')\n",
        "inputs2 = np.load('/content/drive/My Drive/Imperial ML Course/Capstone Competition/function_6/initial_inputs2.npy')\n",
        "outputs2 = np.load('/content/drive/My Drive/Imperial ML Course/Capstone Competition/function_6/initial_outputs2.npy')\n",
        "\n",
        "# Concatenate inputs and outputs\n",
        "inputs = np.concatenate((inputs1, inputs2), axis=0)\n",
        "outputs = np.concatenate((outputs1, outputs2), axis=0)\n",
        "\n",
        "#Import check\n",
        "print(len(inputs1),len(inputs2),len(inputs))\n",
        "print(len(outputs1),len(outputs2),len(outputs))\n",
        "\n"
      ],
      "metadata": {
        "id": "aGp2wm5l1otB",
        "colab": {
          "base_uri": "https://localhost:8080/"
        },
        "outputId": "18b8bec2-5d8a-45d5-ae5c-caaf406922aa"
      },
      "execution_count": null,
      "outputs": [
        {
          "output_type": "stream",
          "name": "stdout",
          "text": [
            "20 20 40\n",
            "20 20 40\n"
          ]
        }
      ]
    },
    {
      "cell_type": "code",
      "source": [
        "#Add new Inputs and Outputs\n",
        "new_inputs = np.array([[0.384406, 0.165901, 0.343644, 0.878119, 0.414417],[0.64144,  0.768168, 0.296642, 0.67985,  0.005163],[0.768398, 0.20439,  0.45594,  0.444113,0.761264],[0.072555 ,0.698342, 0.698161, 0.863136 ,0.118136],[0.717999, 0.639943, 0.519482 ,0.772148 ,0.505876],[0.719796, 0.639673, 0.519655, 0.774452, 0.505773],[0.567095, 0.047709, 0.626556, 0.884659, 0.027518],[0.56812,  0.10389,  0.856833, 0.890358, 0.002649],[0.667431, 0.00746,  0.596242, 0.560694, 0.016542],[0.615272, 0.028036, 0.669298, 0.838814, 0.01508 ],[0.477788, 0.110788, 0.522569, 0.975533, 0.005616],[0.485859, 0.17601,  0.766418, 0.965114, 0.140616]])\n",
        "new_outputs = np.array([-0.95813506330093,-1.20790243875159,-1.74412417525756,-0.800128372422867,-1.20153120166717, -1.13274833342684,-0.74302164555618, -0.895695186,-0.938212055378909,-0.501737754668462,-0.822223726337242,-0.569402212276701])\n"
      ],
      "metadata": {
        "id": "xE239TXc1wKe"
      },
      "execution_count": null,
      "outputs": []
    },
    {
      "cell_type": "code",
      "source": [
        "inputs = np.append(inputs, new_inputs, axis = 0)\n",
        "outputs = np.append(outputs, new_outputs)\n",
        "print(outputs)\n",
        "print(np.max(outputs))"
      ],
      "metadata": {
        "colab": {
          "base_uri": "https://localhost:8080/"
        },
        "id": "8NQG45Ex101Q",
        "outputId": "5608f35b-f7fb-4258-b9f0-7ce48765f1b5"
      },
      "execution_count": null,
      "outputs": [
        {
          "output_type": "stream",
          "name": "stdout",
          "text": [
            "[-0.71426495 -1.20995524 -1.67219994 -1.53605771 -0.82923655 -1.24704893\n",
            " -1.23378638 -1.69434344 -2.57116963 -1.30911635 -1.14478485 -1.91267714\n",
            " -1.62283895 -1.35668211 -2.0184254  -1.70255784 -1.29424696 -0.93575656\n",
            " -2.15576776 -1.74688209 -1.51269542 -1.34959856 -1.82739562 -1.71602331\n",
            " -0.97248425 -1.20521138 -1.10099104 -1.91309535 -1.05157417 -1.19458833\n",
            " -2.06906505 -1.48937327 -1.82528398 -1.7476171  -1.35823203 -1.44913772\n",
            " -1.81134837 -2.00771782 -0.99967761 -1.67533648 -0.95813506 -1.20790244\n",
            " -1.74412418 -0.80012837 -1.2015312  -1.13274833 -0.74302165 -0.89569519\n",
            " -0.93821206 -0.50173775 -0.82222373 -0.56940221]\n",
            "-0.501737754668462\n"
          ]
        }
      ]
    },
    {
      "cell_type": "code",
      "source": [
        "#Visualise New Outputs\n",
        "# Create indices for your outputs array\n",
        "indices = np.arange(len(outputs))\n",
        "\n",
        "plt.figure(figsize=(10, 5))  # Set the figure size\n",
        "plt.scatter(indices, outputs, color='blue', alpha=0.6)  # Create a scatter plot\n",
        "plt.title('Scatter Plot of Outputs')  # Set the title of the plot\n",
        "plt.xlabel('Index')  # Set the x-axis label\n",
        "plt.ylabel('Value')  # Set the y-axis label\n",
        "plt.grid(True)  # Enable grid to make the plot easier to read\n",
        "plt.show()  # Display the plot"
      ],
      "metadata": {
        "colab": {
          "base_uri": "https://localhost:8080/",
          "height": 487
        },
        "id": "DiMU_-OB15Vf",
        "outputId": "f4fbe0d3-1b68-48a0-a5b4-d7576775199a"
      },
      "execution_count": null,
      "outputs": [
        {
          "output_type": "display_data",
          "data": {
            "text/plain": [
              "<Figure size 1000x500 with 1 Axes>"
            ],
            "image/png": "[encoded data removed]"
          },
          "metadata": {}
        }
      ]
    },
    {
      "cell_type": "code",
      "source": [
        "# Convert to torch tensors\n",
        "train_X = torch.from_numpy(inputs).to(torch.float32)\n",
        "train_Y = torch.from_numpy(outputs).to(torch.float32)\n"
      ],
      "metadata": {
        "id": "mTi9459I176C"
      },
      "execution_count": null,
      "outputs": []
    },
    {
      "cell_type": "code",
      "source": [
        "def next_query_via_TurBO(train_x, train_y, turbo_state, verbose = False):\n",
        "    likelihood = gpytorch.likelihoods.GaussianLikelihood()\n",
        "    model = ExactGPModel(train_x, train_y, likelihood)\n",
        "\n",
        "    model.train()\n",
        "    likelihood.train()\n",
        "\n",
        "    # Use the adam optimizer\n",
        "    optimizer = torch.optim.Adam(model.parameters(), lr=0.1)  # Includes GaussianLikelihood parameters\n",
        "\n",
        "    # \"Loss\" for GPs - the marginal log likelihood\n",
        "    mll = gpytorch.mlls.ExactMarginalLogLikelihood(likelihood, model)\n",
        "\n",
        "\n",
        "    for i in range(model.training_iter):\n",
        "        # Zero gradients from previous iteration\n",
        "        optimizer.zero_grad()\n",
        "        # Output from model\n",
        "        output = model(train_X)\n",
        "        # Calc loss and backprop gradients\n",
        "        print(output)\n",
        "        print(train_Y.dtype)\n",
        "        break\n",
        "        loss = -mll(output, train_Y)\n",
        "        loss.backward()\n",
        "        if i % 10 == 9:\n",
        "            print(f'Iter %d/%d - Loss: %.6f   lengthscale: {model.covar_module.base_kernel.lengthscale.detach()}   noise: %.6f' % (\n",
        "                i + 1, model.training_iter, loss.item(),\n",
        "                model.likelihood.noise.item()\n",
        "            ))\n",
        "        optimizer.step()\n",
        "\n",
        "    return generate_batch(turbo_state, model = model, X = train_x, Y = train_y)"
      ],
      "metadata": {
        "id": "qDkihhUq1-xr"
      },
      "execution_count": null,
      "outputs": []
    },
    {
      "cell_type": "code",
      "source": [
        "print(np.max(outputs))"
      ],
      "metadata": {
        "colab": {
          "base_uri": "https://localhost:8080/"
        },
        "id": "wIiWjY12UA74",
        "outputId": "463c02d2-59f9-4fbb-88e7-e2316d46c853"
      },
      "execution_count": null,
      "outputs": [
        {
          "output_type": "stream",
          "name": "stdout",
          "text": [
            "-0.501737754668462\n"
          ]
        }
      ]
    },
    {
      "cell_type": "code",
      "source": [
        "next_query = next_query_via_TurBO(train_x=train_X, train_y=train_Y, turbo_state=state)\n",
        "formatted_query = [f'{item:.6f}' for item in next_query]\n",
        "formatted_output = f'{formatted_query[0]}-{formatted_query[1]}-{formatted_query[2]}-{formatted_query[3]}-{formatted_query[4]}'\n",
        "print(f'Next chosen query: {formatted_output}')\n",
        "print(state)"
      ],
      "metadata": {
        "colab": {
          "base_uri": "https://localhost:8080/"
        },
        "id": "sqkxi0Pk2CNA",
        "outputId": "209ad8ce-573f-48ec-c808-b7129122b9c6"
      },
      "execution_count": null,
      "outputs": [
        {
          "output_type": "stream",
          "name": "stdout",
          "text": [
            "MultivariateNormal(loc: torch.Size([52]))\n",
            "torch.float32\n",
            "Next chosen query: 0.490308-0.163106-0.595141-0.904191-0.009533\n",
            "TurboState(dim=5, batch_size=1, length=0.3, length_min=6.103515625e-05, length_max=0.5, failure_counter=4, failure_tolerance=5, success_counter=0, success_tolerance=3, best_value=-0.501737754668462, restart_triggered=False)\n"
          ]
        }
      ]
    },
    {
      "cell_type": "markdown",
      "source": [
        "Entry 15th June: <br>MultivariateNormal(loc: torch.Size([26]))\n",
        "torch.float32\n",
        "Next chosen query: 0.567095-0.047709-0.626556-0.884659-0.027518\n",
        "TurboState(dim=5, batch_size=1, length=0.4, length_min=6.103515625e-05, length_max=0.5, failure_counter=0, failure_tolerance=5, success_counter=0, success_tolerance=10, best_value=-inf, restart_triggered=False)\n"
      ],
      "metadata": {
        "id": "SZ66bviw2l7r"
      }
    },
    {
      "cell_type": "markdown",
      "source": [
        "Entry 20th June: Restart as did not put in best value<br>\n",
        "Next chosen query: 0.568120-0.103890-0.856833-0.890358-0.002649\n",
        "TurboState(dim=5, batch_size=1, length=0.4, length_min=6.103515625e-05, length_max=0.5, failure_counter=0, failure_tolerance=5, success_counter=0, success_tolerance=10, best_value=-inf, restart_triggered=False)"
      ],
      "metadata": {
        "id": "uoKhc-h6UxTV"
      }
    },
    {
      "cell_type": "markdown",
      "source": [
        "Entry 23rd June - Reduced Success exopansion to 3. <br>\n",
        "Next chosen query: 0.667431-0.007460-0.596242-0.560694-0.016542\n",
        "TurboState(dim=5, batch_size=1, length=0.3, length_min=6.103515625e-05, length_max=0.5, failure_counter=1, failure_tolerance=5, success_counter=0, success_tolerance=3, best_value=-0.7142649478202404, restart_triggered=False)\n"
      ],
      "metadata": {
        "id": "4idWLGOxI8hf"
      }
    },
    {
      "cell_type": "markdown",
      "source": [
        "Entry 7th July<br>\n",
        "Next chosen query: 0.615272-0.028036-0.669298-0.838814-0.015080\n",
        "TurboState(dim=5, batch_size=1, length=0.3, length_min=6.103515625e-05, length_max=0.5, failure_counter=2, failure_tolerance=5, success_counter=0, success_tolerance=3, best_value=-0.7142649478202404, restart_triggered=False)\n"
      ],
      "metadata": {
        "id": "ZnUO5Qp6xyD_"
      }
    },
    {
      "cell_type": "markdown",
      "source": [
        "Entry 11th July<br>\n",
        "Next chosen query: 0.477788-0.110788-0.522569-0.975533-0.005616\n",
        "TurboState(dim=5, batch_size=1, length=0.3, length_min=6.103515625e-05, length_max=0.5, failure_counter=0, failure_tolerance=5, success_counter=1, success_tolerance=3, best_value=-0.662340786722959, restart_triggered=False)"
      ],
      "metadata": {
        "id": "EmhILSZKLbTd"
      }
    },
    {
      "cell_type": "markdown",
      "source": [
        "Entry 13th July<br>\n",
        "Next chosen query: 0.485859-0.176010-0.766418-0.965114-0.140616\n",
        "TurboState(dim=5, batch_size=1, length=0.3, length_min=6.103515625e-05, length_max=0.5, failure_counter=2, failure_tolerance=5, success_counter=0, success_tolerance=3, best_value=-0.501737754668462, restart_triggered=False)\n"
      ],
      "metadata": {
        "id": "4_BWBTCM0wJj"
      }
    },
    {
      "cell_type": "markdown",
      "source": [
        "Entry 17th July<br>\n",
        "Next chosen query: 0.618083-0.038536-0.810867-0.980269-0.014503\n",
        "TurboState(dim=5, batch_size=1, length=0.3, length_min=6.103515625e-05, length_max=0.5, failure_counter=3, failure_tolerance=5, success_counter=0, success_tolerance=3, best_value=-0.501737754668462, restart_triggered=False)"
      ],
      "metadata": {
        "id": "OZSkKxYJ3Jyu"
      }
    },
    {
      "cell_type": "markdown",
      "source": [
        "Entry 21st July<br>\n",
        "Next chosen query: 0.490308-0.163106-0.595141-0.904191-0.009533\n",
        "TurboState(dim=5, batch_size=1, length=0.3, length_min=6.103515625e-05, length_max=0.5, failure_counter=4, failure_tolerance=5, success_counter=0, success_tolerance=3, best_value=-0.501737754668462, restart_triggered=False)\n"
      ],
      "metadata": {
        "id": "YI2U5LSEBuZk"
      }
    },
    {
      "cell_type": "code",
      "source": [],
      "metadata": {
        "id": "IrySqgkg3Nl9"
      },
      "execution_count": null,
      "outputs": []
    }
  ]
}