{
 "cells": [
  {
   "cell_type": "code",
   "execution_count": 1,
   "id": "54dfd185-f799-484c-b4e5-9644dbf66bd2",
   "metadata": {},
   "outputs": [
    {
     "name": "stdout",
     "output_type": "stream",
     "text": [
      "Requirement already satisfied: torch in /Users/iangosling/anaconda3/lib/python3.11/site-packages (2.3.0)\n",
      "Requirement already satisfied: filelock in /Users/iangosling/anaconda3/lib/python3.11/site-packages (from torch) (3.13.1)\n",
      "Requirement already satisfied: typing-extensions>=4.8.0 in /Users/iangosling/anaconda3/lib/python3.11/site-packages (from torch) (4.9.0)\n",
      "Requirement already satisfied: sympy in /Users/iangosling/anaconda3/lib/python3.11/site-packages (from torch) (1.12)\n",
      "Requirement already satisfied: networkx in /Users/iangosling/anaconda3/lib/python3.11/site-packages (from torch) (3.1)\n",
      "Requirement already satisfied: jinja2 in /Users/iangosling/anaconda3/lib/python3.11/site-packages (from torch) (3.1.3)\n",
      "Requirement already satisfied: fsspec in /Users/iangosling/anaconda3/lib/python3.11/site-packages (from torch) (2023.10.0)\n",
      "Requirement already satisfied: MarkupSafe>=2.0 in /Users/iangosling/anaconda3/lib/python3.11/site-packages (from jinja2->torch) (2.1.3)\n",
      "Requirement already satisfied: mpmath>=0.19 in /Users/iangosling/anaconda3/lib/python3.11/site-packages (from sympy->torch) (1.3.0)\n",
      "Note: you may need to restart the kernel to use updated packages.\n"
     ]
    }
   ],
   "source": [
    "pip install torch"
   ]
  },
  {
   "cell_type": "code",
   "execution_count": 2,
   "id": "74888cb9-8c3a-4910-9050-c1703305b532",
   "metadata": {},
   "outputs": [],
   "source": [
    "import numpy as np\n",
    "import matplotlib.pyplot as plt\n",
    "from scipy.spatial import KDTree\n",
    "import itertools\n",
    "from mpl_toolkits.mplot3d import Axes3D  # Import the 3D plotting module\n"
   ]
  },
  {
   "cell_type": "code",
   "execution_count": 2,
   "id": "48effe80-3313-4b1a-9a6f-32b7dd91a881",
   "metadata": {},
   "outputs": [
    {
     "name": "stdout",
     "output_type": "stream",
     "text": [
      "[[0.7281861  0.15469257 0.73255167 0.69399651 0.05640131]\n",
      " [0.24238435 0.84409997 0.5778091  0.67902128 0.50195289]\n",
      " [0.72952261 0.7481062  0.67977464 0.35655228 0.67105368]\n",
      " [0.77062024 0.11440374 0.04677993 0.64832428 0.27354905]\n",
      " [0.6188123  0.33180214 0.18728787 0.75623847 0.3288348 ]\n",
      " [0.78495809 0.91068235 0.7081201  0.95922543 0.0049115 ]\n",
      " [0.14511079 0.8966846  0.89632223 0.72627154 0.23627199]\n",
      " [0.94506907 0.28845905 0.97880576 0.96165559 0.59801594]\n",
      " [0.12572016 0.86272469 0.02854433 0.24660527 0.75120624]\n",
      " [0.75759436 0.35583141 0.0165229  0.4342072  0.11243304]\n",
      " [0.5367969  0.30878091 0.41187929 0.38822518 0.5225283 ]\n",
      " [0.95773967 0.23566857 0.09914585 0.15680593 0.07131737]\n",
      " [0.6293079  0.80348368 0.81140844 0.04561319 0.11062446]\n",
      " [0.02173531 0.42808424 0.83593944 0.48948866 0.51108173]\n",
      " [0.43934426 0.69892383 0.42682022 0.10947609 0.87788847]\n",
      " [0.25890557 0.79367771 0.6421139  0.19667346 0.59310318]\n",
      " [0.43216593 0.71561781 0.3418191  0.70499988 0.61496184]\n",
      " [0.78287982 0.53633586 0.44328356 0.85969983 0.01032599]\n",
      " [0.9217762  0.93187122 0.41487637 0.59505727 0.73562569]\n",
      " [0.12667892 0.2914703  0.06452848 0.6805146  0.89281919]]\n"
     ]
    }
   ],
   "source": [
    "import numpy as np\n",
    "\n",
    "# Import inputs and outputs\n",
    "inputs = np.load('initial_inputs.npy')\n",
    "outputs = np.load('initial_outputs.npy')\n",
    "print(inputs)"
   ]
  },
  {
   "cell_type": "code",
   "execution_count": 3,
   "id": "df7db456-b706-4b78-b4ef-82b8730109f8",
   "metadata": {},
   "outputs": [
    {
     "data": {
      "image/png": "[encoded data removed]",
      "text/plain": [
       "<Figure size 1000x500 with 1 Axes>"
      ]
     },
     "metadata": {},
     "output_type": "display_data"
    }
   ],
   "source": [
    "#visualise outputs\n",
    "# Create indices for your outputs array\n",
    "indices = np.arange(len(outputs))\n",
    "\n",
    "plt.figure(figsize=(10, 5))  # Set the figure size\n",
    "plt.scatter(indices, outputs, color='blue', alpha=0.6)  # Create a scatter plot\n",
    "plt.title('Scatter Plot of Outputs')  # Set the title of the plot\n",
    "plt.xlabel('Index')  # Set the x-axis label\n",
    "plt.ylabel('Value')  # Set the y-axis label\n",
    "plt.grid(True)  # Enable grid to make the plot easier to read\n",
    "plt.show()  # Display the plot\n"
   ]
  },
  {
   "cell_type": "code",
   "execution_count": 4,
   "id": "663ab71a-288e-4a5c-bb30-835b65f9a79f",
   "metadata": {},
   "outputs": [],
   "source": [
    "#set up functions\n",
    "import numpy as np\n",
    "\n",
    "def generate_grid(n, resolution):\n",
    "    num_points = int(1 / resolution) + 1\n",
    "    grid = np.mgrid[[slice(0, 1, 1j*num_points) for _ in range(n)]]\n",
    "    grid = grid.reshape(n, -1).T  # Reshape to have n columns\n",
    "    return grid\n",
    "\n",
    "def generate_binary_combinations(n):\n",
    "    # Use itertools.product to generate combinations and convert to a NumPy array\n",
    "    combinations = np.array(list(itertools.product([0, 1], repeat=n)))\n",
    "    return combinations\n"
   ]
  },
  {
   "cell_type": "code",
   "execution_count": 6,
   "id": "e961087e-e744-467e-b5cf-1092291c5096",
   "metadata": {},
   "outputs": [
    {
     "name": "stdout",
     "output_type": "stream",
     "text": [
      "Added farthest point: [0.000000, 0.250000, 0.125000, 0.250000, 0.000000]\n",
      "Added farthest point: [0.250000, 0.100000, 1.000000, 0.750000, 1.000000]\n",
      "Added farthest point: [0.250000, 0.075000, 1.000000, 0.000000, 0.250000]\n",
      "Added farthest point: [0.384406, 0.165901, 0.343644, 0.878119, 0.414417]\n",
      "Added farthest point: [0.641440, 0.768168, 0.296642, 0.679850, 0.005163]\n",
      "Added farthest point: [0.768398, 0.204390, 0.455940, 0.444113, 0.761264]\n",
      "Added farthest point: [0.072555, 0.698342, 0.698161, 0.863136, 0.118136]\n",
      "Added farthest point: [0.010868, 0.314042, 0.642970, 0.244744, 0.530541]\n",
      "Added farthest point: [0.616083, 0.607809, 0.420910, 0.852500, 0.807481]\n",
      "Added farthest point: [0.250000, 0.200000, 1.000000, 0.000000, 0.925000]\n"
     ]
    }
   ],
   "source": [
    "\n",
    "# Number of dimensions\n",
    "n = 5  \n",
    "corners = generate_binary_combinations(n)\n",
    "\n",
    "# Initial set of inputs using corners to force choice of points farther from the surface of the hypothesis space\n",
    "initial_np = np.load('initial_inputs.npy')\n",
    "initial_inputs = np.vstack([initial_np, corners])  # Append to the inputs\n",
    "inputs = initial_inputs.copy()  # Start with the initial inputs\n",
    "\n",
    "# Number of farthest points to find\n",
    "num_far_points = 10\n",
    "\n",
    "# Resolution for the grid\n",
    "resolution = 0.05\n",
    "\n",
    "# Generate initial grid\n",
    "grid_points = generate_grid(n, resolution)\n",
    "\n",
    "# List to store newly added farthest points\n",
    "new_points = []\n",
    "\n",
    "for _ in range(num_far_points):\n",
    "    tree = KDTree(inputs)  # Create a KD-tree for the current inputs\n",
    "    distances = tree.query(grid_points)[0]  # Find distances to nearest input points\n",
    "    max_index = np.argmax(distances)  # Index of the farthest point\n",
    "    farthest_point = grid_points[max_index]  # The farthest point\n",
    "\n",
    "    # Find the nearest point in inputs to the farthest_point\n",
    "    tree_initial = KDTree(inputs)\n",
    "    nearest_dist, nearest_index = tree_initial.query(farthest_point)  # Get nearest\n",
    "    nearest_point = inputs[nearest_index]\n",
    "\n",
    "    # Calculate the midpoint\n",
    "    new_point = (farthest_point + nearest_point) / 2\n",
    "\n",
    "    # Append to the inputs and new_points\n",
    "    inputs = np.vstack([inputs, new_point])\n",
    "    new_points.append(new_point)\n",
    "    formatted_point = ', '.join(f\"{coord:.6f}\" for coord in new_point)\n",
    "    print(f\"Added farthest point: [{formatted_point}]\")\n",
    "\n",
    "\n",
    "# Loop to find and append farthest points\n",
    "#for _ in range(num_far_points):\n",
    " #   tree = KDTree(inputs)  # Create a KD-tree for the current inputs\n",
    "  #  distances = tree.query(grid_points)[0]  # Find distances to nearest input points\n",
    "   # max_index = np.argmax(distances)  # Index of the farthest point\n",
    "    #farthest_point = grid_points[max_index]  # The farthest point\n",
    "    \n",
    "    #inputs = np.vstack([inputs, ????])  # Append to the inputs\n",
    "    #new_points.append(???)  # Store new point separately\n",
    "    #formatted_point = ', '.join(f\"{coord:.6f}\" for coord in farthest_point_rounded)\n",
    "    #print(f\"Added farthest point: [{formatted_point}]\")\n",
    "\n"
   ]
  },
  {
   "cell_type": "markdown",
   "id": "38251e62-0b04-419c-a21c-bddacf4eb47e",
   "metadata": {},
   "source": [
    "#### BEGIN SECOND PHASE - RUN FROM HERE"
   ]
  },
  {
   "cell_type": "code",
   "execution_count": 2,
   "id": "23e298f4-1af2-472f-92c8-72d90ff0bf18",
   "metadata": {},
   "outputs": [],
   "source": [
    "import sklearn\n",
    "import numpy as np\n",
    "import matplotlib.pyplot as plt\n",
    "import scipy\n",
    "from scipy.spatial import KDTree\n",
    "import itertools as it\n",
    "from mpl_toolkits.mplot3d import Axes3D  # Import the 3D plotting module\n",
    "from brokenaxes import brokenaxes\n",
    "from sklearn.gaussian_process import GaussianProcessRegressor\n",
    "from sklearn.gaussian_process.kernels import RBF, ConstantKernel as C\n",
    "from mpl_toolkits.mplot3d import Axes3D\n",
    "from matplotlib import cm\n",
    "import torch\n",
    "import math\n",
    "from botorch.fit import fit_gpytorch_mll\n",
    "from botorch.models import SingleTaskGP\n",
    "from gpytorch.mlls import ExactMarginalLogLikelihood\n",
    "from botorch.acquisition import UpperConfidenceBound"
   ]
  },
  {
   "cell_type": "code",
   "execution_count": 3,
   "id": "89675ba6-7d55-4f5e-8a9e-2a5e120830d9",
   "metadata": {},
   "outputs": [
    {
     "name": "stdout",
     "output_type": "stream",
     "text": [
      "[-0.71426495 -1.20995524 -1.67219994 -1.53605771 -0.82923655 -1.24704893\n",
      " -1.23378638 -1.69434344 -2.57116963 -1.30911635 -1.14478485 -1.91267714\n",
      " -1.62283895 -1.35668211 -2.0184254  -1.70255784 -1.29424696 -0.93575656\n",
      " -2.15576776 -1.74688209]\n"
     ]
    }
   ],
   "source": [
    "# Import inputs and outputs\n",
    "inputs = np.load('initial_inputs.npy')\n",
    "outputs = np.load('initial_outputs.npy')\n",
    "print(outputs)"
   ]
  },
  {
   "cell_type": "code",
   "execution_count": 4,
   "id": "929fb16e-f4fa-4f68-970d-5992f4672635",
   "metadata": {},
   "outputs": [],
   "source": [
    "new_inputs = np.array([[0.384406, 0.165901, 0.343644, 0.878119, 0.414417],[0.64144,  0.768168, 0.296642, 0.67985,  0.005163],[0.768398, 0.20439,  0.45594,  0.444113,0.761264],[0.072555 ,0.698342, 0.698161, 0.863136 ,0.118136]])\n",
    "new_outputs = np.array([-0.95813506330093,-1.20790243875159,-1.74412417525756,-0.800128372422867])\n"
   ]
  },
  {
   "cell_type": "code",
   "execution_count": 5,
   "id": "0df96034-299c-4cd7-b25a-76a7097f04ad",
   "metadata": {},
   "outputs": [
    {
     "name": "stdout",
     "output_type": "stream",
     "text": [
      "[-0.71426495 -1.20995524 -1.67219994 -1.53605771 -0.82923655 -1.24704893\n",
      " -1.23378638 -1.69434344 -2.57116963 -1.30911635 -1.14478485 -1.91267714\n",
      " -1.62283895 -1.35668211 -2.0184254  -1.70255784 -1.29424696 -0.93575656\n",
      " -2.15576776 -1.74688209 -0.95813506 -1.20790244 -1.74412418 -0.80012837]\n"
     ]
    }
   ],
   "source": [
    "inputs = np.append(inputs, new_inputs, axis = 0)\n",
    "outputs = np.append(outputs, new_outputs)\n",
    "print(outputs)"
   ]
  },
  {
   "cell_type": "markdown",
   "id": "1ccddf08-816b-416c-badb-e4acaff64339",
   "metadata": {},
   "source": [
    "#### Visualise New Outputs"
   ]
  },
  {
   "cell_type": "code",
   "execution_count": 6,
   "id": "cfd87b98-b633-4d0a-88f1-febc020cbf1f",
   "metadata": {},
   "outputs": [
    {
     "data": {
      "image/png": "[encoded data removed]",
      "text/plain": [
       "<Figure size 1000x500 with 1 Axes>"
      ]
     },
     "metadata": {},
     "output_type": "display_data"
    }
   ],
   "source": [
    "#visualise outputs\n",
    "# Create indices for your outputs array\n",
    "indices = np.arange(len(outputs))\n",
    "\n",
    "plt.figure(figsize=(10, 5))  # Set the figure size\n",
    "plt.scatter(indices, outputs, color='blue', alpha=0.6)  # Create a scatter plot\n",
    "plt.title('Scatter Plot of Outputs')  # Set the title of the plot\n",
    "plt.xlabel('Index')  # Set the x-axis label\n",
    "plt.ylabel('Value')  # Set the y-axis label\n",
    "plt.grid(True)  # Enable grid to make the plot easier to read\n",
    "plt.show()  # Display the plot"
   ]
  },
  {
   "cell_type": "code",
   "execution_count": 11,
   "id": "9cdeecf4-b438-41b3-b765-f9f5c29a91f8",
   "metadata": {},
   "outputs": [
    {
     "ename": "NameError",
     "evalue": "name 'Turbo1' is not defined",
     "output_type": "error",
     "traceback": [
      "\u001b[0;31m---------------------------------------------------------------------------\u001b[0m",
      "\u001b[0;31mNameError\u001b[0m                                 Traceback (most recent call last)",
      "Cell \u001b[0;32mIn[11], line 19\u001b[0m\n\u001b[1;32m     16\u001b[0m bounds \u001b[38;5;241m=\u001b[39m np\u001b[38;5;241m.\u001b[39marray([[\u001b[38;5;241m0\u001b[39m, \u001b[38;5;241m1\u001b[39m], [\u001b[38;5;241m0\u001b[39m, \u001b[38;5;241m1\u001b[39m], [\u001b[38;5;241m0\u001b[39m, \u001b[38;5;241m1\u001b[39m], [\u001b[38;5;241m0\u001b[39m, \u001b[38;5;241m1\u001b[39m], [\u001b[38;5;241m0\u001b[39m, \u001b[38;5;241m1\u001b[39m]])  \u001b[38;5;66;03m# Adjust based on your actual input ranges\u001b[39;00m\n\u001b[1;32m     18\u001b[0m \u001b[38;5;66;03m# Initialize Turbo1 optimizer\u001b[39;00m\n\u001b[0;32m---> 19\u001b[0m turbo1 \u001b[38;5;241m=\u001b[39m Turbo1(\n\u001b[1;32m     20\u001b[0m     f\u001b[38;5;241m=\u001b[39msurrogate_objective_function,  \u001b[38;5;66;03m# Use the surrogate objective function\u001b[39;00m\n\u001b[1;32m     21\u001b[0m     lb\u001b[38;5;241m=\u001b[39mbounds[:, \u001b[38;5;241m0\u001b[39m],\n\u001b[1;32m     22\u001b[0m     ub\u001b[38;5;241m=\u001b[39mbounds[:, \u001b[38;5;241m1\u001b[39m],\n\u001b[1;32m     23\u001b[0m     n_init\u001b[38;5;241m=\u001b[39m\u001b[38;5;241m20\u001b[39m,  \u001b[38;5;66;03m# Initial number of random evaluations\u001b[39;00m\n\u001b[1;32m     24\u001b[0m     max_evals\u001b[38;5;241m=\u001b[39m\u001b[38;5;241m200\u001b[39m,  \u001b[38;5;66;03m# Maximum number of evaluations\u001b[39;00m\n\u001b[1;32m     25\u001b[0m     batch_size\u001b[38;5;241m=\u001b[39m\u001b[38;5;241m1\u001b[39m,  \u001b[38;5;66;03m# Number of evaluations per iteration\u001b[39;00m\n\u001b[1;32m     26\u001b[0m )\n\u001b[1;32m     28\u001b[0m \u001b[38;5;66;03m# Run the optimization\u001b[39;00m\n\u001b[1;32m     29\u001b[0m turbo1\u001b[38;5;241m.\u001b[39moptimize()\n",
      "\u001b[0;31mNameError\u001b[0m: name 'Turbo1' is not defined"
     ]
    }
   ],
   "source": [
    "# Define the kernel\n",
    "kernel = C(1.0, (1e-2, 1e2)) * RBF(1.0, (1e-2, 1e2))\n",
    "\n",
    "# Create and train the Gaussian Process Regressor\n",
    "gpr = GaussianProcessRegressor(kernel=kernel, n_restarts_optimizer=5)\n",
    "gpr.fit(inputs, outputs)\n",
    "\n",
    "# Define the objective function using the surrogate model\n",
    "def surrogate_objective_function(x):\n",
    "    # Predict using the Gaussian Process\n",
    "    y_pred, sigma = gpr.predict(x.reshape(1, -1), return_std=True)\n",
    "    # Return the negative prediction because Turbo minimizes the objective\n",
    "    return -y_pred[0]\n",
    "\n",
    "# Define the bounds of the search space, ENSURE THIS MATCHES NO OF DIMENSIONS\n",
    "bounds = np.array([[0, 1], [0, 1], [0, 1], [0, 1], [0, 1]])  # Adjust based on your actual input ranges\n",
    "\n",
    "# Initialize Turbo1 optimizer\n",
    "turbo1 = Turbo1(\n",
    "    f=surrogate_objective_function,  # Use the surrogate objective function\n",
    "    lb=bounds[:, 0],\n",
    "    ub=bounds[:, 1],\n",
    "    n_init=20,  # Initial number of random evaluations\n",
    "    max_evals=200,  # Maximum number of evaluations\n",
    "    batch_size=1,  # Number of evaluations per iteration\n",
    ")\n",
    "\n",
    "# Run the optimization\n",
    "turbo1.optimize()\n",
    "\n",
    "# Get the results\n",
    "X, fX = turbo1.X, turbo1.fX\n",
    "\n",
    "# Since we minimized the negative objective, the maximum value is the negative of the minimum found\n",
    "best_solution = X[np.argmin(fX)]\n",
    "max_value = -np.min(fX)\n",
    "print(f\"Best solution: {best_solution} with value {max_value}\")"
   ]
  },
  {
   "cell_type": "code",
   "execution_count": null,
   "id": "369949f5-7eab-4ee5-afb5-01dc726bdeda",
   "metadata": {},
   "outputs": [],
   "source": [
    "#Define no. of dimensions\n",
    "N = 5 \n",
    "# Convert data to PyTorch tensors\n",
    "pyt_inputs = torch.tensor(inputs, dtype=torch.float32)\n",
    "pyt_outputs = torch.tensor(outputs, dtype=torch.float32).unsqueeze(-1)\n",
    "\n",
    "gp = SingleTaskGP(pyt_inputs, pyt_outputs)\n",
    "mll = ExactMarginalLogLikelihood(gp.likelihood, gp)\n",
    "fit_gpytorch_mll(mll);"
   ]
  },
  {
   "cell_type": "code",
   "execution_count": 1,
   "id": "11bf3ac9-d525-4d37-af07-b52022baebe4",
   "metadata": {},
   "outputs": [
    {
     "ename": "NameError",
     "evalue": "name 'torch' is not defined",
     "output_type": "error",
     "traceback": [
      "\u001b[0;31m---------------------------------------------------------------------------\u001b[0m",
      "\u001b[0;31mNameError\u001b[0m                                 Traceback (most recent call last)",
      "Cell \u001b[0;32mIn[1], line 2\u001b[0m\n\u001b[1;32m      1\u001b[0m \u001b[38;5;66;03m# Convert data to PyTorch tensors\u001b[39;00m\n\u001b[0;32m----> 2\u001b[0m train_X \u001b[38;5;241m=\u001b[39m torch\u001b[38;5;241m.\u001b[39mtensor(inputs, dtype\u001b[38;5;241m=\u001b[39mtorch\u001b[38;5;241m.\u001b[39mfloat32)\n\u001b[1;32m      3\u001b[0m train_Y \u001b[38;5;241m=\u001b[39m torch\u001b[38;5;241m.\u001b[39mtensor(outputs, dtype\u001b[38;5;241m=\u001b[39mtorch\u001b[38;5;241m.\u001b[39mfloat32)\u001b[38;5;241m.\u001b[39munsqueeze(\u001b[38;5;241m-\u001b[39m\u001b[38;5;241m1\u001b[39m)\n\u001b[1;32m      5\u001b[0m \u001b[38;5;66;03m# Define the Gaussian Process model\u001b[39;00m\n",
      "\u001b[0;31mNameError\u001b[0m: name 'torch' is not defined"
     ]
    }
   ],
   "source": [
    "# Convert data to PyTorch tensors\n",
    "train_X = torch.tensor(inputs, dtype=torch.float32)\n",
    "train_Y = torch.tensor(outputs, dtype=torch.float32).unsqueeze(-1)\n",
    "\n",
    "# Define the Gaussian Process model\n",
    "model = SingleTaskGP(train_X, train_Y, outcome_transform=Standardize(m=1))\n",
    "mll = ExactMarginalLogLikelihood(model.likelihood, model)\n",
    "\n",
    "# Fit the model\n",
    "fit_gpytorch_model(mll)\n",
    "\n",
    "# Define the UCB acquisition function\n",
    "class TurboAcquisition(AcquisitionFunction):\n",
    "    def __init__(self, model, beta=0.2):\n",
    "        super().__init__(model)\n",
    "        self.beta = beta\n",
    "\n",
    "    def forward(self, X):\n",
    "        posterior = self.model.posterior(X)\n",
    "        mean = posterior.mean\n",
    "        sigma = posterior.variance.sqrt()\n",
    "        return mean + self.beta * sigma\n",
    "\n",
    "acq_func = TurboAcquisition(model)\n",
    "\n",
    "# Define the bounds of the search space\n",
    "bounds = torch.tensor([[0.0, 0.0], [1.0, 1.0]], dtype=torch.float32)\n",
    "\n",
    "# Perform the optimization\n",
    "candidates, acq_value = optimize_acqf(\n",
    "    acq_function=acq_func,\n",
    "    bounds=bounds,\n",
    "    q=1,\n",
    "    num_restarts=10,\n",
    "    raw_samples=100,\n",
    ")\n",
    "\n",
    "# Retrieve the best candidate\n",
    "best_candidate = candidates.detach().numpy()\n",
    "\n",
    "# Print the best candidate\n",
    "print(f\"Best candidate: {best_candidate}\")"
   ]
  },
  {
   "cell_type": "code",
   "execution_count": null,
   "id": "be0438cb-5fc9-4d42-8117-7c9fc9962a8f",
   "metadata": {},
   "outputs": [],
   "source": []
  }
 ],
 "metadata": {
  "kernelspec": {
   "display_name": "Python 3 (ipykernel)",
   "language": "python",
   "name": "python3"
  },
  "language_info": {
   "codemirror_mode": {
    "name": "ipython",
    "version": 3
   },
   "file_extension": ".py",
   "mimetype": "text/x-python",
   "name": "python",
   "nbconvert_exporter": "python",
   "pygments_lexer": "ipython3",
   "version": "3.11.5"
  }
 },
 "nbformat": 4,
 "nbformat_minor": 5
}
