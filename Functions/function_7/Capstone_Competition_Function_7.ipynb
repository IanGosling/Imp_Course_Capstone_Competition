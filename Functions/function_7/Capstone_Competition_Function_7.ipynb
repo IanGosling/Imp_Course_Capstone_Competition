{
  "nbformat": 4,
  "nbformat_minor": 0,
  "metadata": {
    "colab": {
      "provenance": []
    },
    "kernelspec": {
      "name": "python3",
      "display_name": "Python 3"
    },
    "language_info": {
      "name": "python"
    }
  },
  "cells": [
    {
      "cell_type": "markdown",
      "source": [],
      "metadata": {
        "id": "w-T00cSRQajp"
      }
    },
    {
      "cell_type": "code",
      "source": [
        "!pip install cma\n",
        "!pip install torch\n",
        "!pip install botorch"
      ],
      "metadata": {
        "colab": {
          "base_uri": "https://localhost:8080/"
        },
        "id": "EzbsYhDBUwO5",
        "outputId": "4faf9b95-6369-4d59-a7d8-eb124e5f0106"
      },
      "execution_count": null,
      "outputs": [
        {
          "output_type": "stream",
          "name": "stdout",
          "text": [
            "Collecting cma\n",
            "  Downloading cma-3.4.0-py3-none-any.whl (269 kB)\n",
            "\u001b[2K     \u001b[90m━━━━━━━━━━━━━━━━━━━━━━━━━━━━━━━━━━━━━━━━\u001b[0m \u001b[32m269.7/269.7 kB\u001b[0m \u001b[31m1.8 MB/s\u001b[0m eta \u001b[36m0:00:00\u001b[0m\n",
            "\u001b[?25hRequirement already satisfied: numpy in /usr/local/lib/python3.10/dist-packages (from cma) (1.25.2)\n",
            "Installing collected packages: cma\n",
            "Successfully installed cma-3.4.0\n",
            "Requirement already satisfied: torch in /usr/local/lib/python3.10/dist-packages (2.3.1+cu121)\n",
            "Requirement already satisfied: filelock in /usr/local/lib/python3.10/dist-packages (from torch) (3.15.4)\n",
            "Requirement already satisfied: typing-extensions>=4.8.0 in /usr/local/lib/python3.10/dist-packages (from torch) (4.12.2)\n",
            "Requirement already satisfied: sympy in /usr/local/lib/python3.10/dist-packages (from torch) (1.13.0)\n",
            "Requirement already satisfied: networkx in /usr/local/lib/python3.10/dist-packages (from torch) (3.3)\n",
            "Requirement already satisfied: jinja2 in /usr/local/lib/python3.10/dist-packages (from torch) (3.1.4)\n",
            "Requirement already satisfied: fsspec in /usr/local/lib/python3.10/dist-packages (from torch) (2023.6.0)\n",
            "Collecting nvidia-cuda-nvrtc-cu12==12.1.105 (from torch)\n",
            "  Using cached nvidia_cuda_nvrtc_cu12-12.1.105-py3-none-manylinux1_x86_64.whl (23.7 MB)\n",
            "Collecting nvidia-cuda-runtime-cu12==12.1.105 (from torch)\n",
            "  Using cached nvidia_cuda_runtime_cu12-12.1.105-py3-none-manylinux1_x86_64.whl (823 kB)\n",
            "Collecting nvidia-cuda-cupti-cu12==12.1.105 (from torch)\n",
            "  Using cached nvidia_cuda_cupti_cu12-12.1.105-py3-none-manylinux1_x86_64.whl (14.1 MB)\n",
            "Collecting nvidia-cudnn-cu12==8.9.2.26 (from torch)\n",
            "  Using cached nvidia_cudnn_cu12-8.9.2.26-py3-none-manylinux1_x86_64.whl (731.7 MB)\n",
            "Collecting nvidia-cublas-cu12==12.1.3.1 (from torch)\n",
            "  Using cached nvidia_cublas_cu12-12.1.3.1-py3-none-manylinux1_x86_64.whl (410.6 MB)\n",
            "Collecting nvidia-cufft-cu12==11.0.2.54 (from torch)\n",
            "  Using cached nvidia_cufft_cu12-11.0.2.54-py3-none-manylinux1_x86_64.whl (121.6 MB)\n",
            "Collecting nvidia-curand-cu12==10.3.2.106 (from torch)\n",
            "  Using cached nvidia_curand_cu12-10.3.2.106-py3-none-manylinux1_x86_64.whl (56.5 MB)\n",
            "Collecting nvidia-cusolver-cu12==11.4.5.107 (from torch)\n",
            "  Using cached nvidia_cusolver_cu12-11.4.5.107-py3-none-manylinux1_x86_64.whl (124.2 MB)\n",
            "Collecting nvidia-cusparse-cu12==12.1.0.106 (from torch)\n",
            "  Using cached nvidia_cusparse_cu12-12.1.0.106-py3-none-manylinux1_x86_64.whl (196.0 MB)\n",
            "Collecting nvidia-nccl-cu12==2.20.5 (from torch)\n",
            "  Using cached nvidia_nccl_cu12-2.20.5-py3-none-manylinux2014_x86_64.whl (176.2 MB)\n",
            "Collecting nvidia-nvtx-cu12==12.1.105 (from torch)\n",
            "  Using cached nvidia_nvtx_cu12-12.1.105-py3-none-manylinux1_x86_64.whl (99 kB)\n",
            "Requirement already satisfied: triton==2.3.1 in /usr/local/lib/python3.10/dist-packages (from torch) (2.3.1)\n",
            "Collecting nvidia-nvjitlink-cu12 (from nvidia-cusolver-cu12==11.4.5.107->torch)\n",
            "  Downloading nvidia_nvjitlink_cu12-12.5.82-py3-none-manylinux2014_x86_64.whl (21.3 MB)\n",
            "\u001b[2K     \u001b[90m━━━━━━━━━━━━━━━━━━━━━━━━━━━━━━━━━━━━━━━━\u001b[0m \u001b[32m21.3/21.3 MB\u001b[0m \u001b[31m33.0 MB/s\u001b[0m eta \u001b[36m0:00:00\u001b[0m\n",
            "\u001b[?25hRequirement already satisfied: MarkupSafe>=2.0 in /usr/local/lib/python3.10/dist-packages (from jinja2->torch) (2.1.5)\n",
            "Requirement already satisfied: mpmath<1.4,>=1.1.0 in /usr/local/lib/python3.10/dist-packages (from sympy->torch) (1.3.0)\n",
            "Installing collected packages: nvidia-nvtx-cu12, nvidia-nvjitlink-cu12, nvidia-nccl-cu12, nvidia-curand-cu12, nvidia-cufft-cu12, nvidia-cuda-runtime-cu12, nvidia-cuda-nvrtc-cu12, nvidia-cuda-cupti-cu12, nvidia-cublas-cu12, nvidia-cusparse-cu12, nvidia-cudnn-cu12, nvidia-cusolver-cu12\n",
            "Successfully installed nvidia-cublas-cu12-12.1.3.1 nvidia-cuda-cupti-cu12-12.1.105 nvidia-cuda-nvrtc-cu12-12.1.105 nvidia-cuda-runtime-cu12-12.1.105 nvidia-cudnn-cu12-8.9.2.26 nvidia-cufft-cu12-11.0.2.54 nvidia-curand-cu12-10.3.2.106 nvidia-cusolver-cu12-11.4.5.107 nvidia-cusparse-cu12-12.1.0.106 nvidia-nccl-cu12-2.20.5 nvidia-nvjitlink-cu12-12.5.82 nvidia-nvtx-cu12-12.1.105\n",
            "Collecting botorch\n",
            "  Downloading botorch-0.11.1-py3-none-any.whl (629 kB)\n",
            "\u001b[2K     \u001b[90m━━━━━━━━━━━━━━━━━━━━━━━━━━━━━━━━━━━━━━━━\u001b[0m \u001b[32m629.6/629.6 kB\u001b[0m \u001b[31m4.0 MB/s\u001b[0m eta \u001b[36m0:00:00\u001b[0m\n",
            "\u001b[?25hRequirement already satisfied: multipledispatch in /usr/local/lib/python3.10/dist-packages (from botorch) (1.0.0)\n",
            "Requirement already satisfied: scipy in /usr/local/lib/python3.10/dist-packages (from botorch) (1.11.4)\n",
            "Requirement already satisfied: mpmath<=1.3,>=0.19 in /usr/local/lib/python3.10/dist-packages (from botorch) (1.3.0)\n",
            "Requirement already satisfied: torch>=1.13.1 in /usr/local/lib/python3.10/dist-packages (from botorch) (2.3.1+cu121)\n",
            "Collecting pyro-ppl>=1.8.4 (from botorch)\n",
            "  Downloading pyro_ppl-1.9.1-py3-none-any.whl (755 kB)\n",
            "\u001b[2K     \u001b[90m━━━━━━━━━━━━━━━━━━━━━━━━━━━━━━━━━━━━━━━━\u001b[0m \u001b[32m756.0/756.0 kB\u001b[0m \u001b[31m19.4 MB/s\u001b[0m eta \u001b[36m0:00:00\u001b[0m\n",
            "\u001b[?25hCollecting gpytorch==1.11 (from botorch)\n",
            "  Downloading gpytorch-1.11-py3-none-any.whl (266 kB)\n",
            "\u001b[2K     \u001b[90m━━━━━━━━━━━━━━━━━━━━━━━━━━━━━━━━━━━━━━━━\u001b[0m \u001b[32m266.1/266.1 kB\u001b[0m \u001b[31m26.5 MB/s\u001b[0m eta \u001b[36m0:00:00\u001b[0m\n",
            "\u001b[?25hCollecting linear-operator==0.5.1 (from botorch)\n",
            "  Downloading linear_operator-0.5.1-py3-none-any.whl (174 kB)\n",
            "\u001b[2K     \u001b[90m━━━━━━━━━━━━━━━━━━━━━━━━━━━━━━━━━━━━━━━━\u001b[0m \u001b[32m174.5/174.5 kB\u001b[0m \u001b[31m22.8 MB/s\u001b[0m eta \u001b[36m0:00:00\u001b[0m\n",
            "\u001b[?25hRequirement already satisfied: scikit-learn in /usr/local/lib/python3.10/dist-packages (from gpytorch==1.11->botorch) (1.2.2)\n",
            "Collecting jaxtyping>=0.2.9 (from linear-operator==0.5.1->botorch)\n",
            "  Downloading jaxtyping-0.2.33-py3-none-any.whl (42 kB)\n",
            "\u001b[2K     \u001b[90m━━━━━━━━━━━━━━━━━━━━━━━━━━━━━━━━━━━━━━━━\u001b[0m \u001b[32m42.4/42.4 kB\u001b[0m \u001b[31m4.9 MB/s\u001b[0m eta \u001b[36m0:00:00\u001b[0m\n",
            "\u001b[?25hCollecting typeguard~=2.13.3 (from linear-operator==0.5.1->botorch)\n",
            "  Downloading typeguard-2.13.3-py3-none-any.whl (17 kB)\n",
            "Requirement already satisfied: numpy>=1.7 in /usr/local/lib/python3.10/dist-packages (from pyro-ppl>=1.8.4->botorch) (1.25.2)\n",
            "Requirement already satisfied: opt-einsum>=2.3.2 in /usr/local/lib/python3.10/dist-packages (from pyro-ppl>=1.8.4->botorch) (3.3.0)\n",
            "Collecting pyro-api>=0.1.1 (from pyro-ppl>=1.8.4->botorch)\n",
            "  Downloading pyro_api-0.1.2-py3-none-any.whl (11 kB)\n",
            "Requirement already satisfied: tqdm>=4.36 in /usr/local/lib/python3.10/dist-packages (from pyro-ppl>=1.8.4->botorch) (4.66.4)\n",
            "Requirement already satisfied: filelock in /usr/local/lib/python3.10/dist-packages (from torch>=1.13.1->botorch) (3.15.4)\n",
            "Requirement already satisfied: typing-extensions>=4.8.0 in /usr/local/lib/python3.10/dist-packages (from torch>=1.13.1->botorch) (4.12.2)\n",
            "Requirement already satisfied: sympy in /usr/local/lib/python3.10/dist-packages (from torch>=1.13.1->botorch) (1.13.0)\n",
            "Requirement already satisfied: networkx in /usr/local/lib/python3.10/dist-packages (from torch>=1.13.1->botorch) (3.3)\n",
            "Requirement already satisfied: jinja2 in /usr/local/lib/python3.10/dist-packages (from torch>=1.13.1->botorch) (3.1.4)\n",
            "Requirement already satisfied: fsspec in /usr/local/lib/python3.10/dist-packages (from torch>=1.13.1->botorch) (2023.6.0)\n",
            "Requirement already satisfied: nvidia-cuda-nvrtc-cu12==12.1.105 in /usr/local/lib/python3.10/dist-packages (from torch>=1.13.1->botorch) (12.1.105)\n",
            "Requirement already satisfied: nvidia-cuda-runtime-cu12==12.1.105 in /usr/local/lib/python3.10/dist-packages (from torch>=1.13.1->botorch) (12.1.105)\n",
            "Requirement already satisfied: nvidia-cuda-cupti-cu12==12.1.105 in /usr/local/lib/python3.10/dist-packages (from torch>=1.13.1->botorch) (12.1.105)\n",
            "Requirement already satisfied: nvidia-cudnn-cu12==8.9.2.26 in /usr/local/lib/python3.10/dist-packages (from torch>=1.13.1->botorch) (8.9.2.26)\n",
            "Requirement already satisfied: nvidia-cublas-cu12==12.1.3.1 in /usr/local/lib/python3.10/dist-packages (from torch>=1.13.1->botorch) (12.1.3.1)\n",
            "Requirement already satisfied: nvidia-cufft-cu12==11.0.2.54 in /usr/local/lib/python3.10/dist-packages (from torch>=1.13.1->botorch) (11.0.2.54)\n",
            "Requirement already satisfied: nvidia-curand-cu12==10.3.2.106 in /usr/local/lib/python3.10/dist-packages (from torch>=1.13.1->botorch) (10.3.2.106)\n",
            "Requirement already satisfied: nvidia-cusolver-cu12==11.4.5.107 in /usr/local/lib/python3.10/dist-packages (from torch>=1.13.1->botorch) (11.4.5.107)\n",
            "Requirement already satisfied: nvidia-cusparse-cu12==12.1.0.106 in /usr/local/lib/python3.10/dist-packages (from torch>=1.13.1->botorch) (12.1.0.106)\n",
            "Requirement already satisfied: nvidia-nccl-cu12==2.20.5 in /usr/local/lib/python3.10/dist-packages (from torch>=1.13.1->botorch) (2.20.5)\n",
            "Requirement already satisfied: nvidia-nvtx-cu12==12.1.105 in /usr/local/lib/python3.10/dist-packages (from torch>=1.13.1->botorch) (12.1.105)\n",
            "Requirement already satisfied: triton==2.3.1 in /usr/local/lib/python3.10/dist-packages (from torch>=1.13.1->botorch) (2.3.1)\n",
            "Requirement already satisfied: nvidia-nvjitlink-cu12 in /usr/local/lib/python3.10/dist-packages (from nvidia-cusolver-cu12==11.4.5.107->torch>=1.13.1->botorch) (12.5.82)\n",
            "Requirement already satisfied: MarkupSafe>=2.0 in /usr/local/lib/python3.10/dist-packages (from jinja2->torch>=1.13.1->botorch) (2.1.5)\n",
            "Requirement already satisfied: joblib>=1.1.1 in /usr/local/lib/python3.10/dist-packages (from scikit-learn->gpytorch==1.11->botorch) (1.4.2)\n",
            "Requirement already satisfied: threadpoolctl>=2.0.0 in /usr/local/lib/python3.10/dist-packages (from scikit-learn->gpytorch==1.11->botorch) (3.5.0)\n",
            "Installing collected packages: pyro-api, typeguard, jaxtyping, pyro-ppl, linear-operator, gpytorch, botorch\n",
            "Successfully installed botorch-0.11.1 gpytorch-1.11 jaxtyping-0.2.33 linear-operator-0.5.1 pyro-api-0.1.2 pyro-ppl-1.9.1 typeguard-2.13.3\n"
          ]
        }
      ]
    },
    {
      "cell_type": "code",
      "execution_count": null,
      "metadata": {
        "id": "PZcrOo55QYN2"
      },
      "outputs": [],
      "source": [
        "import sklearn\n",
        "import numpy as np\n",
        "import matplotlib.pyplot as plt\n",
        "import scipy\n",
        "from scipy.spatial import KDTree\n",
        "import itertools as it\n",
        "from mpl_toolkits.mplot3d import Axes3D  # Import the 3D plotting module\n",
        "from sklearn.gaussian_process import GaussianProcessRegressor\n",
        "from sklearn.gaussian_process.kernels import RBF, ConstantKernel as C\n",
        "from mpl_toolkits.mplot3d import Axes3D\n",
        "from matplotlib import cm\n",
        "import torch\n",
        "import math\n",
        "from botorch.fit import fit_gpytorch_mll\n",
        "from botorch.models import SingleTaskGP\n",
        "from gpytorch.mlls import ExactMarginalLogLikelihood\n",
        "from botorch.models.transforms import Standardize\n",
        "from botorch.acquisition.acquisition import AcquisitionFunction\n",
        "from botorch.acquisition import UpperConfidenceBound\n",
        "import cma"
      ]
    },
    {
      "cell_type": "code",
      "source": [
        "# Mount Drive\n",
        "# Get initial Values\n",
        "inputs = np.load('/content/drive/My Drive/Imperial ML Course/Capstone Competition/function_7/initial_inputs.npy')\n",
        "outputs = np.load('/content/drive/My Drive/Imperial ML Course/Capstone Competition/function_7/initial_outputs.npy')"
      ],
      "metadata": {
        "id": "RmWN6P8pQj2k"
      },
      "execution_count": null,
      "outputs": []
    },
    {
      "cell_type": "code",
      "source": [
        "print(inputs)"
      ],
      "metadata": {
        "colab": {
          "base_uri": "https://localhost:8080/"
        },
        "id": "Q_npx0XaQv66",
        "outputId": "fecaed26-814c-402b-dc71-b1e5f5584833"
      },
      "execution_count": null,
      "outputs": [
        {
          "output_type": "stream",
          "name": "stdout",
          "text": [
            "[[0.27262382 0.32449536 0.89710881 0.83295115 0.15406269 0.79586362]\n",
            " [0.54300258 0.9246939  0.34156746 0.64648585 0.71844033 0.34313266]\n",
            " [0.09083225 0.66152938 0.06593091 0.25857701 0.96345285 0.6402654 ]\n",
            " [0.11886697 0.61505494 0.90581639 0.8553003  0.41363143 0.58523563]\n",
            " [0.63021764 0.8380969  0.68001305 0.73189509 0.52673671 0.34842921]\n",
            " [0.76491917 0.25588292 0.60908422 0.21807904 0.32294277 0.09579366]\n",
            " [0.05789554 0.49167222 0.24742222 0.21811844 0.42042833 0.73096984]\n",
            " [0.19525188 0.07922665 0.55458046 0.17056682 0.01494418 0.10703171]\n",
            " [0.64230298 0.83687455 0.02179269 0.10148801 0.68307083 0.6924164 ]\n",
            " [0.78994255 0.19554501 0.57562333 0.07365919 0.25904917 0.05109986]\n",
            " [0.52849733 0.45742436 0.36009569 0.36204551 0.81689098 0.63747637]\n",
            " [0.72261522 0.01181284 0.06364591 0.16517311 0.07924415 0.35995166]\n",
            " [0.07566492 0.33450212 0.13273274 0.60831236 0.91838592 0.82233079]\n",
            " [0.94245084 0.37743962 0.48612233 0.22879108 0.08263175 0.71195755]\n",
            " [0.14864702 0.03394336 0.72880565 0.31606646 0.02176938 0.51691776]\n",
            " [0.81711239 0.54816823 0.10334758 0.12436955 0.72823482 0.44967361]\n",
            " [0.41762629 0.06409998 0.24566877 0.5590408  0.19153138 0.25464092]\n",
            " [0.72628566 0.46489581 0.92457051 0.8072454  0.6354384  0.14341787]\n",
            " [0.31981043 0.52009759 0.29067775 0.87670668 0.49503469 0.6190825 ]\n",
            " [0.87987128 0.39796199 0.00363456 0.95699064 0.26451373 0.11486924]\n",
            " [0.54124078 0.63140314 0.03190205 0.44998156 0.79865282 0.63370429]\n",
            " [0.22634792 0.11502581 0.82474966 0.94538372 0.90531153 0.95101392]\n",
            " [0.68685257 0.04101721 0.00757301 0.285009   0.69156848 0.6555429 ]\n",
            " [0.17597754 0.6244165  0.29554198 0.46955276 0.09776977 0.72814108]\n",
            " [0.88164674 0.20445019 0.41447436 0.42038468 0.26491501 0.73066019]\n",
            " [0.06661051 0.52804507 0.8160952  0.96101714 0.08650933 0.77778822]\n",
            " [0.93246638 0.48881189 0.25860774 0.95624344 0.19042781 0.51985176]\n",
            " [0.84686697 0.14242917 0.06066859 0.75629213 0.5523983  0.08130609]\n",
            " [0.80628208 0.32412237 0.72607601 0.14871213 0.7193764  0.36288398]\n",
            " [0.47682313 0.34094195 0.01433523 0.88013956 0.9986547  0.07966402]]\n"
          ]
        }
      ]
    },
    {
      "cell_type": "code",
      "source": [
        "#Add new Inputs and Outputs\n",
        "new_inputs = np.array([[0.565109, 0.919048, 0.840007, 0.365948, 0.513368, 0.424215],[0.271501, 0.687347 ,0.445784, 0.573243, 0.73422,  0.171566],[0.507554, 0.709524 ,0.920003, 0.182974 ,0.506684 ,0.712107],[0.782554, 0.959524, 0.670003, 0.432974, 0.481684, 0.712107],[0.532122, 0.627393, 0.538614, 0.549902, 0.604653, 0.680134],[0.530456, 0.583909, 0.508251, 0.562939, 0.603956, 0.68181]])\n",
        "new_outputs = np.array([0.21511504250318814, 1.3219168651763396, 0.24438551897404212, 0.052036579112222335, 0.14792223637044258, 0.15851281630423428])\n"
      ],
      "metadata": {
        "id": "mLqTSRM3TmmI"
      },
      "execution_count": null,
      "outputs": []
    },
    {
      "cell_type": "code",
      "source": [
        "inputs = np.append(inputs, new_inputs, axis = 0)\n",
        "outputs = np.append(outputs, new_outputs)\n",
        "print(outputs)"
      ],
      "metadata": {
        "colab": {
          "base_uri": "https://localhost:8080/"
        },
        "id": "sQIC-0daVIAB",
        "outputId": "6f77727f-34e0-4df4-f1a2-945590ccf3ca"
      },
      "execution_count": null,
      "outputs": [
        {
          "output_type": "stream",
          "name": "stdout",
          "text": [
            "[0.6044327  0.56275307 0.00750324 0.0614243  0.2730468  0.08374657\n",
            " 1.3649683  0.09264495 0.0178696  0.03356494 0.0735163  0.2063097\n",
            " 0.00882563 0.26840032 0.61152553 0.01479818 0.27489251 0.06676325\n",
            " 0.04211835 0.00270147 0.01820907 0.00701603 0.10050661 0.47539552\n",
            " 0.67514163 0.51645722 0.00377748 0.00313433 0.02134252 0.09541116\n",
            " 0.21511504 1.32191687 0.24438552 0.05203658 0.14792224 0.15851282]\n"
          ]
        }
      ]
    },
    {
      "cell_type": "code",
      "source": [
        "#Visualise New Outputs\n",
        "# Create indices for your outputs array\n",
        "indices = np.arange(len(outputs))\n",
        "\n",
        "plt.figure(figsize=(10, 5))  # Set the figure size\n",
        "plt.scatter(indices, outputs, color='blue', alpha=0.6)  # Create a scatter plot\n",
        "plt.title('Scatter Plot of Outputs')  # Set the title of the plot\n",
        "plt.xlabel('Index')  # Set the x-axis label\n",
        "plt.ylabel('Value')  # Set the y-axis label\n",
        "plt.grid(True)  # Enable grid to make the plot easier to read\n",
        "plt.show()  # Display the plot"
      ],
      "metadata": {
        "colab": {
          "base_uri": "https://localhost:8080/",
          "height": 487
        },
        "id": "QXoJ6-kjVLtK",
        "outputId": "55ba9954-867b-4fe1-9e8f-6a981aeebe04"
      },
      "execution_count": null,
      "outputs": [
        {
          "output_type": "display_data",
          "data": {
            "text/plain": [
              "<Figure size 1000x500 with 1 Axes>"
            ],
            "image/png": "[encoded data removed]"
          },
          "metadata": {}
        }
      ]
    },
    {
      "cell_type": "code",
      "source": [
        "# Example data (replace with your actual inputs and outputs)\n",
        "N = 6  # Number of dimensions\n",
        "\n",
        "\n",
        "# Standardize the initial training data to zero mean and unit variance\n",
        "def standardize(X):\n",
        "    mean = X.mean(0)\n",
        "    std = X.std(0)\n",
        "    return (X - mean) / std, mean, std\n",
        "\n",
        "def unstandardize(X, mean, std):\n",
        "    return X * std + mean\n",
        "\n",
        "X_standardized, mean_X, std_X = standardize(inputs)\n",
        "\n",
        "\n",
        "# Convert to torch tensors\n",
        "train_X = torch.tensor(X_standardized, dtype=torch.double)\n",
        "train_Y = torch.tensor(outputs, dtype=torch.double).unsqueeze(-1)\n",
        "\n",
        "\n",
        "# Define the model\n",
        "model = SingleTaskGP(train_X, train_Y)\n",
        "mll = ExactMarginalLogLikelihood(model.likelihood, model)\n",
        "fit_gpytorch_mll(mll)\n",
        "\n",
        "# Define the acquisition function\n",
        "acq_func = UpperConfidenceBound(model, beta=1.0)\n",
        "\n",
        "# Define the objective for CMA-ES\n",
        "def objective(x):\n",
        "    x = torch.tensor(x, dtype=torch.double).unsqueeze(0)\n",
        "    x_standardized = (x - mean_X) / std_X  # Standardize the input\n",
        "    with torch.no_grad():\n",
        "        acq_value = acq_func(x_standardized)\n",
        "    return -acq_value.item()  # Negate because CMA-ES minimizes\n",
        "\n",
        "# Initialize CMA-ES\n",
        "es = cma.CMAEvolutionStrategy(train_X.mean(0).numpy(), 0.2, {'popsize': 20})\n",
        "\n",
        "# Optimization loop\n",
        "max_iter = 50  # Limit the number of iterations to avoid long runs\n",
        "for _ in range(max_iter):\n",
        "    solutions = es.ask()\n",
        "    values = [objective(x) for x in solutions]\n",
        "    es.tell(solutions, values)\n",
        "\n",
        "# Best solution\n",
        "best_solution = es.result.xbest\n",
        "best_solution = torch.tensor(best_solution, dtype=torch.double).unsqueeze(0)\n",
        "best_solution = unstandardize(best_solution, mean_X, std_X)\n",
        "\n",
        "# Print best solution with 6 decimal places\n",
        "best_solution_rounded = best_solution.numpy().round(6)\n",
        "\n",
        "print(f\"Best solution: {best_solution_rounded}\")\n"
      ],
      "metadata": {
        "colab": {
          "base_uri": "https://localhost:8080/"
        },
        "id": "zYWRLtkMVf7d",
        "outputId": "10bf2f29-689a-49e5-e3b9-3e3591d8d0ea"
      },
      "execution_count": null,
      "outputs": [
        {
          "output_type": "stream",
          "name": "stderr",
          "text": [
            "/usr/local/lib/python3.10/dist-packages/botorch/models/utils/assorted.py:174: InputDataWarning: Input data is not contained to the unit cube. Please consider min-max scaling the input data.\n",
            "  warnings.warn(msg, InputDataWarning)\n",
            "/usr/local/lib/python3.10/dist-packages/botorch/models/utils/assorted.py:202: InputDataWarning: Input data is not standardized (mean = tensor([0.2424], dtype=torch.float64), std = tensor([0.3369], dtype=torch.float64)). Please consider scaling the input to zero mean and unit variance.\n",
            "  warnings.warn(msg, InputDataWarning)\n"
          ]
        },
        {
          "output_type": "stream",
          "name": "stdout",
          "text": [
            "(10_w,20)-aCMA-ES (mu_w=5.9,w_1=27%) in dimension 6 (seed=219693, Tue Jun 11 20:13:16 2024)\n",
            "Best solution: [[0.556847 0.465424 0.669626 0.586796 0.483896 0.6404  ]]\n"
          ]
        }
      ]
    },
    {
      "cell_type": "markdown",
      "source": [
        "## Change Log\n",
        "#### 16th May <br>\n",
        "13/35 - using pseudo random distance generator\n",
        "#### 19th May <br>\n",
        "15/37 - using pseudo random distance generator\n",
        "#### 11th June <br>\n",
        "First switch to\n",
        "Realise I have probably got the wrong settings at the outset and decide to get a bit more exploratory for a couple of weeks.  <br>\n",
        "<ul>Position 19/40<br>\n",
        "Change Beta from 0.1 to 1 <br>\n",
        "Keep Pop Size 20 <br>\n",
        "Set Sigma to 0.2 , from default of probably around 0.1</ul>\n"
      ],
      "metadata": {
        "id": "kVdqWkxjjOrw"
      }
    },
    {
      "cell_type": "code",
      "source": [],
      "metadata": {
        "id": "gKRh7zwKVlzy"
      },
      "execution_count": null,
      "outputs": []
    },
    {
      "cell_type": "markdown",
      "source": [
        "### 15th June START FROM HERE\n",
        "Turns out what I was doing with TURBO was wrong.  I was failing to set the local area to be optimised or tracking state of the function.  Now trying again following the tutorial.\n",
        "### Defines a data class to store the the state"
      ],
      "metadata": {
        "id": "aE2F-MaIs5-t"
      }
    },
    {
      "cell_type": "code",
      "source": [
        "from dataclasses import dataclass\n",
        "import numpy as np\n",
        "import torch\n",
        "import math\n",
        "from botorch.generation import MaxPosteriorSampling\n",
        "from torch.quasirandom import SobolEngine\n",
        "import botorch\n",
        "import gpytorch\n",
        "import matplotlib.pyplot as plt\n"
      ],
      "metadata": {
        "id": "Fen56-Nfs_Me"
      },
      "execution_count": null,
      "outputs": []
    },
    {
      "cell_type": "code",
      "source": [
        "# we define a dataclass for our state this is used to store the state of the area\n",
        "@dataclass\n",
        "class TurboState:\n",
        "    dim: int # dimension of the problem, aka input dimension\n",
        "    batch_size: int = 1 # we could do batch optimization, but the capstone only does one query at a time\n",
        "    length: float = 0.4 # the length of the current trust region\n",
        "    length_min: float = 0.25 ** 7 # minimum length for the trust region\n",
        "    length_max: float = 0.5 # maximum length for the trust region\n",
        "    failure_counter: int = 0 # initialize counter of the number of failures to improve on the best observation\n",
        "    failure_tolerance: int = float(\"nan\")  # Note: Post-initialized\n",
        "    success_counter: int = 0 # initialize counter of the number of success to improve on the best observation\n",
        "    success_tolerance: int = 10  # Note: The original paper uses 3, this is the number of successes in a row needed to expand the region\n",
        "    best_value: float = -float(\"inf\") # best value so far, initialized to be the infimum\n",
        "    restart_triggered: bool = False\n",
        "\n",
        "    # This method is automatically called after the dataclass is initialized. It sets the failure_tolerance attribute based on the dimension and batch size:\n",
        "    def __post_init__(self):\n",
        "        self.failure_tolerance = math.ceil(\n",
        "            max([4.0 / self.batch_size, float(self.dim) / self.batch_size]) # number of failures needed in a row to shrink the trust region\n",
        "        )\n",
        "\n",
        "# this updates the state depending on Y_next\n",
        "def update_state(state, Y_next):\n",
        "\n",
        "    # count if a success, otherwise a failure\n",
        "    if max(Y_next) > state.best_value + 1e-3 * math.fabs(state.best_value):\n",
        "        state.success_counter += 1\n",
        "        state.failure_counter = 0\n",
        "    else:\n",
        "        state.success_counter = 0\n",
        "        state.failure_counter += 1\n",
        "    # check if we need to expand or shrink the trust region\n",
        "    if state.success_counter == state.success_tolerance:  # Expand trust region\n",
        "        state.length = min(2.0 * state.length, state.length_max)\n",
        "        state.success_counter = 0\n",
        "    elif state.failure_counter == state.failure_tolerance:  # Shrink trust region\n",
        "        state.length /= 2.0\n",
        "        state.failure_counter = 0\n",
        "    # set the best value if we got a new observation\n",
        "    state.best_value = max(state.best_value, max(Y_next))\n",
        "    if state.length < state.length_min:\n",
        "        state.restart_triggered = True\n",
        "    return state\n"
      ],
      "metadata": {
        "id": "WikLDM1LtGRr"
      },
      "execution_count": null,
      "outputs": []
    },
    {
      "cell_type": "code",
      "source": [
        "def create_initial_state(dim, batch_size=1, length=0.4, length_min=0.25**7, length_max=0.5, failure_counter = 0, success_counter=0, success_tolerance=10, best_value = 1, restart_triggered = False):\n",
        "    return TurboState(\n",
        "        dim=dim,\n",
        "        batch_size=batch_size,\n",
        "        length=length,\n",
        "        length_min=length_min,\n",
        "        length_max=length_max,\n",
        "        failure_counter=0,\n",
        "        success_counter=0,\n",
        "        success_tolerance=success_tolerance,\n",
        "        best_value=-float(\"inf\"),\n",
        "        restart_triggered=False\n",
        "    )\n",
        "\n"
      ],
      "metadata": {
        "id": "6VMCL6J5tI1t"
      },
      "execution_count": null,
      "outputs": []
    },
    {
      "cell_type": "code",
      "source": [
        "state = TurboState(dim = 6)"
      ],
      "metadata": {
        "id": "UXlrteu2u2Gz"
      },
      "execution_count": null,
      "outputs": []
    },
    {
      "cell_type": "code",
      "source": [
        "def generate_batch(\n",
        "    state,\n",
        "    model,  # GP model\n",
        "    X,  # Evaluated points on the domain [0, 1]^d\n",
        "    Y,  # Function values\n",
        "    batch_size = 1, # fix batch size to 1\n",
        "    n_candidates=None,  # Number of candidates for Thompson sampling\n",
        "    num_restarts=10,\n",
        "    raw_samples=512,\n",
        "    acqf=\"ts\",  # \"ei\" or \"ts\"\n",
        "):\n",
        "    assert acqf in (\"ts\")\n",
        "    assert X.min() >= 0.0 and X.max() <= 1.0 and torch.all(torch.isfinite(Y))\n",
        "    if n_candidates is None:\n",
        "        n_candidates = min(5000, max(2000, 200 * X.shape[-1]))\n",
        "\n",
        "    # Scale the trust region to be proportional to the lengthscales\n",
        "    x_center = X[Y.argmax(), :].clone()\n",
        "    weights = model.covar_module.base_kernel.lengthscale.squeeze().detach()\n",
        "    weights = weights / weights.mean()\n",
        "    weights = weights / torch.prod(weights.pow(1.0 / len(weights)))\n",
        "    tr_lb = torch.clamp(x_center - weights * state.length / 2.0, 0.0, 1.0)\n",
        "    tr_ub = torch.clamp(x_center + weights * state.length / 2.0, 0.0, 1.0)\n",
        "    # we focus only on thompson sampling as an acquisition function\n",
        "    if acqf == \"ts\":\n",
        "        dim = X.shape[-1]\n",
        "        sobol = SobolEngine(dim, scramble=True)\n",
        "        pert = sobol.draw(n_candidates)\n",
        "        pert = tr_lb + (tr_ub - tr_lb) * pert\n",
        "\n",
        "        # Create a perturbation mask\n",
        "        prob_perturb = min(10.0 / dim, 1.0)\n",
        "        mask = (\n",
        "            torch.rand(n_candidates, dim)\n",
        "            <= prob_perturb\n",
        "        )\n",
        "        ind = torch.where(mask.sum(dim=1) == 0)[0]\n",
        "        mask[ind, torch.randint(0, dim - 1, size=(len(ind),))] = 1\n",
        "\n",
        "        # Create candidate points from the perturbations and the mask\n",
        "        X_cand = x_center.expand(n_candidates, dim).clone()\n",
        "        X_cand[mask] = pert[mask]\n",
        "\n",
        "        # Sample on the candidate points\n",
        "        # set model to evaluation mode\n",
        "        model.eval()\n",
        "        posterior_distribution = model(X_cand)\n",
        "        with torch.no_grad():  # We don't need gradients when using TS\n",
        "            posterior_sample = posterior_distribution.sample()\n",
        "            X_next_idx = torch.argmax(posterior_sample)\n",
        "            X_next = X_cand[X_next_idx]\n",
        "\n",
        "    return X_next"
      ],
      "metadata": {
        "id": "03q5PuUKtOys"
      },
      "execution_count": null,
      "outputs": []
    },
    {
      "cell_type": "code",
      "source": [
        "# we use the model given in the tutorial, we also add the hyper-parameter training as a method\n",
        "class ExactGPModel(gpytorch.models.ExactGP):\n",
        "    def __init__(self, train_x, train_y, likelihood):\n",
        "        super(ExactGPModel, self).__init__(train_x, train_y, likelihood)\n",
        "        # set a constant mean\n",
        "        self.mean_module = gpytorch.means.ConstantMean()\n",
        "        # use a simple RBF kernel with constant scaling\n",
        "        self.covar_module = gpytorch.kernels.ScaleKernel(gpytorch.kernels.RBFKernel(ard_num_dims=train_x.shape[1]))\n",
        "        # set number of hyper-parameter training iterations\n",
        "        self.training_iter = 200\n",
        "\n",
        "    def forward(self, x):\n",
        "        mean_x = self.mean_module(x)\n",
        "        covar_x = self.covar_module(x)\n",
        "        return gpytorch.distributions.MultivariateNormal(mean_x, covar_x)"
      ],
      "metadata": {
        "id": "44gB0Z8ftdx9"
      },
      "execution_count": null,
      "outputs": []
    },
    {
      "cell_type": "code",
      "source": [
        "#Step 1 Re-initialise the State UPDATE PARAMETERS HERE\n",
        "state = TurboState(\n",
        "    dim=6,\n",
        "    batch_size=1,\n",
        "    length=0.3,\n",
        "    length_max=0.5,\n",
        "    success_tolerance=3,\n",
        "    failure_counter=0,\n",
        "    success_counter=1,\n",
        "    best_value= 2.209114785654296\n",
        ")\n",
        "\n",
        "#Step 2 Update the State with the new function PLACE NEw VALUE HERE\n",
        "y_next = [1.44926461407947]\n",
        "new_state = update_state(state, y_next)\n",
        "\n",
        "print(state)\n",
        "#Step 3 NOW append the new values!!!\n"
      ],
      "metadata": {
        "colab": {
          "base_uri": "https://localhost:8080/"
        },
        "id": "MTj9FJM2J4EX",
        "outputId": "2a2f782a-418b-4841-c808-20dc0cbce576"
      },
      "execution_count": null,
      "outputs": [
        {
          "output_type": "stream",
          "name": "stdout",
          "text": [
            "TurboState(dim=6, batch_size=1, length=0.3, length_min=6.103515625e-05, length_max=0.5, failure_counter=1, failure_tolerance=6, success_counter=0, success_tolerance=3, best_value=2.209114785654296, restart_triggered=False)\n"
          ]
        }
      ]
    },
    {
      "cell_type": "code",
      "source": [
        "# Mount Drive\n",
        "# Get initial Values\n",
        "inputs1 = np.load('/content/drive/My Drive/Imperial ML Course/Capstone Competition/function_7/initial_inputs.npy')\n",
        "outputs1 = np.load('/content/drive/My Drive/Imperial ML Course/Capstone Competition/function_7/initial_outputs.npy')\n",
        "inputs2 = np.load('/content/drive/My Drive/Imperial ML Course/Capstone Competition/function_7/initial_inputs2.npy')\n",
        "outputs2 = np.load('/content/drive/My Drive/Imperial ML Course/Capstone Competition/function_7/initial_outputs2.npy')\n",
        "\n",
        "# Concatenate inputs and outputs\n",
        "inputs = np.concatenate((inputs1, inputs2), axis=0)\n",
        "outputs = np.concatenate((outputs1, outputs2), axis=0)\n",
        "\n",
        "#Import check\n",
        "print(len(inputs1),len(inputs2),len(inputs))\n",
        "print(len(outputs1),len(outputs2),len(outputs))\n"
      ],
      "metadata": {
        "id": "B4g1NhK4toEl",
        "colab": {
          "base_uri": "https://localhost:8080/"
        },
        "outputId": "f6bb5644-f8d9-4382-a611-7e11e5c3ed46"
      },
      "execution_count": null,
      "outputs": [
        {
          "output_type": "stream",
          "name": "stdout",
          "text": [
            "30 30 60\n",
            "30 30 60\n"
          ]
        }
      ]
    },
    {
      "cell_type": "code",
      "source": [
        "#Add new Inputs and Outputs\n",
        "new_inputs = np.array([\n",
        "    [0.565109, 0.919048, 0.840007, 0.365948, 0.513368, 0.424215],\n",
        "    [0.271501, 0.687347 ,0.445784, 0.573243, 0.73422,  0.171566],\n",
        "    [0.507554, 0.709524 ,0.920003, 0.182974 ,0.506684 ,0.712107],\n",
        "    [0.782554, 0.959524, 0.670003, 0.432974, 0.481684, 0.712107],\n",
        "    [0.532122, 0.627393, 0.538614, 0.549902, 0.604653, 0.680134],\n",
        "    [0.530456, 0.583909, 0.508251, 0.562939, 0.603956, 0.68181],\n",
        "    [0.017334, 0.320507, 0.381593, 0.045408,0.22625,0.889867],\n",
        "    [0.191193, 0.625201, 0.065572, 0.086578, 0.228782, 0.83004 ],\n",
        "    [0.077878, 0.591531, 0.238391 ,0.077184, 0.272213 ,0.661918],\n",
        "    [0.086823,0.105957, 0.254616, 0.093899, 0.21766,0.712764],\n",
        "    [0.293978, 0.353793, 0.278003, 0.084784, 0.350901, 0.715206],\n",
        "    [0.307892, 0.104694, 0.278263, 0.367378, 0.383905, 0.794982],\n",
        "    [0.242229, 0.008556, 0.160186, 0.229956, 0.267239 ,0.92705 ]])\n",
        "new_outputs = np.array([0.21511504250318814,\n",
        "                        1.3219168651763396,\n",
        "                        0.24438551897404212,\n",
        "                        0.052036579112222335,\n",
        "                        0.14792223637044258,\n",
        "                        0.15851281630423428,\n",
        "                        0.9304924849464572,\n",
        "                        0.5648606885183377,\n",
        "                        0.9105011451045842,\n",
        "                        1.7208151767194493,\n",
        "                        1.6867981408587855,\n",
        "                        2.209114785654296,\n",
        "                        1.44926461407947])\n",
        "\n",
        "inputs = np.append(inputs, new_inputs, axis = 0)\n",
        "outputs = np.append(outputs, new_outputs , axis = 0)\n",
        "\n",
        "print(np.max(outputs))"
      ],
      "metadata": {
        "colab": {
          "base_uri": "https://localhost:8080/"
        },
        "id": "yTg_q_eltpQK",
        "outputId": "b12dce14-b7b0-4289-d733-d2eadc7c28be"
      },
      "execution_count": null,
      "outputs": [
        {
          "output_type": "stream",
          "name": "stdout",
          "text": [
            "2.209114785654296\n"
          ]
        }
      ]
    },
    {
      "cell_type": "code",
      "source": [
        "#Visualise New Outputs\n",
        "# Create indices for your outputs array\n",
        "indices = np.arange(len(outputs))\n",
        "\n",
        "plt.figure(figsize=(10, 5))  # Set the figure size\n",
        "plt.scatter(indices, outputs, color='blue', alpha=0.6)  # Create a scatter plot\n",
        "plt.title('Scatter Plot of Outputs')  # Set the title of the plot\n",
        "plt.xlabel('Index')  # Set the x-axis label\n",
        "plt.ylabel('Value')  # Set the y-axis label\n",
        "plt.grid(True)  # Enable grid to make the plot easier to read\n",
        "plt.show()  # Display the plot"
      ],
      "metadata": {
        "colab": {
          "base_uri": "https://localhost:8080/",
          "height": 487
        },
        "id": "LZDMAM8QtxKy",
        "outputId": "2221ab0e-949e-403a-c94a-4c9e2caa1db2"
      },
      "execution_count": null,
      "outputs": [
        {
          "output_type": "display_data",
          "data": {
            "text/plain": [
              "<Figure size 1000x500 with 1 Axes>"
            ],
            "image/png": "[encoded data removed]"
          },
          "metadata": {}
        }
      ]
    },
    {
      "cell_type": "code",
      "source": [
        "# Convert to torch tensors\n",
        "train_X = torch.from_numpy(inputs).to(torch.float32)\n",
        "train_Y = torch.from_numpy(outputs).to(torch.float32)\n"
      ],
      "metadata": {
        "id": "M1Rrgr_SuBIC"
      },
      "execution_count": null,
      "outputs": []
    },
    {
      "cell_type": "code",
      "source": [
        "def next_query_via_TurBO(train_x, train_y, turbo_state, verbose = False):\n",
        "    likelihood = gpytorch.likelihoods.GaussianLikelihood()\n",
        "    model = ExactGPModel(train_x, train_y, likelihood)\n",
        "\n",
        "    model.train()\n",
        "    likelihood.train()\n",
        "\n",
        "    # Use the adam optimizer\n",
        "    optimizer = torch.optim.Adam(model.parameters(), lr=0.1)  # Includes GaussianLikelihood parameters\n",
        "\n",
        "    # \"Loss\" for GPs - the marginal log likelihood\n",
        "    mll = gpytorch.mlls.ExactMarginalLogLikelihood(likelihood, model)\n",
        "\n",
        "\n",
        "    for i in range(model.training_iter):\n",
        "        # Zero gradients from previous iteration\n",
        "        optimizer.zero_grad()\n",
        "        # Output from model\n",
        "        output = model(train_X)\n",
        "        # Calc loss and backprop gradients\n",
        "        print(output)\n",
        "        print(train_Y.dtype)\n",
        "        break\n",
        "        loss = -mll(output, train_Y)\n",
        "        loss.backward()\n",
        "        if i % 10 == 9:\n",
        "            print(f'Iter %d/%d - Loss: %.6f   lengthscale: {model.covar_module.base_kernel.lengthscale.detach()}   noise: %.6f' % (\n",
        "                i + 1, model.training_iter, loss.item(),\n",
        "                model.likelihood.noise.item()\n",
        "            ))\n",
        "        optimizer.step()\n",
        "\n",
        "    return generate_batch(turbo_state, model = model, X = train_x, Y = train_y)"
      ],
      "metadata": {
        "id": "OU_CowzwuO4Z"
      },
      "execution_count": null,
      "outputs": []
    },
    {
      "cell_type": "code",
      "source": [
        "print(np.max(outputs))"
      ],
      "metadata": {
        "colab": {
          "base_uri": "https://localhost:8080/"
        },
        "id": "GIAtOtp9PNMf",
        "outputId": "1cf03c8d-7a3c-49e1-f33e-0fc8beaad61b"
      },
      "execution_count": null,
      "outputs": [
        {
          "output_type": "stream",
          "name": "stdout",
          "text": [
            "2.209114785654296\n"
          ]
        }
      ]
    },
    {
      "cell_type": "code",
      "source": [
        "next_query = next_query_via_TurBO(train_x=train_X, train_y=train_Y, turbo_state=state)\n",
        "formatted_query = [f'{item:.6f}' for item in next_query]\n",
        "formatted_output = f'{formatted_query[0]}-{formatted_query[1]}-{formatted_query[2]}-{formatted_query[3]}-{formatted_query[4]}-{formatted_query[5]}'\n",
        "print(f'Next chosen query: {formatted_output}')\n",
        "print(state)"
      ],
      "metadata": {
        "colab": {
          "base_uri": "https://localhost:8080/"
        },
        "id": "WS4Qm_p_uGhl",
        "outputId": "6a09edbd-d62b-46a3-b395-6d75d7a7b9ba"
      },
      "execution_count": null,
      "outputs": [
        {
          "output_type": "stream",
          "name": "stdout",
          "text": [
            "MultivariateNormal(loc: torch.Size([73]))\n",
            "torch.float32\n"
          ]
        },
        {
          "output_type": "stream",
          "name": "stderr",
          "text": [
            "/usr/local/lib/python3.10/dist-packages/linear_operator/utils/cholesky.py:40: NumericalWarning: A not p.d., added jitter of 1.0e-06 to the diagonal\n",
            "  warnings.warn(\n",
            "/usr/local/lib/python3.10/dist-packages/linear_operator/utils/cholesky.py:40: NumericalWarning: A not p.d., added jitter of 1.0e-05 to the diagonal\n",
            "  warnings.warn(\n",
            "/usr/local/lib/python3.10/dist-packages/linear_operator/utils/cholesky.py:40: NumericalWarning: A not p.d., added jitter of 1.0e-04 to the diagonal\n",
            "  warnings.warn(\n"
          ]
        },
        {
          "output_type": "stream",
          "name": "stdout",
          "text": [
            "Next chosen query: 0.197514-0.007164-0.152047-0.243319-0.366550-0.755971\n",
            "TurboState(dim=6, batch_size=1, length=0.3, length_min=6.103515625e-05, length_max=0.5, failure_counter=1, failure_tolerance=6, success_counter=0, success_tolerance=3, best_value=2.209114785654296, restart_triggered=False)\n"
          ]
        }
      ]
    },
    {
      "cell_type": "markdown",
      "source": [
        "Entry 15th June:<br>\n",
        "MultivariateNormal(loc: torch.Size([36]))\n",
        "torch.float32\n",
        "Next chosen query: 0.017334-0.320507-0.381593-0.045408-0.226250-0.889867\n",
        "TurboState(dim=6, batch_size=1, length=0.4, length_min=6.103515625e-05, length_max=0.5, failure_counter=0, failure_tolerance=6, success_counter=0, success_tolerance=10, best_value=-inf, restart_triggered=False)"
      ],
      "metadata": {
        "id": "33XwB8ZnzTV4"
      }
    },
    {
      "cell_type": "markdown",
      "source": [
        "Entry 20th June: This is a restart as I did not initialise it correctly<br>\n",
        "ext chosen query: Next chosen query: 0.191193-0.625201-0.065572-0.086578-0.228782-0.830040\n",
        "TurboState(dim=6, batch_size=1, length=0.4, length_min=6.103515625e-05, length_max=0.5, failure_counter=0, failure_tolerance=6, success_counter=0, success_tolerance=10, best_value=-inf, restart_triggered=False)\n"
      ],
      "metadata": {
        "id": "4CKU18MIPYt9"
      }
    },
    {
      "cell_type": "markdown",
      "source": [
        "Entry 23rd June <br>\n",
        "Next chosen query: 0.077878-0.591531-0.238391-0.077184-0.272213-0.661918\n",
        "TurboState(dim=6, batch_size=1, length=0.3, length_min=6.103515625e-05, length_max=0.5, failure_counter=1, failure_tolerance=6, success_counter=0, success_tolerance=3, best_value=1.3649683044991994, restart_triggered=False)\n"
      ],
      "metadata": {
        "id": "vvjl275RKy92"
      }
    },
    {
      "cell_type": "markdown",
      "source": [
        "Entry 7th July <br>\n",
        "Next chosen query: 0.086823-0.105957-0.254616-0.093899-0.217660-0.712764\n",
        "TurboState(dim=6, batch_size=1, length=0.3, length_min=6.103515625e-05, length_max=0.5, failure_counter=2, failure_tolerance=6, success_counter=0, success_tolerance=3, best_value=2.1146906674520287, restart_triggered=False)"
      ],
      "metadata": {
        "id": "ZDifs0Li19-Y"
      }
    },
    {
      "cell_type": "markdown",
      "source": [
        "Entry 14th July <br>\n",
        "Next chosen query: 0.293978-0.353793-0.278003-0.084784-0.350901-0.715206\n",
        "TurboState(dim=6, batch_size=1, length=0.3, length_min=6.103515625e-05, length_max=0.5, failure_counter=3, failure_tolerance=6, success_counter=0, success_tolerance=3, best_value=2.1146906674520287, restart_triggered=False)"
      ],
      "metadata": {
        "id": "jzu8u1FmLmrm"
      }
    },
    {
      "cell_type": "markdown",
      "source": [
        "Entry 17th July <br>\n",
        "TurboState(dim=6, batch_size=1, length=0.3, length_min=6.103515625e-05, length_max=0.5, failure_counter=0, failure_tolerance=6, success_counter=1, success_tolerance=3, best_value=2.209114785654296, restart_triggered=False)\n"
      ],
      "metadata": {
        "id": "higAQvz62p3g"
      }
    },
    {
      "cell_type": "markdown",
      "source": [
        "Entry 21st July <br>\n",
        "Next chosen query: 0.197514-0.007164-0.152047-0.243319-0.366550-0.755971\n",
        "TurboState(dim=6, batch_size=1, length=0.3, length_min=6.103515625e-05, length_max=0.5, failure_counter=1, failure_tolerance=6, success_counter=0, success_tolerance=3, best_value=2.209114785654296, restart_triggered=False)\n"
      ],
      "metadata": {
        "id": "e_DumlzhDxb4"
      }
    },
    {
      "cell_type": "code",
      "source": [],
      "metadata": {
        "id": "-AsO354e2lU6"
      },
      "execution_count": null,
      "outputs": []
    }
  ]
}