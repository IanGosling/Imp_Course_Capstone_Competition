{
 "cells": [
  {
   "cell_type": "code",
   "execution_count": 1,
   "id": "74888cb9-8c3a-4910-9050-c1703305b532",
   "metadata": {},
   "outputs": [],
   "source": [
    "import numpy as np\n",
    "import matplotlib.pyplot as plt\n",
    "from scipy.spatial import KDTree\n",
    "import itertools\n",
    "\n"
   ]
  },
  {
   "cell_type": "code",
   "execution_count": 2,
   "id": "48effe80-3313-4b1a-9a6f-32b7dd91a881",
   "metadata": {},
   "outputs": [
    {
     "name": "stdout",
     "output_type": "stream",
     "text": [
      "[0.6044327  0.56275307 0.00750324 0.0614243  0.2730468  0.08374657\n",
      " 1.3649683  0.09264495 0.0178696  0.03356494 0.0735163  0.2063097\n",
      " 0.00882563 0.26840032 0.61152553 0.01479818 0.27489251 0.06676325\n",
      " 0.04211835 0.00270147 0.01820907 0.00701603 0.10050661 0.47539552\n",
      " 0.67514163 0.51645722 0.00377748 0.00313433 0.02134252 0.09541116]\n"
     ]
    }
   ],
   "source": [
    "import numpy as np\n",
    "\n",
    "# Import inputs and outputs\n",
    "inputs = np.load('initial_inputs.npy')\n",
    "outputs = np.load('initial_outputs.npy')\n",
    "print(outputs)"
   ]
  },
  {
   "cell_type": "code",
   "execution_count": 3,
   "id": "df7db456-b706-4b78-b4ef-82b8730109f8",
   "metadata": {},
   "outputs": [
    {
     "data": {
      "image/png": "[encoded data removed]",
      "text/plain": [
       "<Figure size 1000x500 with 1 Axes>"
      ]
     },
     "metadata": {},
     "output_type": "display_data"
    }
   ],
   "source": [
    "#visualise outputs\n",
    "# Create indices for your outputs array\n",
    "indices = np.arange(len(outputs))\n",
    "\n",
    "plt.figure(figsize=(10, 5))  # Set the figure size\n",
    "plt.scatter(indices, outputs, color='blue', alpha=0.6)  # Create a scatter plot\n",
    "plt.title('Scatter Plot of Outputs')  # Set the title of the plot\n",
    "plt.xlabel('Index')  # Set the x-axis label\n",
    "plt.ylabel('Value')  # Set the y-axis label\n",
    "plt.grid(True)  # Enable grid to make the plot easier to read\n",
    "plt.show()  # Display the plot\n"
   ]
  },
  {
   "cell_type": "code",
   "execution_count": 5,
   "id": "663ab71a-288e-4a5c-bb30-835b65f9a79f",
   "metadata": {},
   "outputs": [],
   "source": [
    "#set up functions\n",
    "import numpy as np\n",
    "\n",
    "def generate_grid(n, resolution):\n",
    "    num_points = int(1 / resolution) + 1\n",
    "    grid = np.mgrid[[slice(0, 1, 1j*num_points) for _ in range(n)]]\n",
    "    grid = grid.reshape(n, -1).T  # Reshape to have n columns\n",
    "    return grid\n",
    "\n",
    "def generate_binary_combinations(n):\n",
    "    # Use itertools.product to generate combinations and convert to a NumPy array\n",
    "    combinations = np.array(list(itertools.product([0, 1], repeat=n)))\n",
    "    return combinations\n"
   ]
  },
  {
   "cell_type": "code",
   "execution_count": 6,
   "id": "e961087e-e744-467e-b5cf-1092291c5096",
   "metadata": {},
   "outputs": [
    {
     "name": "stdout",
     "output_type": "stream",
     "text": [
      "Added farthest point: [0.565109, 0.919048, 0.840007, 0.365948, 0.513368, 0.424215]\n",
      "Added farthest point: [0.271501, 0.687347, 0.445784, 0.573243, 0.734220, 0.171566]\n",
      "Added farthest point: [0.507554, 0.709524, 0.920003, 0.182974, 0.506684, 0.712107]\n",
      "Added farthest point: [0.782554, 0.959524, 0.670003, 0.432974, 0.481684, 0.712107]\n",
      "Added farthest point: [0.863143, 0.482448, 0.687285, 0.903623, 0.817719, 0.346709]\n",
      "Added farthest point: [0.000000, 0.750000, 1.000000, 0.175000, 1.000000, 0.250000]\n",
      "Added farthest point: [0.565109, 0.819048, 0.490007, 0.615948, 0.263368, 0.174215]\n",
      "Added farthest point: [0.000000, 0.000000, 0.800000, 0.750000, 0.875000, 0.175000]\n",
      "Added farthest point: [0.250000, 0.000000, 0.975000, 0.150000, 0.250000, 1.000000]\n",
      "Added farthest point: [0.362989, 0.812208, 0.347771, 0.234776, 0.048885, 0.614071]\n"
     ]
    }
   ],
   "source": [
    "\n",
    "# Number of dimensions\n",
    "n = 6  \n",
    "corners = generate_binary_combinations(n)\n",
    "\n",
    "# Initial set of inputs using corners to force choice of points farther from the surface of the hypothesis space\n",
    "initial_np = np.load('initial_inputs.npy')\n",
    "initial_inputs = np.vstack([initial_np, corners])  # Append to the inputs\n",
    "inputs = initial_inputs.copy()  # Start with the initial inputs\n",
    "\n",
    "# Number of farthest points to find\n",
    "num_far_points = 10\n",
    "\n",
    "# Resolution for the grid\n",
    "resolution = 0.05\n",
    "\n",
    "# Generate initial grid\n",
    "grid_points = generate_grid(n, resolution)\n",
    "\n",
    "# List to store newly added farthest points\n",
    "new_points = []\n",
    "\n",
    "for _ in range(num_far_points):\n",
    "    tree = KDTree(inputs)  # Create a KD-tree for the current inputs\n",
    "    distances = tree.query(grid_points)[0]  # Find distances to nearest input points\n",
    "    max_index = np.argmax(distances)  # Index of the farthest point\n",
    "    farthest_point = grid_points[max_index]  # The farthest point\n",
    "\n",
    "    # Find the nearest point in inputs to the farthest_point\n",
    "    tree_initial = KDTree(inputs)\n",
    "    nearest_dist, nearest_index = tree_initial.query(farthest_point)  # Get nearest\n",
    "    nearest_point = inputs[nearest_index]\n",
    "\n",
    "    # Calculate the midpoint\n",
    "    new_point = (farthest_point + nearest_point) / 2\n",
    "\n",
    "    # Append to the inputs and new_points\n",
    "    inputs = np.vstack([inputs, new_point])\n",
    "    new_points.append(new_point)\n",
    "    formatted_point = ', '.join(f\"{coord:.6f}\" for coord in new_point)\n",
    "    print(f\"Added farthest point: [{formatted_point}]\")\n",
    "\n",
    "\n"
   ]
  },
  {
   "cell_type": "markdown",
   "id": "089a6d8f-1c81-4fa5-85b1-985aff53b821",
   "metadata": {},
   "source": [
    "#### BEGIN SECOND PHASE - RUN FROM HERE"
   ]
  },
  {
   "cell_type": "code",
   "execution_count": 7,
   "id": "23e298f4-1af2-472f-92c8-72d90ff0bf18",
   "metadata": {},
   "outputs": [],
   "source": [
    "import numpy as np\n",
    "import matplotlib.pyplot as plt\n",
    "from scipy.spatial import KDTree\n",
    "import itertools as it\n",
    "from mpl_toolkits.mplot3d import Axes3D  # Import the 3D plotting module\n",
    "from brokenaxes import brokenaxes\n",
    "from sklearn.gaussian_process import GaussianProcessRegressor\n",
    "from sklearn.gaussian_process.kernels import RBF, ConstantKernel as C\n",
    "from mpl_toolkits.mplot3d import Axes3D\n",
    "from matplotlib import cm"
   ]
  },
  {
   "cell_type": "code",
   "execution_count": 8,
   "id": "89675ba6-7d55-4f5e-8a9e-2a5e120830d9",
   "metadata": {},
   "outputs": [
    {
     "name": "stdout",
     "output_type": "stream",
     "text": [
      "[0.6044327  0.56275307 0.00750324 0.0614243  0.2730468  0.08374657\n",
      " 1.3649683  0.09264495 0.0178696  0.03356494 0.0735163  0.2063097\n",
      " 0.00882563 0.26840032 0.61152553 0.01479818 0.27489251 0.06676325\n",
      " 0.04211835 0.00270147 0.01820907 0.00701603 0.10050661 0.47539552\n",
      " 0.67514163 0.51645722 0.00377748 0.00313433 0.02134252 0.09541116]\n"
     ]
    }
   ],
   "source": [
    "# Import inputs and outputs\n",
    "inputs = np.load('initial_inputs.npy')\n",
    "outputs = np.load('initial_outputs.npy')\n",
    "print(outputs)"
   ]
  },
  {
   "cell_type": "code",
   "execution_count": 9,
   "id": "b30cbbc1-0dc1-4699-a2bd-39d8c8b78963",
   "metadata": {},
   "outputs": [],
   "source": [
    "new_inputs = np.array([[0.565109, 0.919048, 0.840007, 0.365948, 0.513368, 0.424215],[0.271501, 0.687347 ,0.445784, 0.573243, 0.73422,  0.171566],[0.507554, 0.709524 ,0.920003, 0.182974 ,0.506684 ,0.712107],[0.782554, 0.959524, 0.670003, 0.432974, 0.481684, 0.712107]])\n",
    "new_outputs = np.array([0.21511504250318814, 1.3219168651763396, 0.24438551897404212, 0.052036579112222335])\n"
   ]
  },
  {
   "cell_type": "code",
   "execution_count": 10,
   "id": "22637409-9e27-4ba9-84ac-eaf3a4073ee8",
   "metadata": {},
   "outputs": [
    {
     "name": "stdout",
     "output_type": "stream",
     "text": [
      "[0.6044327  0.56275307 0.00750324 0.0614243  0.2730468  0.08374657\n",
      " 1.3649683  0.09264495 0.0178696  0.03356494 0.0735163  0.2063097\n",
      " 0.00882563 0.26840032 0.61152553 0.01479818 0.27489251 0.06676325\n",
      " 0.04211835 0.00270147 0.01820907 0.00701603 0.10050661 0.47539552\n",
      " 0.67514163 0.51645722 0.00377748 0.00313433 0.02134252 0.09541116\n",
      " 0.21511504 1.32191687 0.24438552 0.05203658]\n"
     ]
    }
   ],
   "source": [
    "inputs = np.append(inputs, new_inputs, axis = 0)\n",
    "outputs = np.append(outputs, new_outputs)\n",
    "print(outputs)"
   ]
  },
  {
   "cell_type": "markdown",
   "id": "cd08db3b-bd09-44be-b122-e13f90fc2fd5",
   "metadata": {},
   "source": [
    "#### Visualise New Outputs"
   ]
  },
  {
   "cell_type": "code",
   "execution_count": 12,
   "id": "260cab61-af67-4862-9010-b0fbd9c646e0",
   "metadata": {},
   "outputs": [
    {
     "data": {
      "image/png": "[encoded data removed]",
      "text/plain": [
       "<Figure size 1000x500 with 1 Axes>"
      ]
     },
     "metadata": {},
     "output_type": "display_data"
    }
   ],
   "source": [
    "#visualise outputs\n",
    "# Create indices for your outputs array\n",
    "indices = np.arange(len(outputs))\n",
    "\n",
    "plt.figure(figsize=(10, 5))  # Set the figure size\n",
    "plt.scatter(indices, outputs, color='blue', alpha=0.6)  # Create a scatter plot\n",
    "plt.title('Scatter Plot of Outputs')  # Set the title of the plot\n",
    "plt.xlabel('Index')  # Set the x-axis label\n",
    "plt.ylabel('Value')  # Set the y-axis label\n",
    "plt.grid(True)  # Enable grid to make the plot easier to read\n",
    "plt.show()  # Display the plot"
   ]
  },
  {
   "cell_type": "code",
   "execution_count": null,
   "id": "3f35a329-a177-471d-b98f-bdc588c4dda6",
   "metadata": {},
   "outputs": [],
   "source": [
    "# Set N number of dimenstions\n",
    "N = 6\n",
    "\n",
    "# Define the kernel\n",
    "kernel = C(1.0, (1e-1, 1e2)) * RBF(1.0, (1e-1, 1e2))\n",
    "\n",
    "# Create and train the Gaussian Process Regressor\n",
    "gpr = GaussianProcessRegressor(kernel=kernel, n_restarts_optimizer=5)\n",
    "gpr.fit(inputs, outputs)\n",
    "\n",
    "# Generate test points for N dimensions\n",
    "num_test_points = 25\n",
    "test_points = np.array(np.meshgrid(*[np.linspace(0, 1, num_test_points)] * N)).T.reshape(-1, N)\n",
    "\n",
    "# Predict using the Gaussian Process\n",
    "y_pred, sigma = gpr.predict(test_points, return_std=True)\n",
    "\n",
    "# Calculate UCB\n",
    "kappa = 1.96  # Exploration-exploitation trade-off parameter\n",
    "ucb = y_pred + kappa * sigma\n",
    "\n",
    "# Identify the optimal inputs\n",
    "max_ucb_index = np.argmax(ucb)\n",
    "optimal_input = test_points[max_ucb_index]\n",
    "\n",
    "# Print the optimal inputs\n",
    "print(f\"Optimal inputs: {optimal_input}\")\n"
   ]
  }
 ],
 "metadata": {
  "kernelspec": {
   "display_name": "Python 3 (ipykernel)",
   "language": "python",
   "name": "python3"
  },
  "language_info": {
   "codemirror_mode": {
    "name": "ipython",
    "version": 3
   },
   "file_extension": ".py",
   "mimetype": "text/x-python",
   "name": "python",
   "nbconvert_exporter": "python",
   "pygments_lexer": "ipython3",
   "version": "3.11.5"
  }
 },
 "nbformat": 4,
 "nbformat_minor": 5
}
