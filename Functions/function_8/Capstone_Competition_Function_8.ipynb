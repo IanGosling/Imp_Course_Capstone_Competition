{
  "cells": [
    {
      "cell_type": "markdown",
      "metadata": {
        "id": "w-T00cSRQajp"
      },
      "source": []
    },
    {
      "cell_type": "code",
      "execution_count": null,
      "metadata": {
        "colab": {
          "base_uri": "https://localhost:8080/"
        },
        "id": "EzbsYhDBUwO5",
        "outputId": "deec826c-cbe4-4d76-f2d2-cb0edc16bde5"
      },
      "outputs": [
        {
          "output_type": "stream",
          "name": "stdout",
          "text": [
            "Collecting cma\n",
            "  Downloading cma-3.4.0-py3-none-any.whl (269 kB)\n",
            "\u001b[2K     \u001b[90m━━━━━━━━━━━━━━━━━━━━━━━━━━━━━━━━━━━━━━━━\u001b[0m \u001b[32m269.7/269.7 kB\u001b[0m \u001b[31m3.4 MB/s\u001b[0m eta \u001b[36m0:00:00\u001b[0m\n",
            "\u001b[?25hRequirement already satisfied: numpy in /usr/local/lib/python3.10/dist-packages (from cma) (1.25.2)\n",
            "Installing collected packages: cma\n",
            "Successfully installed cma-3.4.0\n",
            "Requirement already satisfied: torch in /usr/local/lib/python3.10/dist-packages (2.3.1+cu121)\n",
            "Requirement already satisfied: filelock in /usr/local/lib/python3.10/dist-packages (from torch) (3.15.4)\n",
            "Requirement already satisfied: typing-extensions>=4.8.0 in /usr/local/lib/python3.10/dist-packages (from torch) (4.12.2)\n",
            "Requirement already satisfied: sympy in /usr/local/lib/python3.10/dist-packages (from torch) (1.13.0)\n",
            "Requirement already satisfied: networkx in /usr/local/lib/python3.10/dist-packages (from torch) (3.3)\n",
            "Requirement already satisfied: jinja2 in /usr/local/lib/python3.10/dist-packages (from torch) (3.1.4)\n",
            "Requirement already satisfied: fsspec in /usr/local/lib/python3.10/dist-packages (from torch) (2023.6.0)\n",
            "Collecting nvidia-cuda-nvrtc-cu12==12.1.105 (from torch)\n",
            "  Using cached nvidia_cuda_nvrtc_cu12-12.1.105-py3-none-manylinux1_x86_64.whl (23.7 MB)\n",
            "Collecting nvidia-cuda-runtime-cu12==12.1.105 (from torch)\n",
            "  Using cached nvidia_cuda_runtime_cu12-12.1.105-py3-none-manylinux1_x86_64.whl (823 kB)\n",
            "Collecting nvidia-cuda-cupti-cu12==12.1.105 (from torch)\n",
            "  Using cached nvidia_cuda_cupti_cu12-12.1.105-py3-none-manylinux1_x86_64.whl (14.1 MB)\n",
            "Collecting nvidia-cudnn-cu12==8.9.2.26 (from torch)\n",
            "  Using cached nvidia_cudnn_cu12-8.9.2.26-py3-none-manylinux1_x86_64.whl (731.7 MB)\n",
            "Collecting nvidia-cublas-cu12==12.1.3.1 (from torch)\n",
            "  Using cached nvidia_cublas_cu12-12.1.3.1-py3-none-manylinux1_x86_64.whl (410.6 MB)\n",
            "Collecting nvidia-cufft-cu12==11.0.2.54 (from torch)\n",
            "  Using cached nvidia_cufft_cu12-11.0.2.54-py3-none-manylinux1_x86_64.whl (121.6 MB)\n",
            "Collecting nvidia-curand-cu12==10.3.2.106 (from torch)\n",
            "  Using cached nvidia_curand_cu12-10.3.2.106-py3-none-manylinux1_x86_64.whl (56.5 MB)\n",
            "Collecting nvidia-cusolver-cu12==11.4.5.107 (from torch)\n",
            "  Using cached nvidia_cusolver_cu12-11.4.5.107-py3-none-manylinux1_x86_64.whl (124.2 MB)\n",
            "Collecting nvidia-cusparse-cu12==12.1.0.106 (from torch)\n",
            "  Using cached nvidia_cusparse_cu12-12.1.0.106-py3-none-manylinux1_x86_64.whl (196.0 MB)\n",
            "Collecting nvidia-nccl-cu12==2.20.5 (from torch)\n",
            "  Using cached nvidia_nccl_cu12-2.20.5-py3-none-manylinux2014_x86_64.whl (176.2 MB)\n",
            "Collecting nvidia-nvtx-cu12==12.1.105 (from torch)\n",
            "  Using cached nvidia_nvtx_cu12-12.1.105-py3-none-manylinux1_x86_64.whl (99 kB)\n",
            "Requirement already satisfied: triton==2.3.1 in /usr/local/lib/python3.10/dist-packages (from torch) (2.3.1)\n",
            "Collecting nvidia-nvjitlink-cu12 (from nvidia-cusolver-cu12==11.4.5.107->torch)\n",
            "  Downloading nvidia_nvjitlink_cu12-12.5.82-py3-none-manylinux2014_x86_64.whl (21.3 MB)\n",
            "\u001b[2K     \u001b[90m━━━━━━━━━━━━━━━━━━━━━━━━━━━━━━━━━━━━━━━━\u001b[0m \u001b[32m21.3/21.3 MB\u001b[0m \u001b[31m61.9 MB/s\u001b[0m eta \u001b[36m0:00:00\u001b[0m\n",
            "\u001b[?25hRequirement already satisfied: MarkupSafe>=2.0 in /usr/local/lib/python3.10/dist-packages (from jinja2->torch) (2.1.5)\n",
            "Requirement already satisfied: mpmath<1.4,>=1.1.0 in /usr/local/lib/python3.10/dist-packages (from sympy->torch) (1.3.0)\n",
            "Installing collected packages: nvidia-nvtx-cu12, nvidia-nvjitlink-cu12, nvidia-nccl-cu12, nvidia-curand-cu12, nvidia-cufft-cu12, nvidia-cuda-runtime-cu12, nvidia-cuda-nvrtc-cu12, nvidia-cuda-cupti-cu12, nvidia-cublas-cu12, nvidia-cusparse-cu12, nvidia-cudnn-cu12, nvidia-cusolver-cu12\n",
            "Successfully installed nvidia-cublas-cu12-12.1.3.1 nvidia-cuda-cupti-cu12-12.1.105 nvidia-cuda-nvrtc-cu12-12.1.105 nvidia-cuda-runtime-cu12-12.1.105 nvidia-cudnn-cu12-8.9.2.26 nvidia-cufft-cu12-11.0.2.54 nvidia-curand-cu12-10.3.2.106 nvidia-cusolver-cu12-11.4.5.107 nvidia-cusparse-cu12-12.1.0.106 nvidia-nccl-cu12-2.20.5 nvidia-nvjitlink-cu12-12.5.82 nvidia-nvtx-cu12-12.1.105\n",
            "Collecting botorch\n",
            "  Downloading botorch-0.11.1-py3-none-any.whl (629 kB)\n",
            "\u001b[2K     \u001b[90m━━━━━━━━━━━━━━━━━━━━━━━━━━━━━━━━━━━━━━━━\u001b[0m \u001b[32m629.6/629.6 kB\u001b[0m \u001b[31m5.0 MB/s\u001b[0m eta \u001b[36m0:00:00\u001b[0m\n",
            "\u001b[?25hRequirement already satisfied: multipledispatch in /usr/local/lib/python3.10/dist-packages (from botorch) (1.0.0)\n",
            "Requirement already satisfied: scipy in /usr/local/lib/python3.10/dist-packages (from botorch) (1.11.4)\n",
            "Requirement already satisfied: mpmath<=1.3,>=0.19 in /usr/local/lib/python3.10/dist-packages (from botorch) (1.3.0)\n",
            "Requirement already satisfied: torch>=1.13.1 in /usr/local/lib/python3.10/dist-packages (from botorch) (2.3.1+cu121)\n",
            "Collecting pyro-ppl>=1.8.4 (from botorch)\n",
            "  Downloading pyro_ppl-1.9.1-py3-none-any.whl (755 kB)\n",
            "\u001b[2K     \u001b[90m━━━━━━━━━━━━━━━━━━━━━━━━━━━━━━━━━━━━━━━━\u001b[0m \u001b[32m756.0/756.0 kB\u001b[0m \u001b[31m7.5 MB/s\u001b[0m eta \u001b[36m0:00:00\u001b[0m\n",
            "\u001b[?25hCollecting gpytorch==1.11 (from botorch)\n",
            "  Downloading gpytorch-1.11-py3-none-any.whl (266 kB)\n",
            "\u001b[2K     \u001b[90m━━━━━━━━━━━━━━━━━━━━━━━━━━━━━━━━━━━━━━━━\u001b[0m \u001b[32m266.1/266.1 kB\u001b[0m \u001b[31m8.7 MB/s\u001b[0m eta \u001b[36m0:00:00\u001b[0m\n",
            "\u001b[?25hCollecting linear-operator==0.5.1 (from botorch)\n",
            "  Downloading linear_operator-0.5.1-py3-none-any.whl (174 kB)\n",
            "\u001b[2K     \u001b[90m━━━━━━━━━━━━━━━━━━━━━━━━━━━━━━━━━━━━━━━━\u001b[0m \u001b[32m174.5/174.5 kB\u001b[0m \u001b[31m8.0 MB/s\u001b[0m eta \u001b[36m0:00:00\u001b[0m\n",
            "\u001b[?25hRequirement already satisfied: scikit-learn in /usr/local/lib/python3.10/dist-packages (from gpytorch==1.11->botorch) (1.2.2)\n",
            "Collecting jaxtyping>=0.2.9 (from linear-operator==0.5.1->botorch)\n",
            "  Downloading jaxtyping-0.2.33-py3-none-any.whl (42 kB)\n",
            "\u001b[2K     \u001b[90m━━━━━━━━━━━━━━━━━━━━━━━━━━━━━━━━━━━━━━━━\u001b[0m \u001b[32m42.4/42.4 kB\u001b[0m \u001b[31m4.6 MB/s\u001b[0m eta \u001b[36m0:00:00\u001b[0m\n",
            "\u001b[?25hCollecting typeguard~=2.13.3 (from linear-operator==0.5.1->botorch)\n",
            "  Downloading typeguard-2.13.3-py3-none-any.whl (17 kB)\n",
            "Requirement already satisfied: numpy>=1.7 in /usr/local/lib/python3.10/dist-packages (from pyro-ppl>=1.8.4->botorch) (1.25.2)\n",
            "Requirement already satisfied: opt-einsum>=2.3.2 in /usr/local/lib/python3.10/dist-packages (from pyro-ppl>=1.8.4->botorch) (3.3.0)\n",
            "Collecting pyro-api>=0.1.1 (from pyro-ppl>=1.8.4->botorch)\n",
            "  Downloading pyro_api-0.1.2-py3-none-any.whl (11 kB)\n",
            "Requirement already satisfied: tqdm>=4.36 in /usr/local/lib/python3.10/dist-packages (from pyro-ppl>=1.8.4->botorch) (4.66.4)\n",
            "Requirement already satisfied: filelock in /usr/local/lib/python3.10/dist-packages (from torch>=1.13.1->botorch) (3.15.4)\n",
            "Requirement already satisfied: typing-extensions>=4.8.0 in /usr/local/lib/python3.10/dist-packages (from torch>=1.13.1->botorch) (4.12.2)\n",
            "Requirement already satisfied: sympy in /usr/local/lib/python3.10/dist-packages (from torch>=1.13.1->botorch) (1.13.0)\n",
            "Requirement already satisfied: networkx in /usr/local/lib/python3.10/dist-packages (from torch>=1.13.1->botorch) (3.3)\n",
            "Requirement already satisfied: jinja2 in /usr/local/lib/python3.10/dist-packages (from torch>=1.13.1->botorch) (3.1.4)\n",
            "Requirement already satisfied: fsspec in /usr/local/lib/python3.10/dist-packages (from torch>=1.13.1->botorch) (2023.6.0)\n",
            "Requirement already satisfied: nvidia-cuda-nvrtc-cu12==12.1.105 in /usr/local/lib/python3.10/dist-packages (from torch>=1.13.1->botorch) (12.1.105)\n",
            "Requirement already satisfied: nvidia-cuda-runtime-cu12==12.1.105 in /usr/local/lib/python3.10/dist-packages (from torch>=1.13.1->botorch) (12.1.105)\n",
            "Requirement already satisfied: nvidia-cuda-cupti-cu12==12.1.105 in /usr/local/lib/python3.10/dist-packages (from torch>=1.13.1->botorch) (12.1.105)\n",
            "Requirement already satisfied: nvidia-cudnn-cu12==8.9.2.26 in /usr/local/lib/python3.10/dist-packages (from torch>=1.13.1->botorch) (8.9.2.26)\n",
            "Requirement already satisfied: nvidia-cublas-cu12==12.1.3.1 in /usr/local/lib/python3.10/dist-packages (from torch>=1.13.1->botorch) (12.1.3.1)\n",
            "Requirement already satisfied: nvidia-cufft-cu12==11.0.2.54 in /usr/local/lib/python3.10/dist-packages (from torch>=1.13.1->botorch) (11.0.2.54)\n",
            "Requirement already satisfied: nvidia-curand-cu12==10.3.2.106 in /usr/local/lib/python3.10/dist-packages (from torch>=1.13.1->botorch) (10.3.2.106)\n",
            "Requirement already satisfied: nvidia-cusolver-cu12==11.4.5.107 in /usr/local/lib/python3.10/dist-packages (from torch>=1.13.1->botorch) (11.4.5.107)\n",
            "Requirement already satisfied: nvidia-cusparse-cu12==12.1.0.106 in /usr/local/lib/python3.10/dist-packages (from torch>=1.13.1->botorch) (12.1.0.106)\n",
            "Requirement already satisfied: nvidia-nccl-cu12==2.20.5 in /usr/local/lib/python3.10/dist-packages (from torch>=1.13.1->botorch) (2.20.5)\n",
            "Requirement already satisfied: nvidia-nvtx-cu12==12.1.105 in /usr/local/lib/python3.10/dist-packages (from torch>=1.13.1->botorch) (12.1.105)\n",
            "Requirement already satisfied: triton==2.3.1 in /usr/local/lib/python3.10/dist-packages (from torch>=1.13.1->botorch) (2.3.1)\n",
            "Requirement already satisfied: nvidia-nvjitlink-cu12 in /usr/local/lib/python3.10/dist-packages (from nvidia-cusolver-cu12==11.4.5.107->torch>=1.13.1->botorch) (12.5.82)\n",
            "Requirement already satisfied: MarkupSafe>=2.0 in /usr/local/lib/python3.10/dist-packages (from jinja2->torch>=1.13.1->botorch) (2.1.5)\n",
            "Requirement already satisfied: joblib>=1.1.1 in /usr/local/lib/python3.10/dist-packages (from scikit-learn->gpytorch==1.11->botorch) (1.4.2)\n",
            "Requirement already satisfied: threadpoolctl>=2.0.0 in /usr/local/lib/python3.10/dist-packages (from scikit-learn->gpytorch==1.11->botorch) (3.5.0)\n",
            "Installing collected packages: pyro-api, typeguard, jaxtyping, pyro-ppl, linear-operator, gpytorch, botorch\n",
            "Successfully installed botorch-0.11.1 gpytorch-1.11 jaxtyping-0.2.33 linear-operator-0.5.1 pyro-api-0.1.2 pyro-ppl-1.9.1 typeguard-2.13.3\n"
          ]
        }
      ],
      "source": [
        "!pip install cma\n",
        "!pip install torch\n",
        "!pip install botorch"
      ]
    },
    {
      "cell_type": "code",
      "execution_count": null,
      "metadata": {
        "id": "PZcrOo55QYN2"
      },
      "outputs": [],
      "source": [
        "import sklearn\n",
        "import numpy as np\n",
        "import matplotlib.pyplot as plt\n",
        "import scipy\n",
        "from scipy.spatial import KDTree\n",
        "import itertools as it\n",
        "from mpl_toolkits.mplot3d import Axes3D  # Import the 3D plotting module\n",
        "from sklearn.gaussian_process import GaussianProcessRegressor\n",
        "from sklearn.gaussian_process.kernels import RBF, ConstantKernel as C\n",
        "from mpl_toolkits.mplot3d import Axes3D\n",
        "from matplotlib import cm\n",
        "import torch\n",
        "import math\n",
        "from botorch.fit import fit_gpytorch_mll\n",
        "from botorch.models import SingleTaskGP\n",
        "from gpytorch.mlls import ExactMarginalLogLikelihood\n",
        "from botorch.models.transforms import Standardize\n",
        "from botorch.acquisition.acquisition import AcquisitionFunction\n",
        "from botorch.acquisition import UpperConfidenceBound\n",
        "import cma"
      ]
    },
    {
      "cell_type": "code",
      "execution_count": null,
      "metadata": {
        "id": "RmWN6P8pQj2k"
      },
      "outputs": [],
      "source": [
        "# Mount Drive manually using folder icon menu in colab notebook and then G Drive icon\n",
        "# Get initial Values\n",
        "inputs = np.load('/content/drive/My Drive/Imperial ML Course/Capstone Competition/function_8/initial_inputs.npy')\n",
        "outputs = np.load('/content/drive/My Drive/Imperial ML Course/Capstone Competition/function_8/initial_outputs.npy')"
      ]
    },
    {
      "cell_type": "code",
      "execution_count": null,
      "metadata": {
        "colab": {
          "base_uri": "https://localhost:8080/"
        },
        "id": "Q_npx0XaQv66",
        "outputId": "1b14133d-384f-401e-aa14-2a62e57649fa"
      },
      "outputs": [
        {
          "output_type": "stream",
          "name": "stdout",
          "text": [
            "[7.3987211  7.00522736 8.45948162 8.28400781 8.60611679 8.54174792\n",
            " 7.32743458 7.29987205 7.95787474 5.59219339 7.85454099 6.79198578\n",
            " 8.97655402 7.3790829  9.598482   8.15998319 7.13162397 6.76796253\n",
            " 7.43374407 9.01307515 7.31089382 5.84106731 9.14163949 8.81755844\n",
            " 6.45194313 8.83074505 9.34427428 6.88784639 8.04221254 7.69236805\n",
            " 7.92375877 8.42175924 8.2780624  7.11345716 6.40258841 8.47293632\n",
            " 7.97768459 7.46087219 7.43659353 9.18300525]\n"
          ]
        }
      ],
      "source": [
        "print(outputs)"
      ]
    },
    {
      "cell_type": "code",
      "execution_count": null,
      "metadata": {
        "id": "mLqTSRM3TmmI"
      },
      "outputs": [],
      "source": [
        "#Add new Inputs and Outputs\n",
        "new_inputs = np.array([[0.793186 ,0.690368, 0.62251,  0.773017, 0.254824, 0.624496, 0.115454, 0.048958],[0.630569 ,0.677336 ,0.191062 ,0.668676, 0.594854 ,0.154927 ,0.56569 , 0.020978], [0.76641 , 0.681154 ,0.269134 ,0.274721, 0.609851 ,0.953353 ,0.054115, 0.512674],[0.280766, 0.665901, 0.620377, 0.598931 ,0.618702, 0.891888 ,0.460581 ,0.935573],[0.548527, 0.476117, 0.588981, 0.581359, 0.483455, 0.504453, 0.731387, 0.528496],[0.584609, 0.766099, 0.572932, 0.449195, 0.583601, 0.593426, 0.702875, 0.555422]])\n",
        "new_outputs = np.array([7.42237181, 8.437596503, 8.489106001187901, 8.42846909,8.0578577334279,7.9345384064051, ])"
      ]
    },
    {
      "cell_type": "code",
      "execution_count": null,
      "metadata": {
        "colab": {
          "base_uri": "https://localhost:8080/"
        },
        "id": "sQIC-0daVIAB",
        "outputId": "e0ae5c16-0947-4d03-f880-6f98eb4fd6c3"
      },
      "outputs": [
        {
          "name": "stdout",
          "output_type": "stream",
          "text": [
            "[7.3987211  7.00522736 8.45948162 8.28400781 8.60611679 8.54174792\n",
            " 7.32743458 7.29987205 7.95787474 5.59219339 7.85454099 6.79198578\n",
            " 8.97655402 7.3790829  9.598482   8.15998319 7.13162397 6.76796253\n",
            " 7.43374407 9.01307515 7.31089382 5.84106731 9.14163949 8.81755844\n",
            " 6.45194313 8.83074505 9.34427428 6.88784639 8.04221254 7.69236805\n",
            " 7.92375877 8.42175924 8.2780624  7.11345716 6.40258841 8.47293632\n",
            " 7.97768459 7.46087219 7.43659353 9.18300525 7.42237181 8.4375965\n",
            " 8.489106   8.42846909 8.05785773 7.93453841]\n"
          ]
        }
      ],
      "source": [
        "inputs = np.append(inputs, new_inputs, axis = 0)\n",
        "outputs = np.append(outputs, new_outputs)\n",
        "print(outputs)"
      ]
    },
    {
      "cell_type": "code",
      "execution_count": null,
      "metadata": {
        "colab": {
          "base_uri": "https://localhost:8080/",
          "height": 487
        },
        "id": "QXoJ6-kjVLtK",
        "outputId": "d0f41dd3-7f22-42f7-e5e7-80210b58053e"
      },
      "outputs": [
        {
          "data": {
            "image/png": "[encoded data removed]",
            "text/plain": [
              "<Figure size 1000x500 with 1 Axes>"
            ]
          },
          "metadata": {},
          "output_type": "display_data"
        }
      ],
      "source": [
        "#Visualise New Outputs\n",
        "# Create indices for your outputs array\n",
        "indices = np.arange(len(outputs))\n",
        "\n",
        "plt.figure(figsize=(10, 5))  # Set the figure size\n",
        "plt.scatter(indices, outputs, color='blue', alpha=0.6)  # Create a scatter plot\n",
        "plt.title('Scatter Plot of Outputs')  # Set the title of the plot\n",
        "plt.xlabel('Index')  # Set the x-axis label\n",
        "plt.ylabel('Value')  # Set the y-axis label\n",
        "plt.grid(True)  # Enable grid to make the plot easier to read\n",
        "plt.show()  # Display the plot"
      ]
    },
    {
      "cell_type": "code",
      "execution_count": null,
      "metadata": {
        "colab": {
          "base_uri": "https://localhost:8080/"
        },
        "id": "zYWRLtkMVf7d",
        "outputId": "eb33a2b7-50e4-4203-97db-0fbb372cf1d1"
      },
      "outputs": [
        {
          "name": "stdout",
          "output_type": "stream",
          "text": [
            "Mean after standardization (should be close to 0): [ 6.30534272e-16  2.89623398e-17 -2.58850912e-16  2.75293073e-17\n",
            " -2.44973124e-16 -1.64119925e-16 -5.28562701e-16 -3.74096889e-17]\n",
            "Std after standardization (should be close to 1): [1. 1. 1. 1. 1. 1. 1. 1.]\n"
          ]
        },
        {
          "name": "stderr",
          "output_type": "stream",
          "text": [
            "/usr/local/lib/python3.10/dist-packages/botorch/models/utils/assorted.py:174: InputDataWarning: Input data is not contained to the unit cube. Please consider min-max scaling the input data.\n",
            "  warnings.warn(msg, InputDataWarning)\n",
            "/usr/local/lib/python3.10/dist-packages/botorch/models/utils/assorted.py:202: InputDataWarning: Input data is not standardized (mean = tensor([7.8561], dtype=torch.float64), std = tensor([0.9096], dtype=torch.float64)). Please consider scaling the input to zero mean and unit variance.\n",
            "  warnings.warn(msg, InputDataWarning)\n"
          ]
        },
        {
          "name": "stdout",
          "output_type": "stream",
          "text": [
            "(10_w,20)-aCMA-ES (mu_w=5.9,w_1=27%) in dimension 8 (seed=217674, Tue Jun 11 20:03:45 2024)\n",
            "Best solution: [[0.555615 0.500647 0.580021 0.592049 0.489088 0.525468 0.71452  0.518743]]\n"
          ]
        }
      ],
      "source": [
        "# Example data (replace with your actual inputs and outputs)\n",
        "N = 8  # Number of dimensions\n",
        "\n",
        "# Standardize the initial training data to zero mean and unit variance\n",
        "def standardize(X):\n",
        "    mean = X.mean(0)\n",
        "    std = X.std(0)\n",
        "    return (X - mean) / std, mean, std\n",
        "\n",
        "def unstandardize(X, mean, std):\n",
        "    return X * std + mean\n",
        "\n",
        "# Standardize inputs and verifyX_standardized, mean_X, std_X = standardize(inputs)\n",
        "print(\"Mean after standardization (should be close to 0):\", X_standardized.mean(0))\n",
        "print(\"Std after standardization (should be close to 1):\", X_standardized.std(0))\n",
        "\n",
        "\n",
        "# Convert to torch tensors\n",
        "train_X = torch.tensor(X_standardized, dtype=torch.double)\n",
        "train_Y = torch.tensor(outputs, dtype=torch.double).unsqueeze(-1)\n",
        "\n",
        "\n",
        "# Define the model\n",
        "model = SingleTaskGP(train_X, train_Y)\n",
        "mll = ExactMarginalLogLikelihood(model.likelihood, model)\n",
        "fit_gpytorch_mll(mll)\n",
        "\n",
        "# Define the acquisition function\n",
        "acq_func = UpperConfidenceBound(model, beta=0.05)\n",
        "\n",
        "# Define the objective for CMA-ES\n",
        "def objective(x):\n",
        "    x = torch.tensor(x, dtype=torch.double).unsqueeze(0)\n",
        "    x_standardized = (x - mean_X) / std_X  # Standardize the input\n",
        "    with torch.no_grad():\n",
        "        acq_value = acq_func(x_standardized)\n",
        "    return -acq_value.item()  # Negate because CMA-ES minimizes\n",
        "\n",
        "# Initialize CMA-ES\n",
        "es = cma.CMAEvolutionStrategy(train_X.mean(0).numpy(), 0.2, {'popsize': 20})\n",
        "\n",
        "# Optimization loop\n",
        "max_iter = 50  # Limit the number of iterations to avoid long runs\n",
        "for _ in range(max_iter):\n",
        "    solutions = es.ask()\n",
        "    values = [objective(x) for x in solutions]\n",
        "    es.tell(solutions, values)\n",
        "\n",
        "# Best solution\n",
        "best_solution = es.result.xbest\n",
        "best_solution = torch.tensor(best_solution, dtype=torch.double).unsqueeze(0)\n",
        "best_solution = unstandardize(best_solution, mean_X, std_X)\n",
        "\n",
        "# Print best solution with 6 decimal places\n",
        "best_solution_rounded = best_solution.numpy().round(6)\n",
        "\n",
        "print(f\"Best solution: {best_solution_rounded}\")\n"
      ]
    },
    {
      "cell_type": "code",
      "execution_count": null,
      "metadata": {
        "id": "gKRh7zwKVlzy"
      },
      "outputs": [],
      "source": []
    },
    {
      "cell_type": "markdown",
      "metadata": {
        "id": "OMcmpLgNKfde"
      },
      "source": [
        "## Change Log\n",
        "#### 16th May\n",
        "33/35 - using distance calculator\n",
        "\n",
        "#### 19th May\n",
        "33/37 - using distance calculator\n",
        "\n",
        "#### 11th June <br>\n",
        "Realise I have probably got the wrong settings at the outset and decide to get a bit more exploratory for a couple of weeks.  <br>\n",
        "<ul>Position 37/40<br>\n",
        "Change Beta from 0.05 <br>\n",
        "Keep Pop Size 20 <br>\n",
        "Set Sigma to 0.2 , from default of probably around 0.1</ul>\n"
      ]
    },
    {
      "cell_type": "markdown",
      "metadata": {
        "id": "dQ1b2CBL8FFp"
      },
      "source": [
        "## Things to think about:\n",
        "1.  Round output to six decimal places - DONE\n",
        "2.  Switch standardisation to prior to conversion Torch tensors - DONE\n",
        "3.   Consider modifying this code doesn't feel like this should be a numpy calculation feels like it should be a tensor - THIS CODE IS CORRECT IT SHOULD BE NUMPY\n",
        "\n",
        "```\n",
        "# # Initialize CMA-ES\n",
        "es = cma.CMAEvolutionStrategy(train_X_standardized.mean(0).numpy(), 0.1, {'popsize': 20})This is formatted as code\n",
        "```\n",
        "\n",
        "\n",
        "4.  In the code above look for ways to manage the exploitation and exploration\n",
        "\n"
      ]
    },
    {
      "cell_type": "markdown",
      "metadata": {
        "id": "ECjk3zVfLvT2"
      },
      "source": [
        "### Managing Exploitation vs Exploration\n",
        "\n",
        "The hyperparameters you should adjust to manage the exploration vs. exploitation trade-off are:\n",
        "\n",
        "1. **Beta in Upper Confidence Bound (UCB) Acquisition Function**:\n",
        "   - **Beta (`beta`)**: This parameter directly controls the balance between exploration and exploitation. A higher beta value increases the emphasis on exploration, while a lower beta value increases the emphasis on exploitation.\n",
        "   \n",
        "     ```python\n",
        "     acq_func = UpperConfidenceBound(model, beta=0.1)  # Adjust beta value here\n",
        "     ```\n",
        "\n",
        "2. **Population Size in CMA-ES**:\n",
        "   - **Population Size (`popsize`)**: This parameter affects the diversity of solutions considered in each iteration. A larger population size promotes more exploration, while a smaller population size can lead to quicker convergence (exploitation).\n",
        "\n",
        "     ```python\n",
        "     es = cma.CMAEvolutionStrategy(train_X.mean(0).numpy(), 0.1, {'popsize': 20})  # Adjust population size here\n",
        "     ```\n",
        "\n",
        "3. **Initial Step Size in CMA-ES**:\n",
        "   - **Sigma (`sigma`)**: This parameter defines the initial step size for the search. A larger sigma can encourage exploration by allowing larger jumps in the search space, whereas a smaller sigma promotes more local search (exploitation).\n",
        "\n",
        "     ```python\n",
        "     es = cma.CMAEvolutionStrategy(train_X.mean(0).numpy(), 0.1, {'popsize': 20})  # Adjust sigma value here\n",
        "     ```\n",
        "\n",
        "By tuning these hyperparameters, you can control the degree to which your optimization process favors exploration of new areas versus exploitation of known good areas.\n",
        "\n",
        "For example, increasing `beta` and `sigma`, and using a larger `popsize` will encourage more exploration, while decreasing these values will encourage exploitation. It is often useful to start with higher exploration values and gradually decrease them to focus on exploitation as the optimization progresses.\n",
        "\n",
        "When tuning the hyperparameters for balancing exploration and exploitation in Gaussian optimization, the ranges you should consider for `beta`, `popsize`, and `sigma` are as follows:\n",
        "\n",
        "### Beta (`beta`) for UCB Acquisition Function:\n",
        "- **Range**: Typically between **0.1** and **10**.\n",
        "- **Usage**:\n",
        "  - Lower values (e.g., **0.1 to 1**) focus more on exploitation, i.e., they favor points with high predicted mean values.\n",
        "  - Higher values (e.g., **1 to 10**) favor exploration by giving more weight to the uncertainty (variance) in the predictions.\n",
        "\n",
        "### Population Size (`popsize`) for CMA-ES:\n",
        "- **Range**: Generally between **5** and **50**, but can be larger depending on the problem complexity and dimensionality.\n",
        "- **Usage**:\n",
        "  - Smaller values (e.g., **5 to 10**) tend to focus more on exploitation, leading to faster convergence but potentially missing good solutions.\n",
        "  - Larger values (e.g., **20 to 50**) encourage more exploration by maintaining diversity in the candidate solutions.\n",
        "\n",
        "### Initial Step Size (`sigma`) for CMA-ES:\n",
        "- **Range**: Typically between **0.01** and **1**.\n",
        "- **Usage**:\n",
        "  - Smaller values (e.g., **0.01 to 0.1**) focus on fine-tuning and local search, favoring exploitation.\n",
        "  - Larger values (e.g., **0.1 to 1**) allow for broader search and exploration of the search space.\n",
        "\n",
        "### Recommended Starting Points:\n",
        "- **Beta (`beta`)**: Start with a moderate value, such as **1**. Adjust based on observed performance.\n",
        "  ```python\n",
        "  acq_func = UpperConfidenceBound(model, beta=1.0)\n",
        "  ```\n",
        "- **Population Size (`popsize`)**: Start with **20**. Increase if more exploration is needed.\n",
        "  ```python\n",
        "  es = cma.CMAEvolutionStrategy(train_X.mean(0).numpy(), 0.1, {'popsize': 20})\n",
        "  ```\n",
        "- **Initial Step Size (`sigma`)**: Start with **0.1**. Adjust based on convergence speed and solution diversity.\n",
        "  ```python\n",
        "  es = cma.CMAEvolutionStrategy(train_X.mean(0).numpy(), 0.1<-THIS IS SIGMA, {'popsize': 20})\n",
        "  ```\n",
        "\n",
        "### Fine-Tuning Strategy:\n",
        "1. **Start with a balanced configuration**: Choose moderate values for all parameters.\n",
        "2. **Monitor performance**: Observe how well the optimization process is converging and the diversity of solutions.\n",
        "3. **Adjust iteratively**:\n",
        "   - If the optimization is converging too quickly to local optima, increase `beta`, `popsize`, or `sigma`.\n",
        "   - If the optimization is not converging or is too slow, decrease these parameters to focus more on exploitation.\n",
        "\n",
        "By experimenting with these ranges and observing the results, you can fine-tune the hyperparameters to achieve the desired balance between exploration and exploitation for your specific optimization problem."
      ]
    },
    {
      "cell_type": "markdown",
      "metadata": {
        "id": "fCL_mFPCcsC-"
      },
      "source": [
        "### 15th June m_ START FROM HERE\n",
        "Turns out what I was doing with TURBO was wrong.  I was failing to set the local area to be optimised or tracking state of the function.  Now trying again following the tutorial.\n",
        "### Defines a data class to store the the state"
      ]
    },
    {
      "cell_type": "code",
      "execution_count": null,
      "metadata": {
        "id": "E9PVh1vhehjQ"
      },
      "outputs": [],
      "source": [
        "from dataclasses import dataclass\n",
        "import numpy as np\n",
        "import torch\n",
        "import math\n",
        "from botorch.generation import MaxPosteriorSampling\n",
        "from torch.quasirandom import SobolEngine\n",
        "import botorch\n",
        "import gpytorch\n",
        "import matplotlib.pyplot as plt\n"
      ]
    },
    {
      "cell_type": "code",
      "execution_count": null,
      "metadata": {
        "id": "DbCfSpwwcrxP"
      },
      "outputs": [],
      "source": [
        "# we define a dataclass for our state this is used to store the state of the area\n",
        "@dataclass\n",
        "class TurboState:\n",
        "    dim: int # dimension of the problem, aka input dimension\n",
        "    batch_size: int = 1 # we could do batch optimization, but the capstone only does one query at a time\n",
        "    length: float = 0.4 # the length of the current trust region\n",
        "    length_min: float = 0.25 ** 7 # minimum length for the trust region\n",
        "    length_max: float = 0.5 # maximum length for the trust region\n",
        "    failure_counter: int = 0 # initialize counter of the number of failures to improve on the best observation\n",
        "    failure_tolerance: int = float(\"nan\")  # Note: Post-initialized\n",
        "    success_counter: int = 0 # initialize counter of the number of success to improve on the best observation\n",
        "    success_tolerance: int = 10  # Note: The original paper uses 3, this is the number of successes in a row needed to expand the region\n",
        "    best_value: float = -float(\"inf\") # best value so far, initialized to be the infimum\n",
        "    restart_triggered: bool = False\n",
        "\n",
        "    # This method is automatically called after the dataclass is initialized. It sets the failure_tolerance attribute based on the dimension and batch size:\n",
        "    def __post_init__(self):\n",
        "        self.failure_tolerance = math.ceil(\n",
        "            max([4.0 / self.batch_size, float(self.dim) / self.batch_size]) # number of failures needed in a row to shrink the trust region\n",
        "        )\n",
        "\n",
        "# this updates the state depending on Y_next\n",
        "def update_state(state, Y_next):\n",
        "\n",
        "    # count if a success, otherwise a failure\n",
        "    if max(Y_next) > state.best_value + 1e-3 * math.fabs(state.best_value):\n",
        "        state.success_counter += 1\n",
        "        state.failure_counter = 0\n",
        "    else:\n",
        "        state.success_counter = 0\n",
        "        state.failure_counter += 1\n",
        "    # check if we need to expand or shrink the trust region\n",
        "    if state.success_counter == state.success_tolerance:  # Expand trust region\n",
        "        state.length = min(2.0 * state.length, state.length_max)\n",
        "        state.success_counter = 0\n",
        "    elif state.failure_counter == state.failure_tolerance:  # Shrink trust region\n",
        "        state.length /= 2.0\n",
        "        state.failure_counter = 0\n",
        "    # set the best value if we got a new observation\n",
        "    state.best_value = max(state.best_value, max(Y_next))\n",
        "    if state.length < state.length_min:\n",
        "        state.restart_triggered = True\n",
        "    return state"
      ]
    },
    {
      "cell_type": "markdown",
      "metadata": {
        "id": "fjxI5JPFfmhr"
      },
      "source": [
        "This defines a function to set the initial state from your previous run"
      ]
    },
    {
      "cell_type": "code",
      "execution_count": null,
      "metadata": {
        "id": "_NNirfSjflsD"
      },
      "outputs": [],
      "source": [
        "def create_initial_state(dim, batch_size=1, length=0.4, length_min=0.25**7, length_max=0.5, failure_counter = 0, success_counter=0, success_tolerance=10, best_value = 1, restart_triggered = False):\n",
        "    return TurboState(\n",
        "        dim=dim,\n",
        "        batch_size=batch_size,\n",
        "        length=length,\n",
        "        length_min=length_min,\n",
        "        length_max=length_max,\n",
        "        failure_counter=0,\n",
        "        success_counter=0,\n",
        "        success_tolerance=success_tolerance,\n",
        "        best_value=-float(\"inf\"),\n",
        "        restart_triggered=False\n",
        "    )\n",
        "\n"
      ]
    },
    {
      "cell_type": "markdown",
      "metadata": {
        "id": "atmjljZUfA5j"
      },
      "source": [
        "### This updates and prints the state\n",
        "It is important to record these variables after choosing a new query, and re-input, and update to the correct state when we receive new observations. An example of this will be given later. We can then define the TuRBO loop:"
      ]
    },
    {
      "cell_type": "code",
      "execution_count": null,
      "metadata": {
        "colab": {
          "base_uri": "https://localhost:8080/"
        },
        "id": "VgxYGfghfIYb",
        "outputId": "ee2a48b2-c4c0-4cae-c90d-9b1e5d22e77c"
      },
      "outputs": [
        {
          "output_type": "stream",
          "name": "stdout",
          "text": [
            "TurboState(dim=8, batch_size=1, length=0.3, length_min=6.103515625e-05, length_max=0.5, failure_counter=6, failure_tolerance=8, success_counter=0, success_tolerance=3, best_value=9.755085388342168, restart_triggered=False)\n"
          ]
        }
      ],
      "source": [
        "#Step 1 Re-initialise the State UPDATE PARAMETERS HERE\n",
        "state = TurboState(\n",
        "    dim=8,\n",
        "    batch_size=1,\n",
        "    length=0.3,\n",
        "    length_max=0.5,\n",
        "    success_tolerance=3,\n",
        "    failure_counter=5,\n",
        "    success_counter=0,\n",
        "    best_value= 9.755085388342168\n",
        ")\n",
        "\n",
        "#Step 2 Update the State with the new function PLACE NEw VALUE HERE\n",
        "y_next = [9.6783991984489]\n",
        "new_state = update_state(state, y_next)\n",
        "\n",
        "print(state)\n",
        "#Step 3 NOW append the new values!!!\n"
      ]
    },
    {
      "cell_type": "markdown",
      "metadata": {
        "id": "V5Huna8AhDFE"
      },
      "source": [
        "This code defines a function generate_batch that generates a new batch of candidate points for evaluation in a trust region optimization algorithm using Thompson sampling (TS) as the acquisition function.\n",
        "<ul>Adjusts the trust region based on the current best point and the GP model's lengthscales.<br>\n",
        "Generates candidate points within this trust region using a Sobol sequence and a perturbation mask.<br>\n",
        "Evaluates the GP model at these candidate points.<br>\n",
        "Uses Thompson sampling to select the best candidate point as the next point to evaluate.<br>\n",
        "This function helps guide the optimization process by suggesting new points to evaluate, balancing exploration and exploitation within the trust region.<br>\n",
        "The function uses a GPyTorch model as an input. A tutorial on how GPyTorch models can be used is found here: https://docs.gpytorch.ai/en/stable/examples/01_Exact_GPs/Simple_GP_Regression.html\n"
      ]
    },
    {
      "cell_type": "code",
      "execution_count": null,
      "metadata": {
        "id": "SSNCtTMwhOA8"
      },
      "outputs": [],
      "source": [
        "def generate_batch(\n",
        "    state,\n",
        "    model,  # GP model\n",
        "    X,  # Evaluated points on the domain [0, 1]^d\n",
        "    Y,  # Function values\n",
        "    batch_size = 1, # fix batch size to 1\n",
        "    n_candidates=None,  # Number of candidates for Thompson sampling\n",
        "    num_restarts=10,\n",
        "    raw_samples=512,\n",
        "    acqf=\"ts\",  # \"ei\" or \"ts\"\n",
        "):\n",
        "    assert acqf in (\"ts\")\n",
        "    assert X.min() >= 0.0 and X.max() <= 1.0 and torch.all(torch.isfinite(Y))\n",
        "    if n_candidates is None:\n",
        "        n_candidates = min(5000, max(2000, 200 * X.shape[-1]))\n",
        "\n",
        "    # Scale the trust region to be proportional to the lengthscales\n",
        "    x_center = X[Y.argmax(), :].clone()\n",
        "    weights = model.covar_module.base_kernel.lengthscale.squeeze().detach()\n",
        "    weights = weights / weights.mean()\n",
        "    weights = weights / torch.prod(weights.pow(1.0 / len(weights)))\n",
        "    tr_lb = torch.clamp(x_center - weights * state.length / 2.0, 0.0, 1.0)\n",
        "    tr_ub = torch.clamp(x_center + weights * state.length / 2.0, 0.0, 1.0)\n",
        "    # we focus only on thompson sampling as an acquisition function\n",
        "    if acqf == \"ts\":\n",
        "        dim = X.shape[-1]\n",
        "        sobol = SobolEngine(dim, scramble=True)\n",
        "        pert = sobol.draw(n_candidates)\n",
        "        pert = tr_lb + (tr_ub - tr_lb) * pert\n",
        "\n",
        "        # Create a perturbation mask\n",
        "        prob_perturb = min(10.0 / dim, 1.0)\n",
        "        mask = (\n",
        "            torch.rand(n_candidates, dim)\n",
        "            <= prob_perturb\n",
        "        )\n",
        "        ind = torch.where(mask.sum(dim=1) == 0)[0]\n",
        "        mask[ind, torch.randint(0, dim - 1, size=(len(ind),))] = 1\n",
        "\n",
        "        # Create candidate points from the perturbations and the mask\n",
        "        X_cand = x_center.expand(n_candidates, dim).clone()\n",
        "        X_cand[mask] = pert[mask]\n",
        "\n",
        "        # Sample on the candidate points\n",
        "        # set model to evaluation mode\n",
        "        model.eval()\n",
        "        posterior_distribution = model(X_cand)\n",
        "        with torch.no_grad():  # We don't need gradients when using TS\n",
        "            posterior_sample = posterior_distribution.sample()\n",
        "            X_next_idx = torch.argmax(posterior_sample)\n",
        "            X_next = X_cand[X_next_idx]\n",
        "\n",
        "    return X_next"
      ]
    },
    {
      "cell_type": "markdown",
      "metadata": {
        "id": "Lvoh2JO1j-6c"
      },
      "source": [
        "The below ExactGPModel class defines a Gaussian Process model with the following characteristics:\n",
        "\n",
        "* It uses a constant mean function, which assumes a constant mean across the input space.\n",
        "* It employs an RBF kernel with ARD, allowing different length scales for each input dimension.\n",
        "* It wraps the RBF kernel with a scale kernel to scale the kernel output.\n",
        "* The number of training iterations for hyper-parameter optimization is set to 200.<br>\n",
        "* The forward method specifies how to compute the GP's predictive distribution given new input points.\n",
        "\n"
      ]
    },
    {
      "cell_type": "code",
      "execution_count": null,
      "metadata": {
        "id": "j5dWiiCWiI88"
      },
      "outputs": [],
      "source": [
        "# we use the model given in the tutorial, we also add the hyper-parameter training as a method\n",
        "class ExactGPModel(gpytorch.models.ExactGP):\n",
        "    def __init__(self, train_x, train_y, likelihood):\n",
        "        super(ExactGPModel, self).__init__(train_x, train_y, likelihood)\n",
        "        # set a constant mean\n",
        "        self.mean_module = gpytorch.means.ConstantMean()\n",
        "        # use a simple RBF kernel with constant scaling\n",
        "        self.covar_module = gpytorch.kernels.ScaleKernel(gpytorch.kernels.RBFKernel(ard_num_dims=train_x.shape[1]))\n",
        "        # set number of hyper-parameter training iterations\n",
        "        self.training_iter = 200\n",
        "\n",
        "    def forward(self, x):\n",
        "        mean_x = self.mean_module(x)\n",
        "        covar_x = self.covar_module(x)\n",
        "        return gpytorch.distributions.MultivariateNormal(mean_x, covar_x)"
      ]
    },
    {
      "cell_type": "code",
      "execution_count": null,
      "metadata": {
        "colab": {
          "base_uri": "https://localhost:8080/"
        },
        "id": "2ARdVsh0kn87",
        "outputId": "77f49829-6f66-4dca-a81a-6414470fc004"
      },
      "outputs": [
        {
          "output_type": "stream",
          "name": "stdout",
          "text": [
            "40 40 80\n",
            "40 40 80\n"
          ]
        }
      ],
      "source": [
        "# Mount Drive manually using folder icon menu in colab notebook and then G Drive icon\n",
        "# Get initial Values\n",
        "inputs1 = np.load('/content/drive/My Drive/Imperial ML Course/Capstone Competition/function_8/initial_inputs.npy')\n",
        "outputs1 = np.load('/content/drive/My Drive/Imperial ML Course/Capstone Competition/function_8/initial_outputs.npy')\n",
        "inputs2 = np.load('/content/drive/My Drive/Imperial ML Course/Capstone Competition/function_8/initial_inputs2.npy')\n",
        "outputs2 = np.load('/content/drive/My Drive/Imperial ML Course/Capstone Competition/function_8/initial_outputs2.npy')\n",
        "\n",
        "# Concatenate inputs and outputs\n",
        "inputs = np.concatenate((inputs1, inputs2), axis=0)\n",
        "outputs = np.concatenate((outputs1, outputs2), axis=0)\n",
        "\n",
        "\n",
        "#Import check\n",
        "print(len(inputs1),len(inputs2),len(inputs))\n",
        "print(len(outputs1),len(outputs2),len(outputs))\n"
      ]
    },
    {
      "cell_type": "code",
      "execution_count": null,
      "metadata": {
        "colab": {
          "base_uri": "https://localhost:8080/"
        },
        "id": "-i4tIajAlvju",
        "outputId": "360b499e-e171-4349-d781-6678cd1f9b81"
      },
      "outputs": [
        {
          "output_type": "stream",
          "name": "stdout",
          "text": [
            "[7.3987211  7.00522736 8.45948162 8.28400781 8.60611679 8.54174792\n",
            " 7.32743458 7.29987205 7.95787474 5.59219339 7.85454099 6.79198578\n",
            " 8.97655402 7.3790829  9.598482   8.15998319 7.13162397 6.76796253\n",
            " 7.43374407 9.01307515 7.31089382 5.84106731 9.14163949 8.81755844\n",
            " 6.45194313 8.83074505 9.34427428 6.88784639 8.04221254 7.69236805\n",
            " 7.92375877 8.42175924 8.2780624  7.11345716 6.40258841 8.47293632\n",
            " 7.97768459 7.46087219 7.43659353 9.18300525 7.38153659 6.21406582\n",
            " 8.34373778 8.20235493 7.0175736  8.15436185 8.59988062 7.41496438\n",
            " 6.35307753 7.04891614 8.83964993 9.75508539 9.069804   8.33091139\n",
            " 9.08235861 9.06259425 7.88211016 6.8055637  9.22168616 8.57638926\n",
            " 6.45101025 8.95855365 8.30868114 9.23898119 7.41316123 8.28986748\n",
            " 8.14792352 6.56627417 8.64815107 8.10407818 8.67513919 8.73943795\n",
            " 7.55172428 8.25528511 6.61336583 6.03732966 6.86721166 7.03597564\n",
            " 7.47931514 5.15380413 7.42237181 8.4375965  8.489106   8.42846909\n",
            " 8.05785773 7.93453841 9.4501783  9.58329967 9.7287419  9.6792215\n",
            " 9.69379307 9.69489863 9.6783992 ]\n",
            "9.755085388342168\n"
          ]
        }
      ],
      "source": [
        "#Add new Inputs and Outputs\n",
        "new_inputs = np.array([[0.793186 ,0.690368, 0.62251,  0.773017, 0.254824, 0.624496, 0.115454, 0.048958],[0.630569 ,0.677336 ,0.191062 ,0.668676, 0.594854 ,0.154927 ,0.56569 , 0.020978], [0.76641 , 0.681154 ,0.269134 ,0.274721, 0.609851 ,0.953353 ,0.054115, 0.512674],[0.280766, 0.665901, 0.620377, 0.598931 ,0.618702, 0.891888 ,0.460581 ,0.935573],[0.548527, 0.476117, 0.588981, 0.581359, 0.483455, 0.504453, 0.731387, 0.528496],[0.584609, 0.766099, 0.572932, 0.449195, 0.583601, 0.593426, 0.702875, 0.555422],[0.225493, 0.258548, 0.203239, 0.214666, 0.450381, 0.626126, 0.651202, 0.744136],[0.232844, 0.255303, 0.136991, 0.221564, 0.59723,  0.632976, 0.60138,  0.814389],[0.119858, 0.215834, 0.164473, 0.132299, 0.401466, 0.801033 ,0.412237 ,0.74602 ],[0.171321 ,0.207121, 0.321749, 0.161845, 0.330898, 0.481808, 0.406726, 0.703364],[0.152954, 0.156845, 0.268139, 0.147864, 0.261787, 0.505364, 0.420783, 0.697183],[0.179106, 0.243388 ,0.287803 ,0.157738 ,0.379374 ,0.504868, 0.443346, 0.747578], [0.171192, 0.231361, 0.228502, 0.16474,  0.298222, 0.511386, 0.47148,  0.744789]])\n",
        "new_outputs = np.array([7.42237181, 8.437596503, 8.489106001187901, 8.42846909,8.0578577334279,7.9345384064051, 9.4501783019649,9.583299667,9.728741901483,9.6792214983814,9.6937930723766,9.6948986345106,9.6783991984489])\n",
        "\n",
        "inputs = np.append(inputs, new_inputs, axis = 0)\n",
        "outputs = np.append(outputs, new_outputs)\n",
        "print(outputs)\n",
        "print(np.max(outputs))"
      ]
    },
    {
      "cell_type": "code",
      "execution_count": null,
      "metadata": {
        "colab": {
          "base_uri": "https://localhost:8080/",
          "height": 487
        },
        "id": "2GsYVV9gmmxa",
        "outputId": "40734741-beb9-43be-e53a-72705f3f3866"
      },
      "outputs": [
        {
          "output_type": "display_data",
          "data": {
            "text/plain": [
              "<Figure size 1000x500 with 1 Axes>"
            ],
            "image/png": "[encoded data removed]"
          },
          "metadata": {}
        }
      ],
      "source": [
        "#Visualise New Outputs\n",
        "# Create indices for your outputs array\n",
        "indices = np.arange(len(outputs))\n",
        "\n",
        "plt.figure(figsize=(10, 5))  # Set the figure size\n",
        "plt.scatter(indices, outputs, color='blue', alpha=0.6)  # Create a scatter plot\n",
        "plt.title('Scatter Plot of Outputs')  # Set the title of the plot\n",
        "plt.xlabel('Index')  # Set the x-axis label\n",
        "plt.ylabel('Value')  # Set the y-axis label\n",
        "plt.grid(True)  # Enable grid to make the plot easier to read\n",
        "plt.show()  # Display the plot"
      ]
    },
    {
      "cell_type": "code",
      "execution_count": null,
      "metadata": {
        "id": "zlijW3AamtZz"
      },
      "outputs": [],
      "source": [
        "\n",
        "\n",
        "# Convert to torch tensors\n",
        "train_X = torch.from_numpy(inputs).to(torch.float32)\n",
        "train_Y = torch.from_numpy(outputs).to(torch.float32)\n"
      ]
    },
    {
      "cell_type": "markdown",
      "metadata": {
        "id": "LMcKNLN6q7Uq"
      },
      "source": [
        "This function sets up and trains a GP model with a Gaussian likelihood using the gpytorch library. The key steps include:\n",
        "\n",
        "* Initializing the likelihood and model.\n",
        "* Setting the model and likelihood to training mode.\n",
        "* Setting up the Adam optimizer.\n",
        "* Defining the marginal log likelihood as the loss function.\n",
        "* Running a training loop for a specified number of iterations, where in each iteration:\n",
        "* Gradients are zeroed.\n",
        "* The model makes predictions on the training data.\n",
        "* The negative log likelihood loss is computed and backpropagated.\n",
        "* Model parameters are updated using the Adam optimizer."
      ]
    },
    {
      "cell_type": "code",
      "execution_count": null,
      "metadata": {
        "id": "rqUat2NYo4cL"
      },
      "outputs": [],
      "source": [
        "def next_query_via_TurBO(train_x, train_y, turbo_state, verbose = False):\n",
        "    likelihood = gpytorch.likelihoods.GaussianLikelihood()\n",
        "    model = ExactGPModel(train_x, train_y, likelihood)\n",
        "\n",
        "    model.train()\n",
        "    likelihood.train()\n",
        "\n",
        "    # Use the adam optimizer\n",
        "    optimizer = torch.optim.Adam(model.parameters(), lr=0.1)  # Includes GaussianLikelihood parameters\n",
        "\n",
        "    # \"Loss\" for GPs - the marginal log likelihood\n",
        "    mll = gpytorch.mlls.ExactMarginalLogLikelihood(likelihood, model)\n",
        "\n",
        "\n",
        "    for i in range(model.training_iter):\n",
        "        # Zero gradients from previous iteration\n",
        "        optimizer.zero_grad()\n",
        "        # Output from model\n",
        "        output = model(train_X)\n",
        "        # Calc loss and backprop gradients\n",
        "        print(output)\n",
        "        print(train_Y.dtype)\n",
        "        break\n",
        "        loss = -mll(output, train_Y)\n",
        "        loss.backward()\n",
        "        if i % 10 == 9:\n",
        "            print(f'Iter %d/%d - Loss: %.6f   lengthscale: {model.covar_module.base_kernel.lengthscale.detach()}   noise: %.6f' % (\n",
        "                i + 1, model.training_iter, loss.item(),\n",
        "                model.likelihood.noise.item()\n",
        "            ))\n",
        "        optimizer.step()\n",
        "\n",
        "    return generate_batch(turbo_state, model = model, X = train_x, Y = train_y)"
      ]
    },
    {
      "cell_type": "code",
      "execution_count": null,
      "metadata": {
        "colab": {
          "base_uri": "https://localhost:8080/"
        },
        "id": "r5I8_XciKEkE",
        "outputId": "c43c3e24-30b7-4228-f99d-305b0d2066a2"
      },
      "outputs": [
        {
          "output_type": "stream",
          "name": "stdout",
          "text": [
            "9.755085388342168\n"
          ]
        }
      ],
      "source": [
        "print(np.max(outputs))"
      ]
    },
    {
      "cell_type": "code",
      "execution_count": null,
      "metadata": {
        "id": "PqyxocRIHKae"
      },
      "outputs": [],
      "source": []
    },
    {
      "cell_type": "code",
      "execution_count": null,
      "metadata": {
        "colab": {
          "base_uri": "https://localhost:8080/"
        },
        "id": "9r3zCt7krsmW",
        "outputId": "ce733936-afe0-429d-9e29-36e3fb05d5ff"
      },
      "outputs": [
        {
          "output_type": "stream",
          "name": "stdout",
          "text": [
            "MultivariateNormal(loc: torch.Size([93]))\n",
            "torch.float32\n"
          ]
        },
        {
          "output_type": "stream",
          "name": "stderr",
          "text": [
            "/usr/local/lib/python3.10/dist-packages/linear_operator/utils/cholesky.py:40: NumericalWarning: A not p.d., added jitter of 1.0e-06 to the diagonal\n",
            "  warnings.warn(\n",
            "/usr/local/lib/python3.10/dist-packages/linear_operator/utils/cholesky.py:40: NumericalWarning: A not p.d., added jitter of 1.0e-05 to the diagonal\n",
            "  warnings.warn(\n",
            "/usr/local/lib/python3.10/dist-packages/linear_operator/utils/cholesky.py:40: NumericalWarning: A not p.d., added jitter of 1.0e-04 to the diagonal\n",
            "  warnings.warn(\n"
          ]
        },
        {
          "output_type": "stream",
          "name": "stdout",
          "text": [
            "Next chosen query: 0.161232-0.153123-0.131289-0.152186-0.414921-0.465680-0.451768-0.687693\n",
            "TurboState(dim=8, batch_size=1, length=0.3, length_min=6.103515625e-05, length_max=0.5, failure_counter=6, failure_tolerance=8, success_counter=0, success_tolerance=3, best_value=9.755085388342168, restart_triggered=False)\n"
          ]
        }
      ],
      "source": [
        "#Step 4 Run the next Query Function\n",
        "next_query = next_query_via_TurBO(train_x=train_X, train_y=train_Y, turbo_state=state)\n",
        "formatted_query = [f'{item:.6f}' for item in next_query]\n",
        "formatted_output = f'{formatted_query[0]}-{formatted_query[1]}-{formatted_query[2]}-{formatted_query[3]}-{formatted_query[4]}-{formatted_query[5]}-{formatted_query[6]}-{formatted_query[7]}'\n",
        "print(f'Next chosen query: {formatted_output}')\n",
        "print(state)\n",
        "# Step 5 Record the state so you can do it again"
      ]
    },
    {
      "cell_type": "markdown",
      "metadata": {
        "id": "LasyAMWdwUcu"
      },
      "source": [
        "Entry 15th Jun: <br>MultivariateNormal(loc: torch.Size([46]))\n",
        "torch.float32\n",
        "Next chosen query: 0.225493-0.258548-0.203239-0.214666-0.450381-0.626126-0.651202-0.744136\n",
        "TurboState(dim=8, batch_size=1, length=0.4, length_min=6.103515625e-05, length_max=0.5, failure_counter=0, failure_tolerance=8, success_counter=0, success_tolerance=10, best_value=-inf, restart_triggered=False)"
      ]
    },
    {
      "cell_type": "markdown",
      "metadata": {
        "id": "IXPLE2WqN6Eu"
      },
      "source": [
        "Entry 20th June - this is a restart <br>\n",
        "Next chosen query: 0.232844-0.255303-0.136991-0.221564-0.597230-0.632976-0.601380-0.814389\n",
        "TurboState(dim=8, batch_size=1, length=0.4, length_min=6.103515625e-05, length_max=0.5, failure_counter=0, failure_tolerance=8, success_counter=0, success_tolerance=10, best_value=-inf, restart_triggered=False)\n"
      ]
    },
    {
      "cell_type": "markdown",
      "metadata": {
        "id": "4M--lctsNnU3"
      },
      "source": [
        "Entry 23rd June<br>\n",
        "Next chosen query: 0.119858-0.215834-0.164473-0.132299-0.401466-0.801033-0.412237-0.746020\n",
        "TurboState(dim=8, batch_size=1, length=0.3, length_min=6.103515625e-05, length_max=0.5, failure_counter=1, failure_tolerance=8, success_counter=0, success_tolerance=3, best_value=9.598482002566342, restart_triggered=False)\n"
      ]
    },
    {
      "cell_type": "markdown",
      "metadata": {
        "id": "7s05rRzUzlqx"
      },
      "source": [
        "Steps to run the TURBO loop:\n",
        "1. Re initialise the state based on the last run using create_inital State function\n",
        "2.  Update the state with the update state function using the new result\n",
        "3.  Append the last round of input values and results into the arrays\n",
        "4.  Run the next query function to get the next query\n",
        "5. Record the state that comes out so you can do it again"
      ]
    },
    {
      "cell_type": "markdown",
      "metadata": {
        "id": "zIVWU4EpJMmo"
      },
      "source": [
        "### 20th June\n",
        "* realised I had got it wrong when I ran it for the first time by failed to initialise the state with a best value.\n",
        "* Learning need to make sure understand the process completely"
      ]
    },
    {
      "cell_type": "markdown",
      "metadata": {
        "id": "zWy8i6lb3NpZ"
      },
      "source": [
        "Entry 7th July <br>\n",
        "Next chosen query: 0.171321-0.207121-0.321749-0.161845-0.330898-0.481808-0.406726-0.703364\n",
        "TurboState(dim=8, batch_size=1, length=0.3, length_min=6.103515625e-05, length_max=0.5, failure_counter=2, failure_tolerance=8, success_counter=0, success_tolerance=3, best_value=9.755085388342168, restart_triggered=False)\n"
      ]
    },
    {
      "cell_type": "markdown",
      "metadata": {
        "id": "P7DeVkFGJKRh"
      },
      "source": [
        "Entry 11th July<br>\n",
        "Next chosen query: 0.152954-0.156845-0.268139-0.147864-0.261787-0.505364-0.420783-0.697183\n",
        "TurboState(dim=8, batch_size=1, length=0.3, length_min=6.103515625e-05, length_max=0.5, failure_counter=3, failure_tolerance=8, success_counter=0, success_tolerance=3, best_value=9.755085388342168, restart_triggered=False)\n"
      ]
    },
    {
      "cell_type": "markdown",
      "source": [
        "Entry 13th July<br>\n",
        "Next chosen query: 0.179106-0.243388-0.287803-0.157738-0.379374-0.504868-0.443346-0.747578\n",
        "TurboState(dim=8, batch_size=1, length=0.3, length_min=6.103515625e-05, length_max=0.5, failure_counter=4, failure_tolerance=8, success_counter=0, success_tolerance=3, best_value=9.755085388342168, restart_triggered=False)\n"
      ],
      "metadata": {
        "id": "tS0JDVypMu0P"
      }
    },
    {
      "cell_type": "markdown",
      "source": [
        "Entry 17th July<br>\n",
        "* Reduced prob_perturb = min(10.0 / dim, 1.0)  # Lower probability for more exploitation.  This is in the generate_batch function<br>\n",
        "<br>Next chosen query: 0.171192-0.231361-0.228502-0.164740-0.298222-0.511386-0.471480-0.744789\n",
        "TurboState(dim=8, batch_size=1, length=0.3, length_min=6.103515625e-05, length_max=0.5, failure_counter=5, failure_tolerance=8, success_counter=0, success_tolerance=3, best_value=9.755085388342168, restart_triggered=False)\n",
        "\n"
      ],
      "metadata": {
        "id": "5gQUv7Zx1VWQ"
      }
    },
    {
      "cell_type": "markdown",
      "source": [
        "Entry 21st July<br>\n",
        "Next chosen query: 0.161232-0.153123-0.131289-0.152186-0.414921-0.465680-0.451768-0.687693\n",
        "TurboState(dim=8, batch_size=1, length=0.3, length_min=6.103515625e-05, length_max=0.5, failure_counter=6, failure_tolerance=8, success_counter=0, success_tolerance=3, best_value=9.755085388342168, restart_triggered=False)\n"
      ],
      "metadata": {
        "id": "leWo7KouEJ1o"
      }
    },
    {
      "cell_type": "code",
      "source": [],
      "metadata": {
        "id": "hqh2_nxox1xz"
      },
      "execution_count": null,
      "outputs": []
    }
  ],
  "metadata": {
    "colab": {
      "provenance": []
    },
    "kernelspec": {
      "display_name": "Python 3",
      "name": "python3"
    },
    "language_info": {
      "name": "python"
    }
  },
  "nbformat": 4,
  "nbformat_minor": 0
}